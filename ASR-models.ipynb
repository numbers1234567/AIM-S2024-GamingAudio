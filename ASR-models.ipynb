{
 "cells": [
  {
   "cell_type": "code",
   "execution_count": null,
   "metadata": {},
   "outputs": [],
   "source": [
    "# whisper tiny model, trained more\n",
    "from transformers import pipeline\n",
    "\n",
    "pipe = pipeline(\"automatic-speech-recognition\", model=\"openai/whisper-tiny\")\n",
    "import librosa\n",
    "\n",
    "array, sampling_rate = librosa.load(\"C:\\\\Users\\\\User\\\\Downloads\\\\angelo-clap2.mp3\")\n"
   ]
  },
  {
   "cell_type": "code",
   "execution_count": null,
   "metadata": {},
   "outputs": [],
   "source": [
    "# Sew-d-tiny model, faster than whisper\n",
    "from transformers import pipeline\n",
    "\n",
    "pipe = pipeline(\"automatic-speech-recognition\", model=\"asapp/sew-d-tiny-100k-ft-ls100h\")\n",
    "import librosa\n",
    "\n",
    "array, sampling_rate = librosa.load(\"C:\\\\Users\\\\User\\\\Downloads\\\\angelo-clap1.mp3\")"
   ]
  },
  {
   "cell_type": "code",
   "execution_count": null,
   "metadata": {},
   "outputs": [],
   "source": [
    "pipe({\"path\" : \"\" , \"array\" : array, \"sampling_rate\" : sampling_rate})"
   ]
  }
 ],
 "metadata": {
  "kernelspec": {
   "display_name": "aim",
   "language": "python",
   "name": "python3"
  },
  "language_info": {
   "name": "python",
   "version": "3.8.18"
  }
 },
 "nbformat": 4,
 "nbformat_minor": 2
}
