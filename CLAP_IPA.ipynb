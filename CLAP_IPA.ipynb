{
 "cells": [
  {
   "cell_type": "code",
   "execution_count": 77,
   "metadata": {},
   "outputs": [
    {
     "data": {
      "text/plain": [
       "array([-8.9143455e-08,  2.3081616e-06,  4.6085488e-06, ...,\n",
       "        2.3047534e-05, -2.9918798e-05, -7.1172952e-05], dtype=float32)"
      ]
     },
     "execution_count": 77,
     "metadata": {},
     "output_type": "execute_result"
    }
   ],
   "source": [
    "# https://github.com/lingjzhu/clap-ipa/tree/main\n",
    "import librosa\n",
    "import numpy as np\n",
    "clap_ipa_sr = 16000\n",
    "some_audio,sampling_rate = librosa.load(\"tutorials/audio-samples/angelo-reloading.mp3\")\n",
    "some_ipa_string = \"ˌriːˈləʊdɪŋ\"\n",
    "some_audio = librosa.resample(some_audio, orig_sr=sampling_rate, target_sr=16000)\n",
    "sampling_rate = 16000\n",
    "some_audio"
   ]
  },
  {
   "cell_type": "code",
   "execution_count": 78,
   "metadata": {},
   "outputs": [
    {
     "name": "stderr",
     "output_type": "stream",
     "text": [
      "Special tokens have been added in the vocabulary, make sure the associated word embeddings are fine-tuned or trained.\n"
     ]
    },
    {
     "name": "stdout",
     "output_type": "stream",
     "text": [
      "0.020133018493652344\n"
     ]
    },
    {
     "data": {
      "text/plain": [
       "tensor([0.0865])"
      ]
     },
     "execution_count": 78,
     "metadata": {},
     "output_type": "execute_result"
    }
   ],
   "source": [
    "import sys \n",
    "sys.path.append(\"./clap-ipa\")\n",
    "from clap.encoders import *\n",
    "import torch.nn.functional as F\n",
    "from transformers import DebertaV2Tokenizer, AutoProcessor\n",
    "\n",
    "device = torch.device(\"cuda\" if torch.cuda.is_available() else \"cpu\")\n",
    "\n",
    "speech_encoder = SpeechEncoder.from_pretrained('anyspeech/clap-ipa-tiny-speech')\n",
    "phone_encoder = PhoneEncoder.from_pretrained('anyspeech/clap-ipa-tiny-phone')\n",
    "phone_encoder.eval().to(device)\n",
    "speech_encoder.eval().to(device)\n",
    "\n",
    "tokenizer = DebertaV2Tokenizer.from_pretrained('charsiu/IPATokenizer')\n",
    "processor = AutoProcessor.from_pretrained('openai/whisper-tiny')\n",
    "\n",
    "import time\n",
    "start = time.time()\n",
    "audio_input = processor(some_audio,return_attention_mask=True,sampling_rate=16000,max_length=32000,return_tensors='pt')\n",
    "ipa_input = tokenizer(some_ipa_string,return_token_type_ids=False, return_tensors='pt')\n",
    "with torch.no_grad():\n",
    "   speech_embed = speech_encoder(**audio_input).pooler_output\n",
    "   phone_embed = phone_encoder(**ipa_input).pooler_output\n",
    "\n",
    "similarity = F.cosine_similarity(speech_embed,phone_embed,dim=-1)\n",
    "print(time.time()-start)\n",
    "similarity"
   ]
  }
 ],
 "metadata": {
  "kernelspec": {
   "display_name": "AIM-S2024-AudioGaming",
   "language": "python",
   "name": "python3"
  },
  "language_info": {
   "codemirror_mode": {
    "name": "ipython",
    "version": 3
   },
   "file_extension": ".py",
   "mimetype": "text/x-python",
   "name": "python",
   "nbconvert_exporter": "python",
   "pygments_lexer": "ipython3",
   "version": "3.11.8"
  }
 },
 "nbformat": 4,
 "nbformat_minor": 2
}
