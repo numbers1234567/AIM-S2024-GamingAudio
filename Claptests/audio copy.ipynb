{
 "cells": [
  {
   "cell_type": "code",
   "execution_count": null,
   "metadata": {},
   "outputs": [],
   "source": [
    "from msclap import CLAP\n",
    "import torch.nn.functional as F\n",
    "import gradio as gr"
   ]
  },
  {
   "cell_type": "code",
   "execution_count": null,
   "metadata": {},
   "outputs": [],
   "source": [
    "# Define classes for zero-shot\n",
    "# Should be in lower case and can be more than one word\n",
    "classes = ['clap','clapping','snapping', 'snap', 'smack', 'talking', 'speaking', 'voice']\n",
    "ground_truth = ['clapping']\n",
    "# Add prompt\n",
    "prompt = 'this is a sound of '\n",
    "class_prompts = [prompt + x for x in classes]\n",
    "file = ['tutorials/audio-samples/angelo-clap1.mp3']"
   ]
  },
  {
   "cell_type": "code",
   "execution_count": null,
   "metadata": {},
   "outputs": [],
   "source": [
    "def result_to_str(values, indices):\n",
    "    str = list()\n",
    "    for values, indices in zip(values, indices):\n",
    "        str.append(f\"{classes[index]:>16s}: {100 * values.item():.2f}%\")\n",
    "    return str\n"
   ]
  },
  {
   "cell_type": "code",
   "execution_count": null,
   "metadata": {},
   "outputs": [],
   "source": [
    "def print_result(strlist):\n",
    "    #Print the results\n",
    "    print(\"Ground Truth: {}\".format(ground_truth))\n",
    "    print(\"Top predictions:\\n\")\n",
    "    print(strlist)\n",
    "    "
   ]
  },
  {
   "cell_type": "code",
   "execution_count": null,
   "metadata": {},
   "outputs": [],
   "source": [
    "def classify(audio_files):\n",
    "    # Load and initialize CLAP\n",
    "    # Setting use_cuda = True will load the model on a GPU using CUDA  \n",
    "    clap_model = CLAP(version= '2023', use_cuda= False)\n",
    "    \n",
    "    # compute text embeddings from natural text\n",
    "    text_embeddings = clap_model.get_text_embeddings(class_prompts)\n",
    "    \n",
    "    # compute the audio embeddings from an audio file\n",
    "    audio_embeddings = clap_model.get_audio_embeddings(audio_files, resample=True)\n",
    "    \n",
    "    # compute the similarity between audio_embeddings and text_embeddings\n",
    "    similarity = clap_model.compute_similarity(audio_embeddings, text_embeddings)\n",
    "\n",
    "    similarity = F.softmax(similarity, dim=1)\n",
    "    values, indices = similarity[0].topk(5)\n",
    "    \n",
    "    print_result(values, indices)\n",
    "    \n",
    "    return result_to_str(values, indices)\n",
    "    \n",
    "    "
   ]
  },
  {
   "cell_type": "code",
   "execution_count": null,
   "metadata": {},
   "outputs": [],
   "source": [
    "test = classify(file)"
   ]
  },
  {
   "cell_type": "code",
   "execution_count": null,
   "metadata": {},
   "outputs": [],
   "source": [
    "print(test)"
   ]
  },
  {
   "cell_type": "code",
   "execution_count": null,
   "metadata": {},
   "outputs": [],
   "source": [
    "def transcribe(audio):\n",
    "    output = classify(audio,labels=[\"snap\",\"snapping\",\"clap\",\"clapping\",\"talking\",\"voice\"])[\"text\"]\n",
    "    return output"
   ]
  },
  {
   "cell_type": "code",
   "execution_count": null,
   "metadata": {},
   "outputs": [],
   "source": [
    "gr.Interface(\n",
    "    fn=classify,\n",
    "    inputs=[gr.Audio(sources=\"microphone\",type=\"filepath\")],\n",
    "    outputs=[\"textbox\"],\n",
    "    live=True).launch()"
   ]
  }
 ],
 "metadata": {
  "kernelspec": {
   "display_name": "AIM",
   "language": "python",
   "name": "python3"
  },
  "language_info": {
   "codemirror_mode": {
    "name": "ipython",
    "version": 3
   },
   "file_extension": ".py",
   "mimetype": "text/x-python",
   "name": "python",
   "nbconvert_exporter": "python",
   "pygments_lexer": "ipython3",
   "version": "3.11.8"
  }
 },
 "nbformat": 4,
 "nbformat_minor": 2
}
