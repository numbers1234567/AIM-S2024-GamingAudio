{
 "cells": [
  {
   "cell_type": "code",
   "execution_count": 1,
   "metadata": {},
   "outputs": [],
   "source": [
    "#install following libraries:\n",
    "#   CLAP: pip install msclap        //requires python version 3.11\n",
    "\n",
    "from msclap import CLAP\n",
    "import torch.nn.functional as F\n"
   ]
  },
  {
   "cell_type": "code",
   "execution_count": 2,
   "metadata": {},
   "outputs": [],
   "source": [
    "# Load and initialize CLAP\n",
    "# Setting use_cuda = True will load the model on a GPU using CUDA\n",
    "clap_model = CLAP(version = '2023', use_cuda=False)"
   ]
  },
  {
   "cell_type": "code",
   "execution_count": 3,
   "metadata": {},
   "outputs": [],
   "source": [
    "# Define classes for zero-shot\n",
    "# Should be in lower case and can be more than one word\n",
    "classes = ['clap','clapping','snapping', 'snap', 'smack', 'talking', 'speaking', 'voice']\n",
    "ground_truth = ['clapping']\n",
    "# Add prompt\n",
    "prompt = 'this is a sound of '\n",
    "class_prompts = [prompt + x for x in classes]\n",
    "\n",
    "# compute text embeddings from natural text\n",
    "text_embeddings = clap_model.get_text_embeddings(class_prompts)"
   ]
  },
  {
   "cell_type": "code",
   "execution_count": 5,
   "metadata": {},
   "outputs": [],
   "source": [
    "#Load audio files\n",
    "audio_files = ['tutorials/audio-samples/angelo-clap1.mp3']\n",
    "\n",
    "# compute the audio embeddings from an audio file\n",
    "audio_embeddings = clap_model.get_audio_embeddings(audio_files, resample=True)\n",
    "\n",
    "# compute the similarity between audio_embeddings and text_embeddings\n",
    "similarity = clap_model.compute_similarity(audio_embeddings, text_embeddings)"
   ]
  },
  {
   "cell_type": "code",
   "execution_count": 6,
   "metadata": {},
   "outputs": [],
   "source": [
    "similarity = F.softmax(similarity, dim=1)\n",
    "values, indices = similarity[0].topk(5)"
   ]
  },
  {
   "cell_type": "code",
   "execution_count": 7,
   "metadata": {},
   "outputs": [
    {
     "name": "stdout",
     "output_type": "stream",
     "text": [
      "Ground Truth: ['clapping']\n",
      "Top predictions:\n",
      "\n",
      "           smack: 83.25%\n",
      "        snapping: 9.13%\n",
      "            snap: 4.36%\n",
      "        clapping: 2.11%\n",
      "            clap: 1.03%\n"
     ]
    }
   ],
   "source": [
    "# Print the results\n",
    "print(\"Ground Truth: {}\".format(ground_truth))\n",
    "print(\"Top predictions:\\n\")\n",
    "for value, index in zip(values, indices):\n",
    "    print(f\"{classes[index]:>16s}: {100 * value.item():.2f}%\")"
   ]
  }
 ],
 "metadata": {
  "kernelspec": {
   "display_name": "base",
   "language": "python",
   "name": "python3"
  },
  "language_info": {
   "codemirror_mode": {
    "name": "ipython",
    "version": 3
   },
   "file_extension": ".py",
   "mimetype": "text/x-python",
   "name": "python",
   "nbconvert_exporter": "python",
   "pygments_lexer": "ipython3",
   "version": "3.11.8"
  }
 },
 "nbformat": 4,
 "nbformat_minor": 2
}
