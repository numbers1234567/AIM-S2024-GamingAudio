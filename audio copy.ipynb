{
 "cells": [
  {
   "cell_type": "code",
   "execution_count": 10,
   "metadata": {},
   "outputs": [],
   "source": [
    "from msclap import CLAP\n",
    "import torch.nn.functional as F\n",
    "import gradio as gr"
   ]
  },
  {
   "cell_type": "code",
   "execution_count": 11,
   "metadata": {},
   "outputs": [],
   "source": [
    "# Define classes for zero-shot\n",
    "# Should be in lower case and can be more than one word\n",
    "classes = ['clap','clapping','snapping', 'snap', 'smack', 'talking', 'speaking', 'voice']\n",
    "ground_truth = ['clapping']\n",
    "# Add prompt\n",
    "prompt = 'this is a sound of '\n",
    "class_prompts = [prompt + x for x in classes]\n",
    "file = ['tutorials/audio-samples/angelo-clap1.mp3']"
   ]
  },
  {
   "cell_type": "code",
   "execution_count": 19,
   "metadata": {},
   "outputs": [],
   "source": [
    "def print_result(strlist):\n",
    "    #Print the results\n",
    "    print(\"Ground Truth: {}\".format(ground_truth))\n",
    "    print(\"Top predictions:\\n\")\n",
    "    print(strlist)\n",
    "    "
   ]
  },
  {
   "cell_type": "code",
   "execution_count": 23,
   "metadata": {},
   "outputs": [],
   "source": [
    "def classify(audio_files):\n",
    "    # Load and initialize CLAP\n",
    "    # Setting use_cuda = True will load the model on a GPU using CUDA  \n",
    "    clap_model = CLAP(version= '2023', use_cuda= False)\n",
    "    \n",
    "    # compute text embeddings from natural text\n",
    "    text_embeddings = clap_model.get_text_embeddings(class_prompts)\n",
    "    \n",
    "    # compute the audio embeddings from an audio file\n",
    "    audio_embeddings = clap_model.get_audio_embeddings(audio_files, resample=True)\n",
    "    \n",
    "    # compute the similarity between audio_embeddings and text_embeddings\n",
    "    similarity = clap_model.compute_similarity(audio_embeddings, text_embeddings)\n",
    "\n",
    "    similarity = F.softmax(similarity, dim=1)\n",
    "    values, indices = similarity[0].topk(5)\n",
    "    \n",
    "    print_result(values, indices)\n",
    "    \n",
    "    return result_to_str(values, indices)\n",
    "    \n",
    "    "
   ]
  },
  {
   "cell_type": "code",
   "execution_count": 28,
   "metadata": {},
   "outputs": [
    {
     "name": "stdout",
     "output_type": "stream",
     "text": [
      "Ground Truth: ['clapping']\n",
      "Top predictions:\n",
      "\n",
      "['           smack: 83.25%', '        snapping: 9.13%', '            snap: 4.36%', '        clapping: 2.11%', '            clap: 1.03%']\n"
     ]
    }
   ],
   "source": [
    "test = classify(file)"
   ]
  },
  {
   "cell_type": "code",
   "execution_count": 25,
   "metadata": {},
   "outputs": [
    {
     "name": "stdout",
     "output_type": "stream",
     "text": [
      "['           smack: 83.25%', '        snapping: 9.13%', '            snap: 4.36%', '        clapping: 2.11%', '            clap: 1.03%']\n"
     ]
    }
   ],
   "source": [
    "print(test)"
   ]
  },
  {
   "cell_type": "code",
   "execution_count": 3,
   "metadata": {},
   "outputs": [],
   "source": [
    "def transcribe(audio):\n",
    "    output = classify(audio,labels=[\"snap\",\"snapping\",\"clap\",\"clapping\",\"talking\",\"voice\"])[\"text\"]\n",
    "    return output"
   ]
  },
  {
   "cell_type": "code",
   "execution_count": 25,
   "metadata": {},
   "outputs": [
    {
     "name": "stdout",
     "output_type": "stream",
     "text": [
      "Running on local URL:  http://127.0.0.1:7862\n",
      "\n",
      "To create a public link, set `share=True` in `launch()`.\n"
     ]
    },
    {
     "data": {
      "text/html": [
       "<div><iframe src=\"http://127.0.0.1:7862/\" width=\"100%\" height=\"500\" allow=\"autoplay; camera; microphone; clipboard-read; clipboard-write;\" frameborder=\"0\" allowfullscreen></iframe></div>"
      ],
      "text/plain": [
       "<IPython.core.display.HTML object>"
      ]
     },
     "metadata": {},
     "output_type": "display_data"
    },
    {
     "data": {
      "text/plain": []
     },
     "execution_count": 25,
     "metadata": {},
     "output_type": "execute_result"
    },
    {
     "name": "stderr",
     "output_type": "stream",
     "text": [
      "Traceback (most recent call last):\n",
      "  File \"/Users/jacobviveros/anaconda3/lib/python3.11/site-packages/gradio/queueing.py\", line 501, in call_prediction\n",
      "    output = await route_utils.call_process_api(\n",
      "             ^^^^^^^^^^^^^^^^^^^^^^^^^^^^^^^^^^^\n",
      "  File \"/Users/jacobviveros/anaconda3/lib/python3.11/site-packages/gradio/route_utils.py\", line 253, in call_process_api\n",
      "    output = await app.get_blocks().process_api(\n",
      "             ^^^^^^^^^^^^^^^^^^^^^^^^^^^^^^^^^^^\n",
      "  File \"/Users/jacobviveros/anaconda3/lib/python3.11/site-packages/gradio/blocks.py\", line 1695, in process_api\n",
      "    result = await self.call_function(\n",
      "             ^^^^^^^^^^^^^^^^^^^^^^^^^\n",
      "  File \"/Users/jacobviveros/anaconda3/lib/python3.11/site-packages/gradio/blocks.py\", line 1235, in call_function\n",
      "    prediction = await anyio.to_thread.run_sync(\n",
      "                 ^^^^^^^^^^^^^^^^^^^^^^^^^^^^^^^\n",
      "  File \"/Users/jacobviveros/anaconda3/lib/python3.11/site-packages/anyio/to_thread.py\", line 56, in run_sync\n",
      "    return await get_async_backend().run_sync_in_worker_thread(\n",
      "           ^^^^^^^^^^^^^^^^^^^^^^^^^^^^^^^^^^^^^^^^^^^^^^^^^^^^\n",
      "  File \"/Users/jacobviveros/anaconda3/lib/python3.11/site-packages/anyio/_backends/_asyncio.py\", line 2134, in run_sync_in_worker_thread\n",
      "    return await future\n",
      "           ^^^^^^^^^^^^\n",
      "  File \"/Users/jacobviveros/anaconda3/lib/python3.11/site-packages/anyio/_backends/_asyncio.py\", line 851, in run\n",
      "    result = context.run(func, *args)\n",
      "             ^^^^^^^^^^^^^^^^^^^^^^^^\n",
      "  File \"/Users/jacobviveros/anaconda3/lib/python3.11/site-packages/gradio/utils.py\", line 692, in wrapper\n",
      "    response = f(*args, **kwargs)\n",
      "               ^^^^^^^^^^^^^^^^^^\n",
      "  File \"/var/folders/16/7hh1zfjs7cq_gs48v5wmkg1r0000gn/T/ipykernel_14644/3349352046.py\", line 10, in classify\n",
      "    audio_embeddings = clap_model.get_audio_embeddings(audio_files, resample=True)\n",
      "                       ^^^^^^^^^^^^^^^^^^^^^^^^^^^^^^^^^^^^^^^^^^^^^^^^^^^^^^^^^^^\n",
      "  File \"/Users/jacobviveros/anaconda3/lib/python3.11/site-packages/msclap/CLAPWrapper.py\", line 282, in get_audio_embeddings\n",
      "    preprocessed_audio = self.preprocess_audio(audio_files, resample)\n",
      "                         ^^^^^^^^^^^^^^^^^^^^^^^^^^^^^^^^^^^^^^^^^^^^\n",
      "  File \"/Users/jacobviveros/anaconda3/lib/python3.11/site-packages/msclap/CLAPWrapper.py\", line 255, in preprocess_audio\n",
      "    audio_tensor = self.load_audio_into_tensor(\n",
      "                   ^^^^^^^^^^^^^^^^^^^^^^^^^^^^\n",
      "  File \"/Users/jacobviveros/anaconda3/lib/python3.11/site-packages/msclap/CLAPWrapper.py\", line 230, in load_audio_into_tensor\n",
      "    audio_time_series, sample_rate = self.read_audio(audio_path, resample=resample)\n",
      "                                     ^^^^^^^^^^^^^^^^^^^^^^^^^^^^^^^^^^^^^^^^^^^^^^\n",
      "  File \"/Users/jacobviveros/anaconda3/lib/python3.11/site-packages/msclap/CLAPWrapper.py\", line 219, in read_audio\n",
      "    audio_time_series, sample_rate = torchaudio.load(audio_path)\n",
      "                                     ^^^^^^^^^^^^^^^^^^^^^^^^^^^\n",
      "  File \"/Users/jacobviveros/anaconda3/lib/python3.11/site-packages/torchaudio/_backend/utils.py\", line 204, in load\n",
      "    return backend.load(uri, frame_offset, num_frames, normalize, channels_first, format, buffer_size)\n",
      "           ^^^^^^^^^^^^^^^^^^^^^^^^^^^^^^^^^^^^^^^^^^^^^^^^^^^^^^^^^^^^^^^^^^^^^^^^^^^^^^^^^^^^^^^^^^^\n",
      "  File \"/Users/jacobviveros/anaconda3/lib/python3.11/site-packages/torchaudio/_backend/ffmpeg.py\", line 336, in load\n",
      "    return load_audio(os.path.normpath(uri), frame_offset, num_frames, normalize, channels_first, format)\n",
      "           ^^^^^^^^^^^^^^^^^^^^^^^^^^^^^^^^^^^^^^^^^^^^^^^^^^^^^^^^^^^^^^^^^^^^^^^^^^^^^^^^^^^^^^^^^^^^^^\n",
      "  File \"/Users/jacobviveros/anaconda3/lib/python3.11/site-packages/torchaudio/_backend/ffmpeg.py\", line 100, in load_audio\n",
      "    return torch.ops.torchaudio.compat_load(src, format, filter, channels_first)\n",
      "           ^^^^^^^^^^^^^^^^^^^^^^^^^^^^^^^^^^^^^^^^^^^^^^^^^^^^^^^^^^^^^^^^^^^^^\n",
      "  File \"/Users/jacobviveros/anaconda3/lib/python3.11/site-packages/torch/_ops.py\", line 692, in __call__\n",
      "    return self._op(*args, **kwargs or {})\n",
      "           ^^^^^^^^^^^^^^^^^^^^^^^^^^^^^^^\n",
      "RuntimeError: Failed to open the input \"/\" (Is a directory).\n"
     ]
    }
   ],
   "source": [
    "gr.Interface(\n",
    "    fn=classify,\n",
    "    inputs=[gr.Audio(sources=\"microphone\",type=\"filepath\")],\n",
    "    outputs=[\"textbox\"],\n",
    "    live=True).launch()"
   ]
  }
 ],
 "metadata": {
  "kernelspec": {
   "display_name": "AIM",
   "language": "python",
   "name": "python3"
  },
  "language_info": {
   "codemirror_mode": {
    "name": "ipython",
    "version": 3
   },
   "file_extension": ".py",
   "mimetype": "text/x-python",
   "name": "python",
   "nbconvert_exporter": "python",
   "pygments_lexer": "ipython3",
   "version": "3.11.8"
  }
 },
 "nbformat": 4,
 "nbformat_minor": 2
}
