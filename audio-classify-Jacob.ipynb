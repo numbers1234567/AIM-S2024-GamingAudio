{
 "cells": [
  {
   "cell_type": "code",
   "execution_count": 2,
   "metadata": {},
   "outputs": [
    {
     "name": "stderr",
     "output_type": "stream",
     "text": [
      "/Users/jacobviveros/anaconda3/envs/yako/lib/python3.11/site-packages/tqdm/auto.py:21: TqdmWarning: IProgress not found. Please update jupyter and ipywidgets. See https://ipywidgets.readthedocs.io/en/stable/user_install.html\n",
      "  from .autonotebook import tqdm as notebook_tqdm\n"
     ]
    }
   ],
   "source": [
    "import gradio as gr\n",
    "from transformers import pipeline\n",
    "import pandas as pd\n",
    "import numpy as np"
   ]
  },
  {
   "cell_type": "code",
   "execution_count": 3,
   "metadata": {},
   "outputs": [
    {
     "name": "stderr",
     "output_type": "stream",
     "text": [
      "/Users/jacobviveros/anaconda3/envs/yako/lib/python3.11/site-packages/torch/_utils.py:831: UserWarning: TypedStorage is deprecated. It will be removed in the future and UntypedStorage will be the only storage class. This should only matter to you if you are using storages directly.  To access UntypedStorage directly, use tensor.untyped_storage() instead of tensor.storage()\n",
      "  return self.fget.__get__(instance, owner)()\n"
     ]
    }
   ],
   "source": [
    "\n",
    "pipe = pipeline(task=\"zero-shot-audio-classification\", model=\"laion/clap-htsat-fused\")"
   ]
  },
  {
   "cell_type": "code",
   "execution_count": 4,
   "metadata": {},
   "outputs": [],
   "source": [
    "#empty array \n",
    "audio_array = np.empty([])\n",
    "\n",
    "word_detected = False\n",
    "\n",
    "#CLAP model's prediction function\n",
    "def classify(audio):\n",
    "    global audio_array, word_detected\n",
    "    \n",
    "    samplerate, array = audio\n",
    "    \n",
    "    live_array = np.array(array)\n",
    "    audio_array = np.append(audio_array, live_array)\n",
    "    \n",
    "    dimension = audio_array.shape\n",
    "    \n",
    "    \n",
    "    #removes 5 second of audio from array if it's longer than 5 seconds\n",
    "    if((dimension[0]) > (240000)):\n",
    "        audio_array = audio_array[-240000:]\n",
    "    \n",
    "    print(audio_array.shape)\n",
    "    \n",
    "    result = pipe(audio_array, candidate_labels=[\"silence\", \"left\",\"right\",\"reload\"])\n",
    "    df = pd.DataFrame(result)\n",
    "    max = df.idxmax(numeric_only=True)\n",
    "    index = int(max[0])\n",
    "    word = df.iat[index,2]\n",
    "    print(max)\n",
    "    print(index)\n",
    "    print(type(index))\n",
    "    print(word)\n",
    "    print(df)\n",
    "    \n",
    "    \n",
    "\n",
    "    #if word is detected or if the audio reaches 5 seconds, \n",
    "    #then reset the audio array to empty\n",
    "    if (word_detected == True):\n",
    "        audio_array = np.empty([1,1])\n",
    "        word_detected = False\n",
    "    \n",
    "    return df"
   ]
  },
  {
   "cell_type": "code",
   "execution_count": 5,
   "metadata": {},
   "outputs": [],
   "source": [
    "#Settings for Gradio Interface\n",
    "demo = gr.Interface(\n",
    "    fn=classify,\n",
    "    inputs=gr.Audio(sources=[\"microphone\"],streaming=True),\n",
    "    outputs=[gr.Dataframe()],\n",
    "    live=True,\n",
    "    \n",
    ")"
   ]
  },
  {
   "cell_type": "code",
   "execution_count": 6,
   "metadata": {},
   "outputs": [
    {
     "name": "stdout",
     "output_type": "stream",
     "text": [
      "Running on local URL:  http://127.0.0.1:7860\n",
      "\n",
      "To create a public link, set `share=True` in `launch()`.\n"
     ]
    },
    {
     "data": {
      "text/html": [
       "<div><iframe src=\"http://127.0.0.1:7860/\" width=\"100%\" height=\"500\" allow=\"autoplay; camera; microphone; clipboard-read; clipboard-write;\" frameborder=\"0\" allowfullscreen></iframe></div>"
      ],
      "text/plain": [
       "<IPython.core.display.HTML object>"
      ]
     },
     "metadata": {},
     "output_type": "display_data"
    },
    {
     "data": {
      "text/plain": []
     },
     "execution_count": 6,
     "metadata": {},
     "output_type": "execute_result"
    },
    {
     "name": "stdout",
     "output_type": "stream",
     "text": [
      "(24001,)\n"
     ]
    },
    {
     "name": "stderr",
     "output_type": "stream",
     "text": [
      "[W NNPACK.cpp:64] Could not initialize NNPACK! Reason: Unsupported hardware.\n",
      "/var/folders/16/7hh1zfjs7cq_gs48v5wmkg1r0000gn/T/ipykernel_42181/4227735203.py:27: FutureWarning: Series.__getitem__ treating keys as positions is deprecated. In a future version, integer keys will always be treated as labels (consistent with DataFrame behavior). To access a value by position, use `ser.iloc[pos]`\n",
      "  index = int(max[0])\n",
      "Traceback (most recent call last):\n",
      "  File \"/Users/jacobviveros/anaconda3/envs/yako/lib/python3.11/site-packages/gradio/queueing.py\", line 522, in process_events\n",
      "    response = await route_utils.call_process_api(\n",
      "               ^^^^^^^^^^^^^^^^^^^^^^^^^^^^^^^^^^^\n",
      "  File \"/Users/jacobviveros/anaconda3/envs/yako/lib/python3.11/site-packages/gradio/route_utils.py\", line 260, in call_process_api\n",
      "    output = await app.get_blocks().process_api(\n",
      "             ^^^^^^^^^^^^^^^^^^^^^^^^^^^^^^^^^^^\n",
      "  File \"/Users/jacobviveros/anaconda3/envs/yako/lib/python3.11/site-packages/gradio/blocks.py\", line 1689, in process_api\n",
      "    result = await self.call_function(\n",
      "             ^^^^^^^^^^^^^^^^^^^^^^^^^\n",
      "  File \"/Users/jacobviveros/anaconda3/envs/yako/lib/python3.11/site-packages/gradio/blocks.py\", line 1255, in call_function\n",
      "    prediction = await anyio.to_thread.run_sync(\n",
      "                 ^^^^^^^^^^^^^^^^^^^^^^^^^^^^^^^\n",
      "  File \"/Users/jacobviveros/anaconda3/envs/yako/lib/python3.11/site-packages/anyio/to_thread.py\", line 56, in run_sync\n",
      "    return await get_async_backend().run_sync_in_worker_thread(\n",
      "           ^^^^^^^^^^^^^^^^^^^^^^^^^^^^^^^^^^^^^^^^^^^^^^^^^^^^\n",
      "  File \"/Users/jacobviveros/anaconda3/envs/yako/lib/python3.11/site-packages/anyio/_backends/_asyncio.py\", line 2144, in run_sync_in_worker_thread\n",
      "    return await future\n",
      "           ^^^^^^^^^^^^\n",
      "  File \"/Users/jacobviveros/anaconda3/envs/yako/lib/python3.11/site-packages/anyio/_backends/_asyncio.py\", line 851, in run\n",
      "    result = context.run(func, *args)\n",
      "             ^^^^^^^^^^^^^^^^^^^^^^^^\n",
      "  File \"/Users/jacobviveros/anaconda3/envs/yako/lib/python3.11/site-packages/gradio/utils.py\", line 750, in wrapper\n",
      "    response = f(*args, **kwargs)\n",
      "               ^^^^^^^^^^^^^^^^^^\n",
      "  File \"/var/folders/16/7hh1zfjs7cq_gs48v5wmkg1r0000gn/T/ipykernel_42181/4227735203.py\", line 28, in classify\n",
      "    word = df.iat[index,2]\n",
      "           ~~~~~~^^^^^^^^^\n",
      "  File \"/Users/jacobviveros/anaconda3/envs/yako/lib/python3.11/site-packages/pandas/core/indexing.py\", line 2527, in __getitem__\n",
      "    return self.obj._get_value(*key, takeable=self._takeable)\n",
      "           ^^^^^^^^^^^^^^^^^^^^^^^^^^^^^^^^^^^^^^^^^^^^^^^^^^\n",
      "  File \"/Users/jacobviveros/anaconda3/envs/yako/lib/python3.11/site-packages/pandas/core/frame.py\", line 4199, in _get_value\n",
      "    series = self._ixs(col, axis=1)\n",
      "             ^^^^^^^^^^^^^^^^^^^^^^\n",
      "  File \"/Users/jacobviveros/anaconda3/envs/yako/lib/python3.11/site-packages/pandas/core/frame.py\", line 3996, in _ixs\n",
      "    label = self.columns[i]\n",
      "            ~~~~~~~~~~~~^^^\n",
      "  File \"/Users/jacobviveros/anaconda3/envs/yako/lib/python3.11/site-packages/pandas/core/indexes/base.py\", line 5389, in __getitem__\n",
      "    return getitem(key)\n",
      "           ^^^^^^^^^^^^\n",
      "IndexError: index 2 is out of bounds for axis 0 with size 2\n"
     ]
    },
    {
     "name": "stdout",
     "output_type": "stream",
     "text": [
      "(120001,)\n"
     ]
    },
    {
     "name": "stderr",
     "output_type": "stream",
     "text": [
      "Traceback (most recent call last):\n",
      "  File \"/Users/jacobviveros/anaconda3/envs/yako/lib/python3.11/site-packages/gradio/queueing.py\", line 522, in process_events\n",
      "    response = await route_utils.call_process_api(\n",
      "               ^^^^^^^^^^^^^^^^^^^^^^^^^^^^^^^^^^^\n",
      "  File \"/Users/jacobviveros/anaconda3/envs/yako/lib/python3.11/site-packages/gradio/route_utils.py\", line 260, in call_process_api\n",
      "    output = await app.get_blocks().process_api(\n",
      "             ^^^^^^^^^^^^^^^^^^^^^^^^^^^^^^^^^^^\n",
      "  File \"/Users/jacobviveros/anaconda3/envs/yako/lib/python3.11/site-packages/gradio/blocks.py\", line 1689, in process_api\n",
      "    result = await self.call_function(\n",
      "             ^^^^^^^^^^^^^^^^^^^^^^^^^\n",
      "  File \"/Users/jacobviveros/anaconda3/envs/yako/lib/python3.11/site-packages/gradio/blocks.py\", line 1255, in call_function\n",
      "    prediction = await anyio.to_thread.run_sync(\n",
      "                 ^^^^^^^^^^^^^^^^^^^^^^^^^^^^^^^\n",
      "  File \"/Users/jacobviveros/anaconda3/envs/yako/lib/python3.11/site-packages/anyio/to_thread.py\", line 56, in run_sync\n",
      "    return await get_async_backend().run_sync_in_worker_thread(\n",
      "           ^^^^^^^^^^^^^^^^^^^^^^^^^^^^^^^^^^^^^^^^^^^^^^^^^^^^\n",
      "  File \"/Users/jacobviveros/anaconda3/envs/yako/lib/python3.11/site-packages/anyio/_backends/_asyncio.py\", line 2144, in run_sync_in_worker_thread\n",
      "    return await future\n",
      "           ^^^^^^^^^^^^\n",
      "  File \"/Users/jacobviveros/anaconda3/envs/yako/lib/python3.11/site-packages/anyio/_backends/_asyncio.py\", line 851, in run\n",
      "    result = context.run(func, *args)\n",
      "             ^^^^^^^^^^^^^^^^^^^^^^^^\n",
      "  File \"/Users/jacobviveros/anaconda3/envs/yako/lib/python3.11/site-packages/gradio/utils.py\", line 750, in wrapper\n",
      "    response = f(*args, **kwargs)\n",
      "               ^^^^^^^^^^^^^^^^^^\n",
      "  File \"/var/folders/16/7hh1zfjs7cq_gs48v5wmkg1r0000gn/T/ipykernel_42181/4227735203.py\", line 28, in classify\n",
      "    word = df.iat[index,2]\n",
      "           ~~~~~~^^^^^^^^^\n",
      "  File \"/Users/jacobviveros/anaconda3/envs/yako/lib/python3.11/site-packages/pandas/core/indexing.py\", line 2527, in __getitem__\n",
      "    return self.obj._get_value(*key, takeable=self._takeable)\n",
      "           ^^^^^^^^^^^^^^^^^^^^^^^^^^^^^^^^^^^^^^^^^^^^^^^^^^\n",
      "  File \"/Users/jacobviveros/anaconda3/envs/yako/lib/python3.11/site-packages/pandas/core/frame.py\", line 4199, in _get_value\n",
      "    series = self._ixs(col, axis=1)\n",
      "             ^^^^^^^^^^^^^^^^^^^^^^\n",
      "  File \"/Users/jacobviveros/anaconda3/envs/yako/lib/python3.11/site-packages/pandas/core/frame.py\", line 3996, in _ixs\n",
      "    label = self.columns[i]\n",
      "            ~~~~~~~~~~~~^^^\n",
      "  File \"/Users/jacobviveros/anaconda3/envs/yako/lib/python3.11/site-packages/pandas/core/indexes/base.py\", line 5389, in __getitem__\n",
      "    return getitem(key)\n",
      "           ^^^^^^^^^^^^\n",
      "IndexError: index 2 is out of bounds for axis 0 with size 2\n"
     ]
    },
    {
     "name": "stdout",
     "output_type": "stream",
     "text": [
      "(192001,)\n"
     ]
    },
    {
     "name": "stderr",
     "output_type": "stream",
     "text": [
      "Traceback (most recent call last):\n",
      "  File \"/Users/jacobviveros/anaconda3/envs/yako/lib/python3.11/site-packages/gradio/queueing.py\", line 522, in process_events\n",
      "    response = await route_utils.call_process_api(\n",
      "               ^^^^^^^^^^^^^^^^^^^^^^^^^^^^^^^^^^^\n",
      "  File \"/Users/jacobviveros/anaconda3/envs/yako/lib/python3.11/site-packages/gradio/route_utils.py\", line 260, in call_process_api\n",
      "    output = await app.get_blocks().process_api(\n",
      "             ^^^^^^^^^^^^^^^^^^^^^^^^^^^^^^^^^^^\n",
      "  File \"/Users/jacobviveros/anaconda3/envs/yako/lib/python3.11/site-packages/gradio/blocks.py\", line 1689, in process_api\n",
      "    result = await self.call_function(\n",
      "             ^^^^^^^^^^^^^^^^^^^^^^^^^\n",
      "  File \"/Users/jacobviveros/anaconda3/envs/yako/lib/python3.11/site-packages/gradio/blocks.py\", line 1255, in call_function\n",
      "    prediction = await anyio.to_thread.run_sync(\n",
      "                 ^^^^^^^^^^^^^^^^^^^^^^^^^^^^^^^\n",
      "  File \"/Users/jacobviveros/anaconda3/envs/yako/lib/python3.11/site-packages/anyio/to_thread.py\", line 56, in run_sync\n",
      "    return await get_async_backend().run_sync_in_worker_thread(\n",
      "           ^^^^^^^^^^^^^^^^^^^^^^^^^^^^^^^^^^^^^^^^^^^^^^^^^^^^\n",
      "  File \"/Users/jacobviveros/anaconda3/envs/yako/lib/python3.11/site-packages/anyio/_backends/_asyncio.py\", line 2144, in run_sync_in_worker_thread\n",
      "    return await future\n",
      "           ^^^^^^^^^^^^\n",
      "  File \"/Users/jacobviveros/anaconda3/envs/yako/lib/python3.11/site-packages/anyio/_backends/_asyncio.py\", line 851, in run\n",
      "    result = context.run(func, *args)\n",
      "             ^^^^^^^^^^^^^^^^^^^^^^^^\n",
      "  File \"/Users/jacobviveros/anaconda3/envs/yako/lib/python3.11/site-packages/gradio/utils.py\", line 750, in wrapper\n",
      "    response = f(*args, **kwargs)\n",
      "               ^^^^^^^^^^^^^^^^^^\n",
      "  File \"/var/folders/16/7hh1zfjs7cq_gs48v5wmkg1r0000gn/T/ipykernel_42181/4227735203.py\", line 28, in classify\n",
      "    word = df.iat[index,2]\n",
      "           ~~~~~~^^^^^^^^^\n",
      "  File \"/Users/jacobviveros/anaconda3/envs/yako/lib/python3.11/site-packages/pandas/core/indexing.py\", line 2527, in __getitem__\n",
      "    return self.obj._get_value(*key, takeable=self._takeable)\n",
      "           ^^^^^^^^^^^^^^^^^^^^^^^^^^^^^^^^^^^^^^^^^^^^^^^^^^\n",
      "  File \"/Users/jacobviveros/anaconda3/envs/yako/lib/python3.11/site-packages/pandas/core/frame.py\", line 4199, in _get_value\n",
      "    series = self._ixs(col, axis=1)\n",
      "             ^^^^^^^^^^^^^^^^^^^^^^\n",
      "  File \"/Users/jacobviveros/anaconda3/envs/yako/lib/python3.11/site-packages/pandas/core/frame.py\", line 3996, in _ixs\n",
      "    label = self.columns[i]\n",
      "            ~~~~~~~~~~~~^^^\n",
      "  File \"/Users/jacobviveros/anaconda3/envs/yako/lib/python3.11/site-packages/pandas/core/indexes/base.py\", line 5389, in __getitem__\n",
      "    return getitem(key)\n",
      "           ^^^^^^^^^^^^\n",
      "IndexError: index 2 is out of bounds for axis 0 with size 2\n"
     ]
    },
    {
     "name": "stdout",
     "output_type": "stream",
     "text": [
      "(240000,)\n"
     ]
    },
    {
     "name": "stderr",
     "output_type": "stream",
     "text": [
      "Traceback (most recent call last):\n",
      "  File \"/Users/jacobviveros/anaconda3/envs/yako/lib/python3.11/site-packages/gradio/queueing.py\", line 522, in process_events\n",
      "    response = await route_utils.call_process_api(\n",
      "               ^^^^^^^^^^^^^^^^^^^^^^^^^^^^^^^^^^^\n",
      "  File \"/Users/jacobviveros/anaconda3/envs/yako/lib/python3.11/site-packages/gradio/route_utils.py\", line 260, in call_process_api\n",
      "    output = await app.get_blocks().process_api(\n",
      "             ^^^^^^^^^^^^^^^^^^^^^^^^^^^^^^^^^^^\n",
      "  File \"/Users/jacobviveros/anaconda3/envs/yako/lib/python3.11/site-packages/gradio/blocks.py\", line 1689, in process_api\n",
      "    result = await self.call_function(\n",
      "             ^^^^^^^^^^^^^^^^^^^^^^^^^\n",
      "  File \"/Users/jacobviveros/anaconda3/envs/yako/lib/python3.11/site-packages/gradio/blocks.py\", line 1255, in call_function\n",
      "    prediction = await anyio.to_thread.run_sync(\n",
      "                 ^^^^^^^^^^^^^^^^^^^^^^^^^^^^^^^\n",
      "  File \"/Users/jacobviveros/anaconda3/envs/yako/lib/python3.11/site-packages/anyio/to_thread.py\", line 56, in run_sync\n",
      "    return await get_async_backend().run_sync_in_worker_thread(\n",
      "           ^^^^^^^^^^^^^^^^^^^^^^^^^^^^^^^^^^^^^^^^^^^^^^^^^^^^\n",
      "  File \"/Users/jacobviveros/anaconda3/envs/yako/lib/python3.11/site-packages/anyio/_backends/_asyncio.py\", line 2144, in run_sync_in_worker_thread\n",
      "    return await future\n",
      "           ^^^^^^^^^^^^\n",
      "  File \"/Users/jacobviveros/anaconda3/envs/yako/lib/python3.11/site-packages/anyio/_backends/_asyncio.py\", line 851, in run\n",
      "    result = context.run(func, *args)\n",
      "             ^^^^^^^^^^^^^^^^^^^^^^^^\n",
      "  File \"/Users/jacobviveros/anaconda3/envs/yako/lib/python3.11/site-packages/gradio/utils.py\", line 750, in wrapper\n",
      "    response = f(*args, **kwargs)\n",
      "               ^^^^^^^^^^^^^^^^^^\n",
      "  File \"/var/folders/16/7hh1zfjs7cq_gs48v5wmkg1r0000gn/T/ipykernel_42181/4227735203.py\", line 28, in classify\n",
      "    word = df.iat[index,2]\n",
      "           ~~~~~~^^^^^^^^^\n",
      "  File \"/Users/jacobviveros/anaconda3/envs/yako/lib/python3.11/site-packages/pandas/core/indexing.py\", line 2527, in __getitem__\n",
      "    return self.obj._get_value(*key, takeable=self._takeable)\n",
      "           ^^^^^^^^^^^^^^^^^^^^^^^^^^^^^^^^^^^^^^^^^^^^^^^^^^\n",
      "  File \"/Users/jacobviveros/anaconda3/envs/yako/lib/python3.11/site-packages/pandas/core/frame.py\", line 4199, in _get_value\n",
      "    series = self._ixs(col, axis=1)\n",
      "             ^^^^^^^^^^^^^^^^^^^^^^\n",
      "  File \"/Users/jacobviveros/anaconda3/envs/yako/lib/python3.11/site-packages/pandas/core/frame.py\", line 3996, in _ixs\n",
      "    label = self.columns[i]\n",
      "            ~~~~~~~~~~~~^^^\n",
      "  File \"/Users/jacobviveros/anaconda3/envs/yako/lib/python3.11/site-packages/pandas/core/indexes/base.py\", line 5389, in __getitem__\n",
      "    return getitem(key)\n",
      "           ^^^^^^^^^^^^\n",
      "IndexError: index 2 is out of bounds for axis 0 with size 2\n"
     ]
    },
    {
     "name": "stdout",
     "output_type": "stream",
     "text": [
      "(240000,)\n"
     ]
    },
    {
     "name": "stderr",
     "output_type": "stream",
     "text": [
      "Traceback (most recent call last):\n",
      "  File \"/Users/jacobviveros/anaconda3/envs/yako/lib/python3.11/site-packages/gradio/queueing.py\", line 522, in process_events\n",
      "    response = await route_utils.call_process_api(\n",
      "               ^^^^^^^^^^^^^^^^^^^^^^^^^^^^^^^^^^^\n",
      "  File \"/Users/jacobviveros/anaconda3/envs/yako/lib/python3.11/site-packages/gradio/route_utils.py\", line 260, in call_process_api\n",
      "    output = await app.get_blocks().process_api(\n",
      "             ^^^^^^^^^^^^^^^^^^^^^^^^^^^^^^^^^^^\n",
      "  File \"/Users/jacobviveros/anaconda3/envs/yako/lib/python3.11/site-packages/gradio/blocks.py\", line 1689, in process_api\n",
      "    result = await self.call_function(\n",
      "             ^^^^^^^^^^^^^^^^^^^^^^^^^\n",
      "  File \"/Users/jacobviveros/anaconda3/envs/yako/lib/python3.11/site-packages/gradio/blocks.py\", line 1255, in call_function\n",
      "    prediction = await anyio.to_thread.run_sync(\n",
      "                 ^^^^^^^^^^^^^^^^^^^^^^^^^^^^^^^\n",
      "  File \"/Users/jacobviveros/anaconda3/envs/yako/lib/python3.11/site-packages/anyio/to_thread.py\", line 56, in run_sync\n",
      "    return await get_async_backend().run_sync_in_worker_thread(\n",
      "           ^^^^^^^^^^^^^^^^^^^^^^^^^^^^^^^^^^^^^^^^^^^^^^^^^^^^\n",
      "  File \"/Users/jacobviveros/anaconda3/envs/yako/lib/python3.11/site-packages/anyio/_backends/_asyncio.py\", line 2144, in run_sync_in_worker_thread\n",
      "    return await future\n",
      "           ^^^^^^^^^^^^\n",
      "  File \"/Users/jacobviveros/anaconda3/envs/yako/lib/python3.11/site-packages/anyio/_backends/_asyncio.py\", line 851, in run\n",
      "    result = context.run(func, *args)\n",
      "             ^^^^^^^^^^^^^^^^^^^^^^^^\n",
      "  File \"/Users/jacobviveros/anaconda3/envs/yako/lib/python3.11/site-packages/gradio/utils.py\", line 750, in wrapper\n",
      "    response = f(*args, **kwargs)\n",
      "               ^^^^^^^^^^^^^^^^^^\n",
      "  File \"/var/folders/16/7hh1zfjs7cq_gs48v5wmkg1r0000gn/T/ipykernel_42181/4227735203.py\", line 28, in classify\n",
      "    word = df.iat[index,2]\n",
      "           ~~~~~~^^^^^^^^^\n",
      "  File \"/Users/jacobviveros/anaconda3/envs/yako/lib/python3.11/site-packages/pandas/core/indexing.py\", line 2527, in __getitem__\n",
      "    return self.obj._get_value(*key, takeable=self._takeable)\n",
      "           ^^^^^^^^^^^^^^^^^^^^^^^^^^^^^^^^^^^^^^^^^^^^^^^^^^\n",
      "  File \"/Users/jacobviveros/anaconda3/envs/yako/lib/python3.11/site-packages/pandas/core/frame.py\", line 4199, in _get_value\n",
      "    series = self._ixs(col, axis=1)\n",
      "             ^^^^^^^^^^^^^^^^^^^^^^\n",
      "  File \"/Users/jacobviveros/anaconda3/envs/yako/lib/python3.11/site-packages/pandas/core/frame.py\", line 3996, in _ixs\n",
      "    label = self.columns[i]\n",
      "            ~~~~~~~~~~~~^^^\n",
      "  File \"/Users/jacobviveros/anaconda3/envs/yako/lib/python3.11/site-packages/pandas/core/indexes/base.py\", line 5389, in __getitem__\n",
      "    return getitem(key)\n",
      "           ^^^^^^^^^^^^\n",
      "IndexError: index 2 is out of bounds for axis 0 with size 2\n"
     ]
    }
   ],
   "source": [
    "#Launches Gradio Interface\n",
    "demo.launch()"
   ]
  }
 ],
 "metadata": {
  "kernelspec": {
   "display_name": "AIM",
   "language": "python",
   "name": "python3"
  },
  "language_info": {
   "codemirror_mode": {
    "name": "ipython",
    "version": 3
   },
   "file_extension": ".py",
   "mimetype": "text/x-python",
   "name": "python",
   "nbconvert_exporter": "python",
   "pygments_lexer": "ipython3",
   "version": "3.11.8"
  }
 },
 "nbformat": 4,
 "nbformat_minor": 2
}
