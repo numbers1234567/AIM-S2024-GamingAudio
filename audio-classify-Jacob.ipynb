{
 "cells": [
  {
   "cell_type": "code",
   "execution_count": 2,
   "metadata": {},
   "outputs": [
    {
     "name": "stderr",
     "output_type": "stream",
     "text": [
      "/Users/jacobviveros/anaconda3/envs/yako/lib/python3.11/site-packages/tqdm/auto.py:21: TqdmWarning: IProgress not found. Please update jupyter and ipywidgets. See https://ipywidgets.readthedocs.io/en/stable/user_install.html\n",
      "  from .autonotebook import tqdm as notebook_tqdm\n"
     ]
    }
   ],
   "source": [
    "import gradio as gr\n",
    "from transformers import pipeline\n",
    "import pandas as pd\n",
    "import numpy as np"
   ]
  },
  {
   "cell_type": "code",
   "execution_count": 3,
   "metadata": {},
   "outputs": [
    {
     "name": "stderr",
     "output_type": "stream",
     "text": [
      "/Users/jacobviveros/anaconda3/envs/yako/lib/python3.11/site-packages/torch/_utils.py:831: UserWarning: TypedStorage is deprecated. It will be removed in the future and UntypedStorage will be the only storage class. This should only matter to you if you are using storages directly.  To access UntypedStorage directly, use tensor.untyped_storage() instead of tensor.storage()\n",
      "  return self.fget.__get__(instance, owner)()\n"
     ]
    }
   ],
   "source": [
    "\n",
    "pipe = pipeline(task=\"zero-shot-audio-classification\", model=\"laion/clap-htsat-fused\")"
   ]
  },
  {
   "cell_type": "code",
   "execution_count": 37,
   "metadata": {},
   "outputs": [],
   "source": [
    "#empty array \n",
    "audio_array = np.empty([])\n",
    "\n",
    "word_detected = False\n",
    "actions = [\"left\",\"right\",\"reload\"]\n",
    "\n",
    "\n",
    "#CLAP model's prediction function\n",
    "def classify(audio):\n",
    "    global audio_array, word_detected, actions\n",
    "    i = 0\n",
    "    \n",
    "    samplerate, array = audio\n",
    "    \n",
    "    #converts the input live audio array to numpy array and appends it to current audio array\n",
    "    live_array = np.array(array)\n",
    "    audio_array = np.append(audio_array, live_array)\n",
    "    \n",
    "    dimension = audio_array.shape\n",
    "    \n",
    "    \n",
    "    #removes 5 second of audio from array if it's longer than 5 seconds\n",
    "    if((dimension[0]) > (240000)):\n",
    "        audio_array = audio_array[-240000:]\n",
    "    print(\"Audio size: \", audio_array.shape)\n",
    "    \n",
    "    #Pass audio to model for predictions\n",
    "    result = pipe(audio_array, candidate_labels=[\"silence\", \"left\",\"right\",\"reload\"])\n",
    "    \n",
    "    #Formats the result to a dataframe and retrives the highest scoring label\n",
    "    df = pd.DataFrame(result)\n",
    "    max = df.idxmax(numeric_only=True)\n",
    "    index = int(max[0])\n",
    "    word = df.iat[index,1]\n",
    "    print(df)\n",
    "    print(word)\n",
    "    \n",
    "    #Checks if the highest scored label was an action label\n",
    "    for i in range(len(actions)):\n",
    "        if word == actions[i]:\n",
    "            word_detected = True\n",
    "            print(\"word was detected: \", word)\n",
    "   \n",
    "    #if word is detected or if the audio reaches 5 seconds, \n",
    "    #then reset the audio array to empty\n",
    "    if (word_detected == True):\n",
    "        audio_array = np.empty([1,1])\n",
    "        print(\"All contents of audio array was removed.\")\n",
    "        word_detected = False\n",
    "    \n",
    "    return df"
   ]
  },
  {
   "cell_type": "code",
   "execution_count": 38,
   "metadata": {},
   "outputs": [],
   "source": [
    "#Settings for Gradio Interface\n",
    "demo = gr.Interface(\n",
    "    fn=classify,\n",
    "    inputs=gr.Audio(sources=[\"microphone\"],streaming=True),\n",
    "    outputs=[gr.Dataframe()],\n",
    "    live=True,\n",
    "    \n",
    ")"
   ]
  },
  {
   "cell_type": "code",
   "execution_count": 39,
   "metadata": {},
   "outputs": [
    {
     "name": "stdout",
     "output_type": "stream",
     "text": [
      "Running on local URL:  http://127.0.0.1:7870\n",
      "\n",
      "To create a public link, set `share=True` in `launch()`.\n"
     ]
    },
    {
     "data": {
      "text/html": [
       "<div><iframe src=\"http://127.0.0.1:7870/\" width=\"100%\" height=\"500\" allow=\"autoplay; camera; microphone; clipboard-read; clipboard-write;\" frameborder=\"0\" allowfullscreen></iframe></div>"
      ],
      "text/plain": [
       "<IPython.core.display.HTML object>"
      ]
     },
     "metadata": {},
     "output_type": "display_data"
    },
    {
     "data": {
      "text/plain": []
     },
     "execution_count": 39,
     "metadata": {},
     "output_type": "execute_result"
    },
    {
     "name": "stdout",
     "output_type": "stream",
     "text": [
      "Audio size:  (24001,)\n"
     ]
    },
    {
     "name": "stderr",
     "output_type": "stream",
     "text": [
      "/var/folders/16/7hh1zfjs7cq_gs48v5wmkg1r0000gn/T/ipykernel_42181/561394958.py:33: FutureWarning: Series.__getitem__ treating keys as positions is deprecated. In a future version, integer keys will always be treated as labels (consistent with DataFrame behavior). To access a value by position, use `ser.iloc[pos]`\n",
      "  index = int(max[0])\n"
     ]
    },
    {
     "name": "stdout",
     "output_type": "stream",
     "text": [
      "      score    label\n",
      "0  0.997146  silence\n",
      "1  0.002716    right\n",
      "2  0.000102   reload\n",
      "3  0.000036     left\n",
      "silence\n",
      "Audio size:  (72001,)\n"
     ]
    },
    {
     "name": "stderr",
     "output_type": "stream",
     "text": [
      "/var/folders/16/7hh1zfjs7cq_gs48v5wmkg1r0000gn/T/ipykernel_42181/561394958.py:33: FutureWarning: Series.__getitem__ treating keys as positions is deprecated. In a future version, integer keys will always be treated as labels (consistent with DataFrame behavior). To access a value by position, use `ser.iloc[pos]`\n",
      "  index = int(max[0])\n"
     ]
    },
    {
     "name": "stdout",
     "output_type": "stream",
     "text": [
      "      score    label\n",
      "0  0.982555  silence\n",
      "1  0.017093    right\n",
      "2  0.000281   reload\n",
      "3  0.000072     left\n",
      "silence\n",
      "Audio size:  (120001,)\n"
     ]
    },
    {
     "name": "stderr",
     "output_type": "stream",
     "text": [
      "/var/folders/16/7hh1zfjs7cq_gs48v5wmkg1r0000gn/T/ipykernel_42181/561394958.py:33: FutureWarning: Series.__getitem__ treating keys as positions is deprecated. In a future version, integer keys will always be treated as labels (consistent with DataFrame behavior). To access a value by position, use `ser.iloc[pos]`\n",
      "  index = int(max[0])\n"
     ]
    },
    {
     "name": "stdout",
     "output_type": "stream",
     "text": [
      "      score    label\n",
      "0  0.994640  silence\n",
      "1  0.005098    right\n",
      "2  0.000241   reload\n",
      "3  0.000021     left\n",
      "silence\n",
      "Audio size:  (168001,)\n"
     ]
    },
    {
     "name": "stderr",
     "output_type": "stream",
     "text": [
      "/var/folders/16/7hh1zfjs7cq_gs48v5wmkg1r0000gn/T/ipykernel_42181/561394958.py:33: FutureWarning: Series.__getitem__ treating keys as positions is deprecated. In a future version, integer keys will always be treated as labels (consistent with DataFrame behavior). To access a value by position, use `ser.iloc[pos]`\n",
      "  index = int(max[0])\n"
     ]
    },
    {
     "name": "stdout",
     "output_type": "stream",
     "text": [
      "      score    label\n",
      "0  0.996609  silence\n",
      "1  0.003180    right\n",
      "2  0.000186   reload\n",
      "3  0.000024     left\n",
      "silence\n",
      "Audio size:  (240000,)\n"
     ]
    },
    {
     "name": "stderr",
     "output_type": "stream",
     "text": [
      "/var/folders/16/7hh1zfjs7cq_gs48v5wmkg1r0000gn/T/ipykernel_42181/561394958.py:33: FutureWarning: Series.__getitem__ treating keys as positions is deprecated. In a future version, integer keys will always be treated as labels (consistent with DataFrame behavior). To access a value by position, use `ser.iloc[pos]`\n",
      "  index = int(max[0])\n"
     ]
    },
    {
     "name": "stdout",
     "output_type": "stream",
     "text": [
      "      score    label\n",
      "0  0.957976  silence\n",
      "1  0.040321    right\n",
      "2  0.001001   reload\n",
      "3  0.000702     left\n",
      "silence\n",
      "Audio size:  (240000,)\n"
     ]
    },
    {
     "name": "stderr",
     "output_type": "stream",
     "text": [
      "/var/folders/16/7hh1zfjs7cq_gs48v5wmkg1r0000gn/T/ipykernel_42181/561394958.py:33: FutureWarning: Series.__getitem__ treating keys as positions is deprecated. In a future version, integer keys will always be treated as labels (consistent with DataFrame behavior). To access a value by position, use `ser.iloc[pos]`\n",
      "  index = int(max[0])\n"
     ]
    },
    {
     "name": "stdout",
     "output_type": "stream",
     "text": [
      "      score    label\n",
      "0  0.993154  silence\n",
      "1  0.006175    right\n",
      "2  0.000434   reload\n",
      "3  0.000238     left\n",
      "silence\n",
      "Audio size:  (240000,)\n"
     ]
    },
    {
     "name": "stderr",
     "output_type": "stream",
     "text": [
      "/var/folders/16/7hh1zfjs7cq_gs48v5wmkg1r0000gn/T/ipykernel_42181/561394958.py:33: FutureWarning: Series.__getitem__ treating keys as positions is deprecated. In a future version, integer keys will always be treated as labels (consistent with DataFrame behavior). To access a value by position, use `ser.iloc[pos]`\n",
      "  index = int(max[0])\n"
     ]
    },
    {
     "name": "stdout",
     "output_type": "stream",
     "text": [
      "      score    label\n",
      "0  0.929838  silence\n",
      "1  0.068686    right\n",
      "2  0.000834   reload\n",
      "3  0.000642     left\n",
      "silence\n",
      "Audio size:  (240000,)\n"
     ]
    },
    {
     "name": "stderr",
     "output_type": "stream",
     "text": [
      "/var/folders/16/7hh1zfjs7cq_gs48v5wmkg1r0000gn/T/ipykernel_42181/561394958.py:33: FutureWarning: Series.__getitem__ treating keys as positions is deprecated. In a future version, integer keys will always be treated as labels (consistent with DataFrame behavior). To access a value by position, use `ser.iloc[pos]`\n",
      "  index = int(max[0])\n"
     ]
    },
    {
     "name": "stdout",
     "output_type": "stream",
     "text": [
      "      score    label\n",
      "0  0.962056  silence\n",
      "1  0.036255    right\n",
      "2  0.001223   reload\n",
      "3  0.000467     left\n",
      "silence\n",
      "Audio size:  (240000,)\n"
     ]
    },
    {
     "name": "stderr",
     "output_type": "stream",
     "text": [
      "/var/folders/16/7hh1zfjs7cq_gs48v5wmkg1r0000gn/T/ipykernel_42181/561394958.py:33: FutureWarning: Series.__getitem__ treating keys as positions is deprecated. In a future version, integer keys will always be treated as labels (consistent with DataFrame behavior). To access a value by position, use `ser.iloc[pos]`\n",
      "  index = int(max[0])\n"
     ]
    },
    {
     "name": "stdout",
     "output_type": "stream",
     "text": [
      "      score    label\n",
      "0  0.940207  silence\n",
      "1  0.057724    right\n",
      "2  0.001356   reload\n",
      "3  0.000713     left\n",
      "silence\n",
      "Audio size:  (240000,)\n"
     ]
    },
    {
     "name": "stderr",
     "output_type": "stream",
     "text": [
      "/var/folders/16/7hh1zfjs7cq_gs48v5wmkg1r0000gn/T/ipykernel_42181/561394958.py:33: FutureWarning: Series.__getitem__ treating keys as positions is deprecated. In a future version, integer keys will always be treated as labels (consistent with DataFrame behavior). To access a value by position, use `ser.iloc[pos]`\n",
      "  index = int(max[0])\n"
     ]
    },
    {
     "name": "stdout",
     "output_type": "stream",
     "text": [
      "      score    label\n",
      "0  0.918360  silence\n",
      "1  0.079286    right\n",
      "2  0.001323   reload\n",
      "3  0.001031     left\n",
      "silence\n",
      "Audio size:  (240000,)\n"
     ]
    },
    {
     "name": "stderr",
     "output_type": "stream",
     "text": [
      "/var/folders/16/7hh1zfjs7cq_gs48v5wmkg1r0000gn/T/ipykernel_42181/561394958.py:33: FutureWarning: Series.__getitem__ treating keys as positions is deprecated. In a future version, integer keys will always be treated as labels (consistent with DataFrame behavior). To access a value by position, use `ser.iloc[pos]`\n",
      "  index = int(max[0])\n"
     ]
    },
    {
     "name": "stdout",
     "output_type": "stream",
     "text": [
      "      score    label\n",
      "0  0.947643  silence\n",
      "1  0.050401    right\n",
      "2  0.001114   reload\n",
      "3  0.000842     left\n",
      "silence\n",
      "Audio size:  (240000,)\n"
     ]
    },
    {
     "name": "stderr",
     "output_type": "stream",
     "text": [
      "/var/folders/16/7hh1zfjs7cq_gs48v5wmkg1r0000gn/T/ipykernel_42181/561394958.py:33: FutureWarning: Series.__getitem__ treating keys as positions is deprecated. In a future version, integer keys will always be treated as labels (consistent with DataFrame behavior). To access a value by position, use `ser.iloc[pos]`\n",
      "  index = int(max[0])\n"
     ]
    },
    {
     "name": "stdout",
     "output_type": "stream",
     "text": [
      "      score    label\n",
      "0  0.898488  silence\n",
      "1  0.098835    right\n",
      "2  0.001356   reload\n",
      "3  0.001321     left\n",
      "silence\n",
      "Audio size:  (240000,)\n"
     ]
    },
    {
     "name": "stderr",
     "output_type": "stream",
     "text": [
      "/var/folders/16/7hh1zfjs7cq_gs48v5wmkg1r0000gn/T/ipykernel_42181/561394958.py:33: FutureWarning: Series.__getitem__ treating keys as positions is deprecated. In a future version, integer keys will always be treated as labels (consistent with DataFrame behavior). To access a value by position, use `ser.iloc[pos]`\n",
      "  index = int(max[0])\n"
     ]
    },
    {
     "name": "stdout",
     "output_type": "stream",
     "text": [
      "      score    label\n",
      "0  0.811718  silence\n",
      "1  0.183845    right\n",
      "2  0.003117     left\n",
      "3  0.001320   reload\n",
      "silence\n",
      "Audio size:  (240000,)\n"
     ]
    },
    {
     "name": "stderr",
     "output_type": "stream",
     "text": [
      "/var/folders/16/7hh1zfjs7cq_gs48v5wmkg1r0000gn/T/ipykernel_42181/561394958.py:33: FutureWarning: Series.__getitem__ treating keys as positions is deprecated. In a future version, integer keys will always be treated as labels (consistent with DataFrame behavior). To access a value by position, use `ser.iloc[pos]`\n",
      "  index = int(max[0])\n"
     ]
    },
    {
     "name": "stdout",
     "output_type": "stream",
     "text": [
      "      score    label\n",
      "0  0.981140  silence\n",
      "1  0.017969    right\n",
      "2  0.000792     left\n",
      "3  0.000098   reload\n",
      "silence\n",
      "Audio size:  (240000,)\n"
     ]
    },
    {
     "name": "stderr",
     "output_type": "stream",
     "text": [
      "/var/folders/16/7hh1zfjs7cq_gs48v5wmkg1r0000gn/T/ipykernel_42181/561394958.py:33: FutureWarning: Series.__getitem__ treating keys as positions is deprecated. In a future version, integer keys will always be treated as labels (consistent with DataFrame behavior). To access a value by position, use `ser.iloc[pos]`\n",
      "  index = int(max[0])\n"
     ]
    },
    {
     "name": "stdout",
     "output_type": "stream",
     "text": [
      "      score    label\n",
      "0  0.937775  silence\n",
      "1  0.060224    right\n",
      "2  0.001850     left\n",
      "3  0.000151   reload\n",
      "silence\n",
      "Audio size:  (240000,)\n"
     ]
    },
    {
     "name": "stderr",
     "output_type": "stream",
     "text": [
      "/var/folders/16/7hh1zfjs7cq_gs48v5wmkg1r0000gn/T/ipykernel_42181/561394958.py:33: FutureWarning: Series.__getitem__ treating keys as positions is deprecated. In a future version, integer keys will always be treated as labels (consistent with DataFrame behavior). To access a value by position, use `ser.iloc[pos]`\n",
      "  index = int(max[0])\n"
     ]
    },
    {
     "name": "stdout",
     "output_type": "stream",
     "text": [
      "      score    label\n",
      "0  0.959244  silence\n",
      "1  0.038238    right\n",
      "2  0.002293     left\n",
      "3  0.000225   reload\n",
      "silence\n",
      "Audio size:  (240000,)\n"
     ]
    },
    {
     "name": "stderr",
     "output_type": "stream",
     "text": [
      "/var/folders/16/7hh1zfjs7cq_gs48v5wmkg1r0000gn/T/ipykernel_42181/561394958.py:33: FutureWarning: Series.__getitem__ treating keys as positions is deprecated. In a future version, integer keys will always be treated as labels (consistent with DataFrame behavior). To access a value by position, use `ser.iloc[pos]`\n",
      "  index = int(max[0])\n"
     ]
    },
    {
     "name": "stdout",
     "output_type": "stream",
     "text": [
      "      score    label\n",
      "0  0.990845  silence\n",
      "1  0.008472    right\n",
      "2  0.000422   reload\n",
      "3  0.000261     left\n",
      "silence\n",
      "Audio size:  (240000,)\n"
     ]
    },
    {
     "name": "stderr",
     "output_type": "stream",
     "text": [
      "/var/folders/16/7hh1zfjs7cq_gs48v5wmkg1r0000gn/T/ipykernel_42181/561394958.py:33: FutureWarning: Series.__getitem__ treating keys as positions is deprecated. In a future version, integer keys will always be treated as labels (consistent with DataFrame behavior). To access a value by position, use `ser.iloc[pos]`\n",
      "  index = int(max[0])\n"
     ]
    },
    {
     "name": "stdout",
     "output_type": "stream",
     "text": [
      "      score    label\n",
      "0  0.993546  silence\n",
      "1  0.005996    right\n",
      "2  0.000241   reload\n",
      "3  0.000216     left\n",
      "silence\n",
      "Audio size:  (240000,)\n"
     ]
    },
    {
     "name": "stderr",
     "output_type": "stream",
     "text": [
      "/var/folders/16/7hh1zfjs7cq_gs48v5wmkg1r0000gn/T/ipykernel_42181/561394958.py:33: FutureWarning: Series.__getitem__ treating keys as positions is deprecated. In a future version, integer keys will always be treated as labels (consistent with DataFrame behavior). To access a value by position, use `ser.iloc[pos]`\n",
      "  index = int(max[0])\n"
     ]
    },
    {
     "name": "stdout",
     "output_type": "stream",
     "text": [
      "      score    label\n",
      "0  0.995520  silence\n",
      "1  0.004052    right\n",
      "2  0.000221   reload\n",
      "3  0.000206     left\n",
      "silence\n",
      "Audio size:  (240000,)\n"
     ]
    },
    {
     "name": "stderr",
     "output_type": "stream",
     "text": [
      "/var/folders/16/7hh1zfjs7cq_gs48v5wmkg1r0000gn/T/ipykernel_42181/561394958.py:33: FutureWarning: Series.__getitem__ treating keys as positions is deprecated. In a future version, integer keys will always be treated as labels (consistent with DataFrame behavior). To access a value by position, use `ser.iloc[pos]`\n",
      "  index = int(max[0])\n"
     ]
    },
    {
     "name": "stdout",
     "output_type": "stream",
     "text": [
      "      score    label\n",
      "0  0.994261  silence\n",
      "1  0.005393    right\n",
      "2  0.000179     left\n",
      "3  0.000166   reload\n",
      "silence\n",
      "Audio size:  (240000,)\n"
     ]
    },
    {
     "name": "stderr",
     "output_type": "stream",
     "text": [
      "/var/folders/16/7hh1zfjs7cq_gs48v5wmkg1r0000gn/T/ipykernel_42181/561394958.py:33: FutureWarning: Series.__getitem__ treating keys as positions is deprecated. In a future version, integer keys will always be treated as labels (consistent with DataFrame behavior). To access a value by position, use `ser.iloc[pos]`\n",
      "  index = int(max[0])\n"
     ]
    },
    {
     "name": "stdout",
     "output_type": "stream",
     "text": [
      "      score    label\n",
      "0  0.993491  silence\n",
      "1  0.005944    right\n",
      "2  0.000405   reload\n",
      "3  0.000160     left\n",
      "silence\n",
      "Audio size:  (240000,)\n"
     ]
    },
    {
     "name": "stderr",
     "output_type": "stream",
     "text": [
      "/var/folders/16/7hh1zfjs7cq_gs48v5wmkg1r0000gn/T/ipykernel_42181/561394958.py:33: FutureWarning: Series.__getitem__ treating keys as positions is deprecated. In a future version, integer keys will always be treated as labels (consistent with DataFrame behavior). To access a value by position, use `ser.iloc[pos]`\n",
      "  index = int(max[0])\n"
     ]
    },
    {
     "name": "stdout",
     "output_type": "stream",
     "text": [
      "      score    label\n",
      "0  0.969501  silence\n",
      "1  0.028674    right\n",
      "2  0.001170   reload\n",
      "3  0.000654     left\n",
      "silence\n",
      "Audio size:  (240000,)\n"
     ]
    },
    {
     "name": "stderr",
     "output_type": "stream",
     "text": [
      "/var/folders/16/7hh1zfjs7cq_gs48v5wmkg1r0000gn/T/ipykernel_42181/561394958.py:33: FutureWarning: Series.__getitem__ treating keys as positions is deprecated. In a future version, integer keys will always be treated as labels (consistent with DataFrame behavior). To access a value by position, use `ser.iloc[pos]`\n",
      "  index = int(max[0])\n"
     ]
    },
    {
     "name": "stdout",
     "output_type": "stream",
     "text": [
      "      score    label\n",
      "0  0.975012  silence\n",
      "1  0.022436    right\n",
      "2  0.001924   reload\n",
      "3  0.000627     left\n",
      "silence\n",
      "Audio size:  (240000,)\n"
     ]
    },
    {
     "name": "stderr",
     "output_type": "stream",
     "text": [
      "/var/folders/16/7hh1zfjs7cq_gs48v5wmkg1r0000gn/T/ipykernel_42181/561394958.py:33: FutureWarning: Series.__getitem__ treating keys as positions is deprecated. In a future version, integer keys will always be treated as labels (consistent with DataFrame behavior). To access a value by position, use `ser.iloc[pos]`\n",
      "  index = int(max[0])\n"
     ]
    },
    {
     "name": "stdout",
     "output_type": "stream",
     "text": [
      "      score    label\n",
      "0  0.828043  silence\n",
      "1  0.165375    right\n",
      "2  0.003785   reload\n",
      "3  0.002796     left\n",
      "silence\n",
      "Audio size:  (240000,)\n"
     ]
    },
    {
     "name": "stderr",
     "output_type": "stream",
     "text": [
      "/var/folders/16/7hh1zfjs7cq_gs48v5wmkg1r0000gn/T/ipykernel_42181/561394958.py:33: FutureWarning: Series.__getitem__ treating keys as positions is deprecated. In a future version, integer keys will always be treated as labels (consistent with DataFrame behavior). To access a value by position, use `ser.iloc[pos]`\n",
      "  index = int(max[0])\n"
     ]
    },
    {
     "name": "stdout",
     "output_type": "stream",
     "text": [
      "      score    label\n",
      "0  0.745715  silence\n",
      "1  0.241165    right\n",
      "2  0.007311     left\n",
      "3  0.005810   reload\n",
      "silence\n",
      "Audio size:  (240000,)\n"
     ]
    },
    {
     "name": "stderr",
     "output_type": "stream",
     "text": [
      "/var/folders/16/7hh1zfjs7cq_gs48v5wmkg1r0000gn/T/ipykernel_42181/561394958.py:33: FutureWarning: Series.__getitem__ treating keys as positions is deprecated. In a future version, integer keys will always be treated as labels (consistent with DataFrame behavior). To access a value by position, use `ser.iloc[pos]`\n",
      "  index = int(max[0])\n"
     ]
    },
    {
     "name": "stdout",
     "output_type": "stream",
     "text": [
      "      score    label\n",
      "0  0.844581  silence\n",
      "1  0.146621    right\n",
      "2  0.005804   reload\n",
      "3  0.002995     left\n",
      "silence\n",
      "Audio size:  (240000,)\n"
     ]
    },
    {
     "name": "stderr",
     "output_type": "stream",
     "text": [
      "/var/folders/16/7hh1zfjs7cq_gs48v5wmkg1r0000gn/T/ipykernel_42181/561394958.py:33: FutureWarning: Series.__getitem__ treating keys as positions is deprecated. In a future version, integer keys will always be treated as labels (consistent with DataFrame behavior). To access a value by position, use `ser.iloc[pos]`\n",
      "  index = int(max[0])\n"
     ]
    },
    {
     "name": "stdout",
     "output_type": "stream",
     "text": [
      "      score    label\n",
      "0  0.932280  silence\n",
      "1  0.062155    right\n",
      "2  0.002919     left\n",
      "3  0.002646   reload\n",
      "silence\n",
      "Audio size:  (240000,)\n"
     ]
    },
    {
     "name": "stderr",
     "output_type": "stream",
     "text": [
      "/var/folders/16/7hh1zfjs7cq_gs48v5wmkg1r0000gn/T/ipykernel_42181/561394958.py:33: FutureWarning: Series.__getitem__ treating keys as positions is deprecated. In a future version, integer keys will always be treated as labels (consistent with DataFrame behavior). To access a value by position, use `ser.iloc[pos]`\n",
      "  index = int(max[0])\n"
     ]
    },
    {
     "name": "stdout",
     "output_type": "stream",
     "text": [
      "      score    label\n",
      "0  0.588226  silence\n",
      "1  0.405771    right\n",
      "2  0.003737     left\n",
      "3  0.002266   reload\n",
      "silence\n",
      "Audio size:  (240000,)\n"
     ]
    },
    {
     "name": "stderr",
     "output_type": "stream",
     "text": [
      "/var/folders/16/7hh1zfjs7cq_gs48v5wmkg1r0000gn/T/ipykernel_42181/561394958.py:33: FutureWarning: Series.__getitem__ treating keys as positions is deprecated. In a future version, integer keys will always be treated as labels (consistent with DataFrame behavior). To access a value by position, use `ser.iloc[pos]`\n",
      "  index = int(max[0])\n"
     ]
    },
    {
     "name": "stdout",
     "output_type": "stream",
     "text": [
      "      score    label\n",
      "0  0.769678  silence\n",
      "1  0.222839    right\n",
      "2  0.005424     left\n",
      "3  0.002059   reload\n",
      "silence\n",
      "Audio size:  (240000,)\n"
     ]
    },
    {
     "name": "stderr",
     "output_type": "stream",
     "text": [
      "/var/folders/16/7hh1zfjs7cq_gs48v5wmkg1r0000gn/T/ipykernel_42181/561394958.py:33: FutureWarning: Series.__getitem__ treating keys as positions is deprecated. In a future version, integer keys will always be treated as labels (consistent with DataFrame behavior). To access a value by position, use `ser.iloc[pos]`\n",
      "  index = int(max[0])\n"
     ]
    },
    {
     "name": "stdout",
     "output_type": "stream",
     "text": [
      "      score    label\n",
      "0  0.923667  silence\n",
      "1  0.072392    right\n",
      "2  0.002718   reload\n",
      "3  0.001223     left\n",
      "silence\n",
      "Audio size:  (240000,)\n"
     ]
    },
    {
     "name": "stderr",
     "output_type": "stream",
     "text": [
      "/var/folders/16/7hh1zfjs7cq_gs48v5wmkg1r0000gn/T/ipykernel_42181/561394958.py:33: FutureWarning: Series.__getitem__ treating keys as positions is deprecated. In a future version, integer keys will always be treated as labels (consistent with DataFrame behavior). To access a value by position, use `ser.iloc[pos]`\n",
      "  index = int(max[0])\n"
     ]
    },
    {
     "name": "stdout",
     "output_type": "stream",
     "text": [
      "      score    label\n",
      "0  0.739303  silence\n",
      "1  0.252859    right\n",
      "2  0.004552     left\n",
      "3  0.003286   reload\n",
      "silence\n",
      "Audio size:  (240000,)\n"
     ]
    },
    {
     "name": "stderr",
     "output_type": "stream",
     "text": [
      "/var/folders/16/7hh1zfjs7cq_gs48v5wmkg1r0000gn/T/ipykernel_42181/561394958.py:33: FutureWarning: Series.__getitem__ treating keys as positions is deprecated. In a future version, integer keys will always be treated as labels (consistent with DataFrame behavior). To access a value by position, use `ser.iloc[pos]`\n",
      "  index = int(max[0])\n"
     ]
    },
    {
     "name": "stdout",
     "output_type": "stream",
     "text": [
      "      score    label\n",
      "0  0.692121  silence\n",
      "1  0.291023    right\n",
      "2  0.010054   reload\n",
      "3  0.006802     left\n",
      "silence\n",
      "Audio size:  (240000,)\n"
     ]
    },
    {
     "name": "stderr",
     "output_type": "stream",
     "text": [
      "/var/folders/16/7hh1zfjs7cq_gs48v5wmkg1r0000gn/T/ipykernel_42181/561394958.py:33: FutureWarning: Series.__getitem__ treating keys as positions is deprecated. In a future version, integer keys will always be treated as labels (consistent with DataFrame behavior). To access a value by position, use `ser.iloc[pos]`\n",
      "  index = int(max[0])\n"
     ]
    },
    {
     "name": "stdout",
     "output_type": "stream",
     "text": [
      "      score    label\n",
      "0  0.800732  silence\n",
      "1  0.185606    right\n",
      "2  0.007416     left\n",
      "3  0.006246   reload\n",
      "silence\n",
      "Audio size:  (240000,)\n"
     ]
    },
    {
     "name": "stderr",
     "output_type": "stream",
     "text": [
      "/var/folders/16/7hh1zfjs7cq_gs48v5wmkg1r0000gn/T/ipykernel_42181/561394958.py:33: FutureWarning: Series.__getitem__ treating keys as positions is deprecated. In a future version, integer keys will always be treated as labels (consistent with DataFrame behavior). To access a value by position, use `ser.iloc[pos]`\n",
      "  index = int(max[0])\n"
     ]
    },
    {
     "name": "stdout",
     "output_type": "stream",
     "text": [
      "      score    label\n",
      "0  0.552404  silence\n",
      "1  0.415045    right\n",
      "2  0.022977     left\n",
      "3  0.009574   reload\n",
      "silence\n",
      "Audio size:  (240000,)\n"
     ]
    },
    {
     "name": "stderr",
     "output_type": "stream",
     "text": [
      "/var/folders/16/7hh1zfjs7cq_gs48v5wmkg1r0000gn/T/ipykernel_42181/561394958.py:33: FutureWarning: Series.__getitem__ treating keys as positions is deprecated. In a future version, integer keys will always be treated as labels (consistent with DataFrame behavior). To access a value by position, use `ser.iloc[pos]`\n",
      "  index = int(max[0])\n"
     ]
    },
    {
     "name": "stdout",
     "output_type": "stream",
     "text": [
      "      score    label\n",
      "0  0.574657    right\n",
      "1  0.398483  silence\n",
      "2  0.015646   reload\n",
      "3  0.011215     left\n",
      "right\n",
      "word was detected:  right\n",
      "All contents of audio array was removed.\n",
      "Audio size:  (48001,)\n"
     ]
    },
    {
     "name": "stderr",
     "output_type": "stream",
     "text": [
      "/var/folders/16/7hh1zfjs7cq_gs48v5wmkg1r0000gn/T/ipykernel_42181/561394958.py:33: FutureWarning: Series.__getitem__ treating keys as positions is deprecated. In a future version, integer keys will always be treated as labels (consistent with DataFrame behavior). To access a value by position, use `ser.iloc[pos]`\n",
      "  index = int(max[0])\n"
     ]
    },
    {
     "name": "stdout",
     "output_type": "stream",
     "text": [
      "      score    label\n",
      "0  0.956823  silence\n",
      "1  0.042546    right\n",
      "2  0.000531   reload\n",
      "3  0.000099     left\n",
      "silence\n",
      "Audio size:  (96001,)\n"
     ]
    },
    {
     "name": "stderr",
     "output_type": "stream",
     "text": [
      "/var/folders/16/7hh1zfjs7cq_gs48v5wmkg1r0000gn/T/ipykernel_42181/561394958.py:33: FutureWarning: Series.__getitem__ treating keys as positions is deprecated. In a future version, integer keys will always be treated as labels (consistent with DataFrame behavior). To access a value by position, use `ser.iloc[pos]`\n",
      "  index = int(max[0])\n"
     ]
    },
    {
     "name": "stdout",
     "output_type": "stream",
     "text": [
      "      score    label\n",
      "0  0.976782  silence\n",
      "1  0.022753    right\n",
      "2  0.000376   reload\n",
      "3  0.000089     left\n",
      "silence\n",
      "Audio size:  (144001,)\n"
     ]
    },
    {
     "name": "stderr",
     "output_type": "stream",
     "text": [
      "/var/folders/16/7hh1zfjs7cq_gs48v5wmkg1r0000gn/T/ipykernel_42181/561394958.py:33: FutureWarning: Series.__getitem__ treating keys as positions is deprecated. In a future version, integer keys will always be treated as labels (consistent with DataFrame behavior). To access a value by position, use `ser.iloc[pos]`\n",
      "  index = int(max[0])\n"
     ]
    },
    {
     "name": "stdout",
     "output_type": "stream",
     "text": [
      "      score    label\n",
      "0  0.908029  silence\n",
      "1  0.090635    right\n",
      "2  0.001017   reload\n",
      "3  0.000318     left\n",
      "silence\n",
      "Audio size:  (186241,)\n"
     ]
    },
    {
     "name": "stderr",
     "output_type": "stream",
     "text": [
      "/var/folders/16/7hh1zfjs7cq_gs48v5wmkg1r0000gn/T/ipykernel_42181/561394958.py:33: FutureWarning: Series.__getitem__ treating keys as positions is deprecated. In a future version, integer keys will always be treated as labels (consistent with DataFrame behavior). To access a value by position, use `ser.iloc[pos]`\n",
      "  index = int(max[0])\n"
     ]
    },
    {
     "name": "stdout",
     "output_type": "stream",
     "text": [
      "      score    label\n",
      "0  0.982064  silence\n",
      "1  0.017013    right\n",
      "2  0.000863   reload\n",
      "3  0.000060     left\n",
      "silence\n"
     ]
    }
   ],
   "source": [
    "#Launches Gradio Interface\n",
    "demo.launch()"
   ]
  }
 ],
 "metadata": {
  "kernelspec": {
   "display_name": "AIM",
   "language": "python",
   "name": "python3"
  },
  "language_info": {
   "codemirror_mode": {
    "name": "ipython",
    "version": 3
   },
   "file_extension": ".py",
   "mimetype": "text/x-python",
   "name": "python",
   "nbconvert_exporter": "python",
   "pygments_lexer": "ipython3",
   "version": "3.11.8"
  }
 },
 "nbformat": 4,
 "nbformat_minor": 2
}
