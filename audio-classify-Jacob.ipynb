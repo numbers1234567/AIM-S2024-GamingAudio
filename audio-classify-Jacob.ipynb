{
 "cells": [
  {
   "cell_type": "code",
   "execution_count": 3,
   "metadata": {},
   "outputs": [],
   "source": [
    "import gradio as gr\n",
    "from transformers import pipeline\n",
    "import pandas as pd\n",
    "import numpy as np\n",
    "from pynput import keyboard\n",
    "import time\n",
    "import json\n",
    "from pynput.keyboard import Key, Controller, KeyCode"
   ]
  },
  {
   "cell_type": "code",
   "execution_count": 3,
   "metadata": {},
   "outputs": [
    {
     "name": "stderr",
     "output_type": "stream",
     "text": [
      "/Users/jacobviveros/anaconda3/envs/yako/lib/python3.11/site-packages/torch/_utils.py:831: UserWarning: TypedStorage is deprecated. It will be removed in the future and UntypedStorage will be the only storage class. This should only matter to you if you are using storages directly.  To access UntypedStorage directly, use tensor.untyped_storage() instead of tensor.storage()\n",
      "  return self.fget.__get__(instance, owner)()\n"
     ]
    }
   ],
   "source": [
    "\n",
    "pipe = pipeline(task=\"zero-shot-audio-classification\", model=\"laion/clap-htsat-fused\")"
   ]
  },
  {
   "cell_type": "code",
   "execution_count": 4,
   "metadata": {},
   "outputs": [],
   "source": [
    "# Load the macros from the JSON file\n",
    "with open('macros.json', 'r') as file:\n",
    "    data = json.load(file)\n",
    "\n",
    "# Extract macros from the loaded data\n",
    "macros = data[\"macros\"]\n",
    "\n",
    "# Creates a controller\n",
    "board = Controller()\n",
    "\n",
    "# Create a dictionary to store macros\n",
    "macro_functions = {}\n",
    "\n",
    "# Iterates over every macro\n",
    "for macro in macros:\n",
    "    # Macro details\n",
    "    name = macro[\"name\"]\n",
    "    keycodes = macro[\"keycodes\"]\n",
    "    delay = macro[\"delay\"]\n",
    "\n",
    "# Defines the macro function\n",
    "    macro_function = lambda keycodes=keycodes, delay=delay: [\n",
    "        # Press the key according to the keycode\n",
    "        (board.press(Key.enter) if keycode == Key.enter else\n",
    "        board.press(Key.space) if keycode == Key.space else\n",
    "        # If keycode is a single character then press that key\n",
    "        board.press(keycode) if len(keycode) == 1 else\n",
    "        # Else if the key is in the form <...> then press that key\n",
    "        board.press(KeyCode.from_vk(int(keycode[1:-1]))),\n",
    "        # Delay\n",
    "        time.sleep(delay),\n",
    "        # Release the key according to the key code\n",
    "        board.release(Key.enter) if keycode == Key.enter else\n",
    "        board.release(Key.space) if keycode == Key.space else\n",
    "        # If keycode is a single character then release that key\n",
    "        board.release(keycode) if len(keycode) == 1 else\n",
    "        # Else if the key is in the form <...> then release that key\n",
    "        board.release(KeyCode.from_vk(int(keycode[1:-1]))))\n",
    "        # Iterate over every keycode in the macro\n",
    "        for keycode in keycodes\n",
    "    ]\n",
    "\n",
    "    # Add the macro function to the dictionary with the macro name as the key\n",
    "    macro_functions[name] = macro_function\n",
    "    "
   ]
  },
  {
   "cell_type": "code",
   "execution_count": 62,
   "metadata": {},
   "outputs": [],
   "source": [
    "#empty array \n",
    "audio_array = np.empty([])\n",
    "\n",
    "word_detected = False\n",
    "\n",
    "actions = [\"silence\",\"snap\",\"clap\",\"person\",\"dog\"]\n",
    "\n",
    "\n",
    "#CLAP model's prediction function\n",
    "def classify(audio):\n",
    "    global audio_array, word_detected, actions\n",
    "    i = 0\n",
    "    \n",
    "    samplerate, array = audio\n",
    "    \n",
    "    #converts the input live audio array to numpy array and appends it to current audio array\n",
    "    live_array = np.array(array)\n",
    "    audio_array = np.append(audio_array, live_array)\n",
    "    \n",
    "    dimension = audio_array.shape\n",
    "    \n",
    "    \n",
    "    #removes 5 second of audio from array if it's longer than 5 seconds\n",
    "    if((dimension[0]) > (240000)):\n",
    "        audio_array = audio_array[-240000:]\n",
    "        print(\"Audio size: \", audio_array.shape)\n",
    "    \n",
    "    #Pass audio to model for predictions\n",
    "    result = pipe(audio_array, candidate_labels=actions)\n",
    "    \n",
    "    #Formats the result to a dataframe and retrives the highest scoring label\n",
    "    df = pd.DataFrame(result)\n",
    "    max = df.idxmax(numeric_only=True)\n",
    "    index = int(max[0])\n",
    "    word = df.iat[index,1]\n",
    "    print(df)\n",
    "    print(word)\n",
    "    \n",
    "    #Checks if the highest scored label was an action label\n",
    "    if word != \"silence\":\n",
    "        word_detected = True\n",
    "        print(\"word was detected: \", word)\n",
    "        print(\"pressing macros...\")\n",
    "        macro_functions[word]()\n",
    "        \n",
    "   \n",
    "    #if word is detected or if the audio reaches 5 seconds, \n",
    "    #then reset the audio array to empty\n",
    "    if (word_detected == True):\n",
    "        audio_array = np.empty([1,1])\n",
    "        print(\"All contents of audio array was removed.\")\n",
    "        word_detected = False\n",
    "    \n",
    "    return df"
   ]
  },
  {
   "cell_type": "code",
   "execution_count": 60,
   "metadata": {},
   "outputs": [],
   "source": [
    "#Settings for Gradio Interface\n",
    "demo = gr.Interface(\n",
    "    fn=classify,\n",
    "    inputs=gr.Audio(sources=[\"microphone\"],streaming=True),\n",
    "    outputs=[gr.Dataframe()],\n",
    "    live=True,\n",
    "    \n",
    ")"
   ]
  },
  {
   "cell_type": "code",
   "execution_count": 61,
   "metadata": {},
   "outputs": [
    {
     "name": "stdout",
     "output_type": "stream",
     "text": [
      "Running on local URL:  http://127.0.0.1:7877\n",
      "\n",
      "To create a public link, set `share=True` in `launch()`.\n"
     ]
    },
    {
     "data": {
      "text/html": [
       "<div><iframe src=\"http://127.0.0.1:7877/\" width=\"100%\" height=\"500\" allow=\"autoplay; camera; microphone; clipboard-read; clipboard-write;\" frameborder=\"0\" allowfullscreen></iframe></div>"
      ],
      "text/plain": [
       "<IPython.core.display.HTML object>"
      ]
     },
     "metadata": {},
     "output_type": "display_data"
    },
    {
     "data": {
      "text/plain": []
     },
     "execution_count": 61,
     "metadata": {},
     "output_type": "execute_result"
    },
    {
     "name": "stderr",
     "output_type": "stream",
     "text": [
      "/var/folders/16/7hh1zfjs7cq_gs48v5wmkg1r0000gn/T/ipykernel_42181/1551531530.py:34: FutureWarning: Series.__getitem__ treating keys as positions is deprecated. In a future version, integer keys will always be treated as labels (consistent with DataFrame behavior). To access a value by position, use `ser.iloc[pos]`\n",
      "  index = int(max[0])\n"
     ]
    },
    {
     "name": "stdout",
     "output_type": "stream",
     "text": [
      "      score   label\n",
      "0  0.643142  person\n",
      "1  0.299664     dog\n",
      "2  0.033257   quiet\n",
      "3  0.012489    clap\n",
      "4  0.011449    snap\n",
      "person\n",
      "word was detected:  person\n",
      "All contents of audio array was removed.\n"
     ]
    },
    {
     "name": "stderr",
     "output_type": "stream",
     "text": [
      "/var/folders/16/7hh1zfjs7cq_gs48v5wmkg1r0000gn/T/ipykernel_42181/1551531530.py:34: FutureWarning: Series.__getitem__ treating keys as positions is deprecated. In a future version, integer keys will always be treated as labels (consistent with DataFrame behavior). To access a value by position, use `ser.iloc[pos]`\n",
      "  index = int(max[0])\n"
     ]
    },
    {
     "name": "stdout",
     "output_type": "stream",
     "text": [
      "      score   label\n",
      "0  0.903005  person\n",
      "1  0.064658     dog\n",
      "2  0.017516    snap\n",
      "3  0.013283   quiet\n",
      "4  0.001538    clap\n",
      "person\n",
      "word was detected:  person\n",
      "All contents of audio array was removed.\n"
     ]
    },
    {
     "name": "stderr",
     "output_type": "stream",
     "text": [
      "/var/folders/16/7hh1zfjs7cq_gs48v5wmkg1r0000gn/T/ipykernel_42181/1551531530.py:34: FutureWarning: Series.__getitem__ treating keys as positions is deprecated. In a future version, integer keys will always be treated as labels (consistent with DataFrame behavior). To access a value by position, use `ser.iloc[pos]`\n",
      "  index = int(max[0])\n"
     ]
    },
    {
     "name": "stdout",
     "output_type": "stream",
     "text": [
      "      score   label\n",
      "0  0.624885  person\n",
      "1  0.360400     dog\n",
      "2  0.006930    snap\n",
      "3  0.005735   quiet\n",
      "4  0.002051    clap\n",
      "person\n",
      "word was detected:  person\n",
      "All contents of audio array was removed.\n"
     ]
    },
    {
     "name": "stderr",
     "output_type": "stream",
     "text": [
      "/var/folders/16/7hh1zfjs7cq_gs48v5wmkg1r0000gn/T/ipykernel_42181/1551531530.py:34: FutureWarning: Series.__getitem__ treating keys as positions is deprecated. In a future version, integer keys will always be treated as labels (consistent with DataFrame behavior). To access a value by position, use `ser.iloc[pos]`\n",
      "  index = int(max[0])\n"
     ]
    },
    {
     "name": "stdout",
     "output_type": "stream",
     "text": [
      "      score   label\n",
      "0  0.869770  person\n",
      "1  0.115065     dog\n",
      "2  0.008022    snap\n",
      "3  0.005936   quiet\n",
      "4  0.001208    clap\n",
      "person\n",
      "word was detected:  person\n",
      "All contents of audio array was removed.\n"
     ]
    },
    {
     "name": "stderr",
     "output_type": "stream",
     "text": [
      "/var/folders/16/7hh1zfjs7cq_gs48v5wmkg1r0000gn/T/ipykernel_42181/1551531530.py:34: FutureWarning: Series.__getitem__ treating keys as positions is deprecated. In a future version, integer keys will always be treated as labels (consistent with DataFrame behavior). To access a value by position, use `ser.iloc[pos]`\n",
      "  index = int(max[0])\n"
     ]
    },
    {
     "name": "stdout",
     "output_type": "stream",
     "text": [
      "      score   label\n",
      "0  0.775848  person\n",
      "1  0.208266     dog\n",
      "2  0.011059    snap\n",
      "3  0.003576   quiet\n",
      "4  0.001251    clap\n",
      "person\n",
      "word was detected:  person\n",
      "All contents of audio array was removed.\n"
     ]
    },
    {
     "name": "stderr",
     "output_type": "stream",
     "text": [
      "/var/folders/16/7hh1zfjs7cq_gs48v5wmkg1r0000gn/T/ipykernel_42181/1551531530.py:34: FutureWarning: Series.__getitem__ treating keys as positions is deprecated. In a future version, integer keys will always be treated as labels (consistent with DataFrame behavior). To access a value by position, use `ser.iloc[pos]`\n",
      "  index = int(max[0])\n"
     ]
    },
    {
     "name": "stdout",
     "output_type": "stream",
     "text": [
      "      score   label\n",
      "0  0.821245  person\n",
      "1  0.163035     dog\n",
      "2  0.008028    snap\n",
      "3  0.006067   quiet\n",
      "4  0.001625    clap\n",
      "person\n",
      "word was detected:  person\n",
      "All contents of audio array was removed.\n"
     ]
    },
    {
     "name": "stderr",
     "output_type": "stream",
     "text": [
      "/var/folders/16/7hh1zfjs7cq_gs48v5wmkg1r0000gn/T/ipykernel_42181/1551531530.py:34: FutureWarning: Series.__getitem__ treating keys as positions is deprecated. In a future version, integer keys will always be treated as labels (consistent with DataFrame behavior). To access a value by position, use `ser.iloc[pos]`\n",
      "  index = int(max[0])\n"
     ]
    },
    {
     "name": "stdout",
     "output_type": "stream",
     "text": [
      "      score   label\n",
      "0  0.849563  person\n",
      "1  0.120565     dog\n",
      "2  0.015323   quiet\n",
      "3  0.012006    snap\n",
      "4  0.002544    clap\n",
      "person\n",
      "word was detected:  person\n",
      "All contents of audio array was removed.\n"
     ]
    },
    {
     "name": "stderr",
     "output_type": "stream",
     "text": [
      "/var/folders/16/7hh1zfjs7cq_gs48v5wmkg1r0000gn/T/ipykernel_42181/1551531530.py:34: FutureWarning: Series.__getitem__ treating keys as positions is deprecated. In a future version, integer keys will always be treated as labels (consistent with DataFrame behavior). To access a value by position, use `ser.iloc[pos]`\n",
      "  index = int(max[0])\n"
     ]
    },
    {
     "name": "stdout",
     "output_type": "stream",
     "text": [
      "      score   label\n",
      "0  0.761659  person\n",
      "1  0.209199     dog\n",
      "2  0.014631   quiet\n",
      "3  0.010004    snap\n",
      "4  0.004507    clap\n",
      "person\n",
      "word was detected:  person\n",
      "All contents of audio array was removed.\n"
     ]
    },
    {
     "name": "stderr",
     "output_type": "stream",
     "text": [
      "/var/folders/16/7hh1zfjs7cq_gs48v5wmkg1r0000gn/T/ipykernel_42181/1551531530.py:34: FutureWarning: Series.__getitem__ treating keys as positions is deprecated. In a future version, integer keys will always be treated as labels (consistent with DataFrame behavior). To access a value by position, use `ser.iloc[pos]`\n",
      "  index = int(max[0])\n"
     ]
    },
    {
     "name": "stdout",
     "output_type": "stream",
     "text": [
      "      score   label\n",
      "0  0.660671  person\n",
      "1  0.239049     dog\n",
      "2  0.055126   quiet\n",
      "3  0.033488    snap\n",
      "4  0.011666    clap\n",
      "person\n",
      "word was detected:  person\n",
      "All contents of audio array was removed.\n"
     ]
    },
    {
     "name": "stderr",
     "output_type": "stream",
     "text": [
      "/var/folders/16/7hh1zfjs7cq_gs48v5wmkg1r0000gn/T/ipykernel_42181/1551531530.py:34: FutureWarning: Series.__getitem__ treating keys as positions is deprecated. In a future version, integer keys will always be treated as labels (consistent with DataFrame behavior). To access a value by position, use `ser.iloc[pos]`\n",
      "  index = int(max[0])\n"
     ]
    },
    {
     "name": "stdout",
     "output_type": "stream",
     "text": [
      "      score   label\n",
      "0  0.589938  person\n",
      "1  0.386690     dog\n",
      "2  0.011804   quiet\n",
      "3  0.007210    snap\n",
      "4  0.004358    clap\n",
      "person\n",
      "word was detected:  person\n",
      "All contents of audio array was removed.\n"
     ]
    },
    {
     "name": "stderr",
     "output_type": "stream",
     "text": [
      "/var/folders/16/7hh1zfjs7cq_gs48v5wmkg1r0000gn/T/ipykernel_42181/1551531530.py:34: FutureWarning: Series.__getitem__ treating keys as positions is deprecated. In a future version, integer keys will always be treated as labels (consistent with DataFrame behavior). To access a value by position, use `ser.iloc[pos]`\n",
      "  index = int(max[0])\n"
     ]
    },
    {
     "name": "stdout",
     "output_type": "stream",
     "text": [
      "      score   label\n",
      "0  0.617478  person\n",
      "1  0.354970     dog\n",
      "2  0.014495    snap\n",
      "3  0.008684   quiet\n",
      "4  0.004373    clap\n",
      "person\n",
      "word was detected:  person\n",
      "All contents of audio array was removed.\n"
     ]
    },
    {
     "name": "stderr",
     "output_type": "stream",
     "text": [
      "/var/folders/16/7hh1zfjs7cq_gs48v5wmkg1r0000gn/T/ipykernel_42181/1551531530.py:34: FutureWarning: Series.__getitem__ treating keys as positions is deprecated. In a future version, integer keys will always be treated as labels (consistent with DataFrame behavior). To access a value by position, use `ser.iloc[pos]`\n",
      "  index = int(max[0])\n"
     ]
    },
    {
     "name": "stdout",
     "output_type": "stream",
     "text": [
      "      score   label\n",
      "0  0.501907     dog\n",
      "1  0.441507  person\n",
      "2  0.039358    snap\n",
      "3  0.009245   quiet\n",
      "4  0.007984    clap\n",
      "dog\n",
      "word was detected:  dog\n",
      "All contents of audio array was removed.\n"
     ]
    },
    {
     "name": "stderr",
     "output_type": "stream",
     "text": [
      "/var/folders/16/7hh1zfjs7cq_gs48v5wmkg1r0000gn/T/ipykernel_42181/1551531530.py:34: FutureWarning: Series.__getitem__ treating keys as positions is deprecated. In a future version, integer keys will always be treated as labels (consistent with DataFrame behavior). To access a value by position, use `ser.iloc[pos]`\n",
      "  index = int(max[0])\n"
     ]
    },
    {
     "name": "stdout",
     "output_type": "stream",
     "text": [
      "      score   label\n",
      "0  0.685133  person\n",
      "1  0.290403     dog\n",
      "2  0.018125    snap\n",
      "3  0.003273   quiet\n",
      "4  0.003066    clap\n",
      "person\n",
      "word was detected:  person\n",
      "All contents of audio array was removed.\n"
     ]
    },
    {
     "name": "stderr",
     "output_type": "stream",
     "text": [
      "/var/folders/16/7hh1zfjs7cq_gs48v5wmkg1r0000gn/T/ipykernel_42181/1551531530.py:34: FutureWarning: Series.__getitem__ treating keys as positions is deprecated. In a future version, integer keys will always be treated as labels (consistent with DataFrame behavior). To access a value by position, use `ser.iloc[pos]`\n",
      "  index = int(max[0])\n"
     ]
    },
    {
     "name": "stdout",
     "output_type": "stream",
     "text": [
      "      score   label\n",
      "0  0.843908  person\n",
      "1  0.140009     dog\n",
      "2  0.010816    snap\n",
      "3  0.003619   quiet\n",
      "4  0.001648    clap\n",
      "person\n",
      "word was detected:  person\n",
      "All contents of audio array was removed.\n"
     ]
    },
    {
     "name": "stderr",
     "output_type": "stream",
     "text": [
      "/var/folders/16/7hh1zfjs7cq_gs48v5wmkg1r0000gn/T/ipykernel_42181/1551531530.py:34: FutureWarning: Series.__getitem__ treating keys as positions is deprecated. In a future version, integer keys will always be treated as labels (consistent with DataFrame behavior). To access a value by position, use `ser.iloc[pos]`\n",
      "  index = int(max[0])\n"
     ]
    },
    {
     "name": "stdout",
     "output_type": "stream",
     "text": [
      "      score   label\n",
      "0  0.675893  person\n",
      "1  0.280935     dog\n",
      "2  0.025483    snap\n",
      "3  0.010561   quiet\n",
      "4  0.007128    clap\n",
      "person\n",
      "word was detected:  person\n",
      "All contents of audio array was removed.\n"
     ]
    },
    {
     "name": "stderr",
     "output_type": "stream",
     "text": [
      "/var/folders/16/7hh1zfjs7cq_gs48v5wmkg1r0000gn/T/ipykernel_42181/1551531530.py:34: FutureWarning: Series.__getitem__ treating keys as positions is deprecated. In a future version, integer keys will always be treated as labels (consistent with DataFrame behavior). To access a value by position, use `ser.iloc[pos]`\n",
      "  index = int(max[0])\n"
     ]
    },
    {
     "name": "stdout",
     "output_type": "stream",
     "text": [
      "      score   label\n",
      "0  0.390228     dog\n",
      "1  0.247250  person\n",
      "2  0.220289   quiet\n",
      "3  0.113497    snap\n",
      "4  0.028736    clap\n",
      "dog\n",
      "word was detected:  dog\n",
      "All contents of audio array was removed.\n"
     ]
    },
    {
     "name": "stderr",
     "output_type": "stream",
     "text": [
      "/var/folders/16/7hh1zfjs7cq_gs48v5wmkg1r0000gn/T/ipykernel_42181/1551531530.py:34: FutureWarning: Series.__getitem__ treating keys as positions is deprecated. In a future version, integer keys will always be treated as labels (consistent with DataFrame behavior). To access a value by position, use `ser.iloc[pos]`\n",
      "  index = int(max[0])\n"
     ]
    },
    {
     "name": "stdout",
     "output_type": "stream",
     "text": [
      "      score   label\n",
      "0  0.817060  person\n",
      "1  0.156737     dog\n",
      "2  0.012707   quiet\n",
      "3  0.009015    snap\n",
      "4  0.004481    clap\n",
      "person\n",
      "word was detected:  person\n",
      "All contents of audio array was removed.\n"
     ]
    },
    {
     "name": "stderr",
     "output_type": "stream",
     "text": [
      "/var/folders/16/7hh1zfjs7cq_gs48v5wmkg1r0000gn/T/ipykernel_42181/1551531530.py:34: FutureWarning: Series.__getitem__ treating keys as positions is deprecated. In a future version, integer keys will always be treated as labels (consistent with DataFrame behavior). To access a value by position, use `ser.iloc[pos]`\n",
      "  index = int(max[0])\n"
     ]
    },
    {
     "name": "stdout",
     "output_type": "stream",
     "text": [
      "      score   label\n",
      "0  0.721922  person\n",
      "1  0.258475     dog\n",
      "2  0.009039   quiet\n",
      "3  0.006812    snap\n",
      "4  0.003753    clap\n",
      "person\n",
      "word was detected:  person\n",
      "All contents of audio array was removed.\n"
     ]
    },
    {
     "name": "stderr",
     "output_type": "stream",
     "text": [
      "/var/folders/16/7hh1zfjs7cq_gs48v5wmkg1r0000gn/T/ipykernel_42181/1551531530.py:34: FutureWarning: Series.__getitem__ treating keys as positions is deprecated. In a future version, integer keys will always be treated as labels (consistent with DataFrame behavior). To access a value by position, use `ser.iloc[pos]`\n",
      "  index = int(max[0])\n"
     ]
    },
    {
     "name": "stdout",
     "output_type": "stream",
     "text": [
      "      score   label\n",
      "0  0.543153  person\n",
      "1  0.326079     dog\n",
      "2  0.065439    snap\n",
      "3  0.048593    clap\n",
      "4  0.016737   quiet\n",
      "person\n",
      "word was detected:  person\n",
      "All contents of audio array was removed.\n"
     ]
    },
    {
     "name": "stderr",
     "output_type": "stream",
     "text": [
      "/var/folders/16/7hh1zfjs7cq_gs48v5wmkg1r0000gn/T/ipykernel_42181/1551531530.py:34: FutureWarning: Series.__getitem__ treating keys as positions is deprecated. In a future version, integer keys will always be treated as labels (consistent with DataFrame behavior). To access a value by position, use `ser.iloc[pos]`\n",
      "  index = int(max[0])\n"
     ]
    },
    {
     "name": "stdout",
     "output_type": "stream",
     "text": [
      "      score   label\n",
      "0  0.443483     dog\n",
      "1  0.243527   quiet\n",
      "2  0.195958  person\n",
      "3  0.076821    snap\n",
      "4  0.040211    clap\n",
      "dog\n",
      "word was detected:  dog\n",
      "All contents of audio array was removed.\n"
     ]
    },
    {
     "name": "stderr",
     "output_type": "stream",
     "text": [
      "/var/folders/16/7hh1zfjs7cq_gs48v5wmkg1r0000gn/T/ipykernel_42181/1551531530.py:34: FutureWarning: Series.__getitem__ treating keys as positions is deprecated. In a future version, integer keys will always be treated as labels (consistent with DataFrame behavior). To access a value by position, use `ser.iloc[pos]`\n",
      "  index = int(max[0])\n"
     ]
    },
    {
     "name": "stdout",
     "output_type": "stream",
     "text": [
      "      score   label\n",
      "0  0.559239  person\n",
      "1  0.361591     dog\n",
      "2  0.049439    snap\n",
      "3  0.015015   quiet\n",
      "4  0.014716    clap\n",
      "person\n",
      "word was detected:  person\n",
      "All contents of audio array was removed.\n"
     ]
    },
    {
     "name": "stderr",
     "output_type": "stream",
     "text": [
      "/var/folders/16/7hh1zfjs7cq_gs48v5wmkg1r0000gn/T/ipykernel_42181/1551531530.py:34: FutureWarning: Series.__getitem__ treating keys as positions is deprecated. In a future version, integer keys will always be treated as labels (consistent with DataFrame behavior). To access a value by position, use `ser.iloc[pos]`\n",
      "  index = int(max[0])\n"
     ]
    },
    {
     "name": "stdout",
     "output_type": "stream",
     "text": [
      "      score   label\n",
      "0  0.586084  person\n",
      "1  0.359918     dog\n",
      "2  0.035002    snap\n",
      "3  0.010232    clap\n",
      "4  0.008763   quiet\n",
      "person\n",
      "word was detected:  person\n",
      "All contents of audio array was removed.\n"
     ]
    },
    {
     "name": "stderr",
     "output_type": "stream",
     "text": [
      "/var/folders/16/7hh1zfjs7cq_gs48v5wmkg1r0000gn/T/ipykernel_42181/1551531530.py:34: FutureWarning: Series.__getitem__ treating keys as positions is deprecated. In a future version, integer keys will always be treated as labels (consistent with DataFrame behavior). To access a value by position, use `ser.iloc[pos]`\n",
      "  index = int(max[0])\n"
     ]
    },
    {
     "name": "stdout",
     "output_type": "stream",
     "text": [
      "      score   label\n",
      "0  0.625304  person\n",
      "1  0.292505     dog\n",
      "2  0.049449    snap\n",
      "3  0.018621   quiet\n",
      "4  0.014121    clap\n",
      "person\n",
      "word was detected:  person\n",
      "All contents of audio array was removed.\n"
     ]
    },
    {
     "name": "stderr",
     "output_type": "stream",
     "text": [
      "/var/folders/16/7hh1zfjs7cq_gs48v5wmkg1r0000gn/T/ipykernel_42181/1551531530.py:34: FutureWarning: Series.__getitem__ treating keys as positions is deprecated. In a future version, integer keys will always be treated as labels (consistent with DataFrame behavior). To access a value by position, use `ser.iloc[pos]`\n",
      "  index = int(max[0])\n"
     ]
    },
    {
     "name": "stdout",
     "output_type": "stream",
     "text": [
      "      score   label\n",
      "0  0.565037  person\n",
      "1  0.411595     dog\n",
      "2  0.011015    snap\n",
      "3  0.008602   quiet\n",
      "4  0.003751    clap\n",
      "person\n",
      "word was detected:  person\n",
      "All contents of audio array was removed.\n"
     ]
    },
    {
     "name": "stderr",
     "output_type": "stream",
     "text": [
      "/var/folders/16/7hh1zfjs7cq_gs48v5wmkg1r0000gn/T/ipykernel_42181/1551531530.py:34: FutureWarning: Series.__getitem__ treating keys as positions is deprecated. In a future version, integer keys will always be treated as labels (consistent with DataFrame behavior). To access a value by position, use `ser.iloc[pos]`\n",
      "  index = int(max[0])\n"
     ]
    },
    {
     "name": "stdout",
     "output_type": "stream",
     "text": [
      "      score   label\n",
      "0  0.900392   quiet\n",
      "1  0.048021     dog\n",
      "2  0.023938    snap\n",
      "3  0.023690  person\n",
      "4  0.003958    clap\n",
      "quiet\n"
     ]
    },
    {
     "name": "stderr",
     "output_type": "stream",
     "text": [
      "/var/folders/16/7hh1zfjs7cq_gs48v5wmkg1r0000gn/T/ipykernel_42181/1551531530.py:34: FutureWarning: Series.__getitem__ treating keys as positions is deprecated. In a future version, integer keys will always be treated as labels (consistent with DataFrame behavior). To access a value by position, use `ser.iloc[pos]`\n",
      "  index = int(max[0])\n"
     ]
    },
    {
     "name": "stdout",
     "output_type": "stream",
     "text": [
      "      score   label\n",
      "0  0.576580  person\n",
      "1  0.338617     dog\n",
      "2  0.051407    snap\n",
      "3  0.019775   quiet\n",
      "4  0.013621    clap\n",
      "person\n",
      "word was detected:  person\n",
      "All contents of audio array was removed.\n"
     ]
    },
    {
     "name": "stderr",
     "output_type": "stream",
     "text": [
      "/var/folders/16/7hh1zfjs7cq_gs48v5wmkg1r0000gn/T/ipykernel_42181/1551531530.py:34: FutureWarning: Series.__getitem__ treating keys as positions is deprecated. In a future version, integer keys will always be treated as labels (consistent with DataFrame behavior). To access a value by position, use `ser.iloc[pos]`\n",
      "  index = int(max[0])\n"
     ]
    },
    {
     "name": "stdout",
     "output_type": "stream",
     "text": [
      "      score   label\n",
      "0  0.594091  person\n",
      "1  0.391119     dog\n",
      "2  0.009827    snap\n",
      "3  0.003961   quiet\n",
      "4  0.001002    clap\n",
      "person\n",
      "word was detected:  person\n",
      "All contents of audio array was removed.\n"
     ]
    },
    {
     "name": "stderr",
     "output_type": "stream",
     "text": [
      "/var/folders/16/7hh1zfjs7cq_gs48v5wmkg1r0000gn/T/ipykernel_42181/1551531530.py:34: FutureWarning: Series.__getitem__ treating keys as positions is deprecated. In a future version, integer keys will always be treated as labels (consistent with DataFrame behavior). To access a value by position, use `ser.iloc[pos]`\n",
      "  index = int(max[0])\n"
     ]
    },
    {
     "name": "stdout",
     "output_type": "stream",
     "text": [
      "      score   label\n",
      "0  0.686051  person\n",
      "1  0.286379     dog\n",
      "2  0.019116    snap\n",
      "3  0.005355   quiet\n",
      "4  0.003100    clap\n",
      "person\n",
      "word was detected:  person\n",
      "All contents of audio array was removed.\n"
     ]
    },
    {
     "name": "stderr",
     "output_type": "stream",
     "text": [
      "/var/folders/16/7hh1zfjs7cq_gs48v5wmkg1r0000gn/T/ipykernel_42181/1551531530.py:34: FutureWarning: Series.__getitem__ treating keys as positions is deprecated. In a future version, integer keys will always be treated as labels (consistent with DataFrame behavior). To access a value by position, use `ser.iloc[pos]`\n",
      "  index = int(max[0])\n"
     ]
    },
    {
     "name": "stdout",
     "output_type": "stream",
     "text": [
      "      score   label\n",
      "0  0.832443  person\n",
      "1  0.151856     dog\n",
      "2  0.009250    snap\n",
      "3  0.004603   quiet\n",
      "4  0.001848    clap\n",
      "person\n",
      "word was detected:  person\n",
      "All contents of audio array was removed.\n"
     ]
    },
    {
     "name": "stderr",
     "output_type": "stream",
     "text": [
      "/var/folders/16/7hh1zfjs7cq_gs48v5wmkg1r0000gn/T/ipykernel_42181/1551531530.py:34: FutureWarning: Series.__getitem__ treating keys as positions is deprecated. In a future version, integer keys will always be treated as labels (consistent with DataFrame behavior). To access a value by position, use `ser.iloc[pos]`\n",
      "  index = int(max[0])\n"
     ]
    },
    {
     "name": "stdout",
     "output_type": "stream",
     "text": [
      "      score   label\n",
      "0  0.852232  person\n",
      "1  0.128597     dog\n",
      "2  0.007639   quiet\n",
      "3  0.007102    snap\n",
      "4  0.004429    clap\n",
      "person\n",
      "word was detected:  person\n",
      "All contents of audio array was removed.\n"
     ]
    },
    {
     "name": "stderr",
     "output_type": "stream",
     "text": [
      "/var/folders/16/7hh1zfjs7cq_gs48v5wmkg1r0000gn/T/ipykernel_42181/1551531530.py:34: FutureWarning: Series.__getitem__ treating keys as positions is deprecated. In a future version, integer keys will always be treated as labels (consistent with DataFrame behavior). To access a value by position, use `ser.iloc[pos]`\n",
      "  index = int(max[0])\n"
     ]
    },
    {
     "name": "stdout",
     "output_type": "stream",
     "text": [
      "      score   label\n",
      "0  0.557064  person\n",
      "1  0.425753     dog\n",
      "2  0.009883    snap\n",
      "3  0.005335   quiet\n",
      "4  0.001965    clap\n",
      "person\n",
      "word was detected:  person\n",
      "All contents of audio array was removed.\n"
     ]
    },
    {
     "name": "stderr",
     "output_type": "stream",
     "text": [
      "/var/folders/16/7hh1zfjs7cq_gs48v5wmkg1r0000gn/T/ipykernel_42181/1551531530.py:34: FutureWarning: Series.__getitem__ treating keys as positions is deprecated. In a future version, integer keys will always be treated as labels (consistent with DataFrame behavior). To access a value by position, use `ser.iloc[pos]`\n",
      "  index = int(max[0])\n"
     ]
    },
    {
     "name": "stdout",
     "output_type": "stream",
     "text": [
      "      score   label\n",
      "0  0.745595     dog\n",
      "1  0.224178  person\n",
      "2  0.024120    snap\n",
      "3  0.004045   quiet\n",
      "4  0.002061    clap\n",
      "dog\n",
      "word was detected:  dog\n",
      "All contents of audio array was removed.\n"
     ]
    },
    {
     "name": "stderr",
     "output_type": "stream",
     "text": [
      "/var/folders/16/7hh1zfjs7cq_gs48v5wmkg1r0000gn/T/ipykernel_42181/1551531530.py:34: FutureWarning: Series.__getitem__ treating keys as positions is deprecated. In a future version, integer keys will always be treated as labels (consistent with DataFrame behavior). To access a value by position, use `ser.iloc[pos]`\n",
      "  index = int(max[0])\n"
     ]
    },
    {
     "name": "stdout",
     "output_type": "stream",
     "text": [
      "      score   label\n",
      "0  0.546922     dog\n",
      "1  0.423237  person\n",
      "2  0.026543    snap\n",
      "3  0.002450   quiet\n",
      "4  0.000847    clap\n",
      "dog\n",
      "word was detected:  dog\n",
      "All contents of audio array was removed.\n"
     ]
    },
    {
     "name": "stderr",
     "output_type": "stream",
     "text": [
      "/var/folders/16/7hh1zfjs7cq_gs48v5wmkg1r0000gn/T/ipykernel_42181/1551531530.py:34: FutureWarning: Series.__getitem__ treating keys as positions is deprecated. In a future version, integer keys will always be treated as labels (consistent with DataFrame behavior). To access a value by position, use `ser.iloc[pos]`\n",
      "  index = int(max[0])\n"
     ]
    },
    {
     "name": "stdout",
     "output_type": "stream",
     "text": [
      "      score   label\n",
      "0  0.837411     dog\n",
      "1  0.117941  person\n",
      "2  0.040224    snap\n",
      "3  0.003149    clap\n",
      "4  0.001274   quiet\n",
      "dog\n",
      "word was detected:  dog\n",
      "All contents of audio array was removed.\n"
     ]
    },
    {
     "name": "stderr",
     "output_type": "stream",
     "text": [
      "/var/folders/16/7hh1zfjs7cq_gs48v5wmkg1r0000gn/T/ipykernel_42181/1551531530.py:34: FutureWarning: Series.__getitem__ treating keys as positions is deprecated. In a future version, integer keys will always be treated as labels (consistent with DataFrame behavior). To access a value by position, use `ser.iloc[pos]`\n",
      "  index = int(max[0])\n"
     ]
    },
    {
     "name": "stdout",
     "output_type": "stream",
     "text": [
      "      score   label\n",
      "0  0.792641     dog\n",
      "1  0.175643  person\n",
      "2  0.025507    snap\n",
      "3  0.004083   quiet\n",
      "4  0.002126    clap\n",
      "dog\n",
      "word was detected:  dog\n",
      "All contents of audio array was removed.\n"
     ]
    },
    {
     "name": "stderr",
     "output_type": "stream",
     "text": [
      "/var/folders/16/7hh1zfjs7cq_gs48v5wmkg1r0000gn/T/ipykernel_42181/1551531530.py:34: FutureWarning: Series.__getitem__ treating keys as positions is deprecated. In a future version, integer keys will always be treated as labels (consistent with DataFrame behavior). To access a value by position, use `ser.iloc[pos]`\n",
      "  index = int(max[0])\n"
     ]
    },
    {
     "name": "stdout",
     "output_type": "stream",
     "text": [
      "      score   label\n",
      "0  0.771883  person\n",
      "1  0.205617     dog\n",
      "2  0.009558   quiet\n",
      "3  0.007790    snap\n",
      "4  0.005152    clap\n",
      "person\n",
      "word was detected:  person\n",
      "All contents of audio array was removed.\n"
     ]
    },
    {
     "name": "stderr",
     "output_type": "stream",
     "text": [
      "/var/folders/16/7hh1zfjs7cq_gs48v5wmkg1r0000gn/T/ipykernel_42181/1551531530.py:34: FutureWarning: Series.__getitem__ treating keys as positions is deprecated. In a future version, integer keys will always be treated as labels (consistent with DataFrame behavior). To access a value by position, use `ser.iloc[pos]`\n",
      "  index = int(max[0])\n"
     ]
    },
    {
     "name": "stdout",
     "output_type": "stream",
     "text": [
      "      score   label\n",
      "0  0.679181  person\n",
      "1  0.239355     dog\n",
      "2  0.054593    snap\n",
      "3  0.014694    clap\n",
      "4  0.012177   quiet\n",
      "person\n",
      "word was detected:  person\n",
      "All contents of audio array was removed.\n"
     ]
    },
    {
     "name": "stderr",
     "output_type": "stream",
     "text": [
      "/var/folders/16/7hh1zfjs7cq_gs48v5wmkg1r0000gn/T/ipykernel_42181/1551531530.py:34: FutureWarning: Series.__getitem__ treating keys as positions is deprecated. In a future version, integer keys will always be treated as labels (consistent with DataFrame behavior). To access a value by position, use `ser.iloc[pos]`\n",
      "  index = int(max[0])\n"
     ]
    },
    {
     "name": "stdout",
     "output_type": "stream",
     "text": [
      "      score   label\n",
      "0  0.661814  person\n",
      "1  0.291395     dog\n",
      "2  0.025776    snap\n",
      "3  0.012978   quiet\n",
      "4  0.008037    clap\n",
      "person\n",
      "word was detected:  person\n",
      "All contents of audio array was removed.\n"
     ]
    },
    {
     "name": "stderr",
     "output_type": "stream",
     "text": [
      "/var/folders/16/7hh1zfjs7cq_gs48v5wmkg1r0000gn/T/ipykernel_42181/1551531530.py:34: FutureWarning: Series.__getitem__ treating keys as positions is deprecated. In a future version, integer keys will always be treated as labels (consistent with DataFrame behavior). To access a value by position, use `ser.iloc[pos]`\n",
      "  index = int(max[0])\n"
     ]
    },
    {
     "name": "stdout",
     "output_type": "stream",
     "text": [
      "      score   label\n",
      "0  0.879646  person\n",
      "1  0.092006     dog\n",
      "2  0.016595    snap\n",
      "3  0.009331   quiet\n",
      "4  0.002421    clap\n",
      "person\n",
      "word was detected:  person\n",
      "All contents of audio array was removed.\n"
     ]
    },
    {
     "name": "stderr",
     "output_type": "stream",
     "text": [
      "/var/folders/16/7hh1zfjs7cq_gs48v5wmkg1r0000gn/T/ipykernel_42181/1551531530.py:34: FutureWarning: Series.__getitem__ treating keys as positions is deprecated. In a future version, integer keys will always be treated as labels (consistent with DataFrame behavior). To access a value by position, use `ser.iloc[pos]`\n",
      "  index = int(max[0])\n"
     ]
    },
    {
     "name": "stdout",
     "output_type": "stream",
     "text": [
      "      score   label\n",
      "0  0.435141  person\n",
      "1  0.261388     dog\n",
      "2  0.214468   quiet\n",
      "3  0.060622    snap\n",
      "4  0.028381    clap\n",
      "person\n",
      "word was detected:  person\n",
      "All contents of audio array was removed.\n"
     ]
    },
    {
     "name": "stderr",
     "output_type": "stream",
     "text": [
      "/var/folders/16/7hh1zfjs7cq_gs48v5wmkg1r0000gn/T/ipykernel_42181/1551531530.py:34: FutureWarning: Series.__getitem__ treating keys as positions is deprecated. In a future version, integer keys will always be treated as labels (consistent with DataFrame behavior). To access a value by position, use `ser.iloc[pos]`\n",
      "  index = int(max[0])\n"
     ]
    },
    {
     "name": "stdout",
     "output_type": "stream",
     "text": [
      "      score   label\n",
      "0  0.775570  person\n",
      "1  0.187798     dog\n",
      "2  0.019968    snap\n",
      "3  0.008969   quiet\n",
      "4  0.007694    clap\n",
      "person\n",
      "word was detected:  person\n",
      "All contents of audio array was removed.\n"
     ]
    },
    {
     "name": "stderr",
     "output_type": "stream",
     "text": [
      "/var/folders/16/7hh1zfjs7cq_gs48v5wmkg1r0000gn/T/ipykernel_42181/1551531530.py:34: FutureWarning: Series.__getitem__ treating keys as positions is deprecated. In a future version, integer keys will always be treated as labels (consistent with DataFrame behavior). To access a value by position, use `ser.iloc[pos]`\n",
      "  index = int(max[0])\n"
     ]
    },
    {
     "name": "stdout",
     "output_type": "stream",
     "text": [
      "      score   label\n",
      "0  0.643747  person\n",
      "1  0.303760     dog\n",
      "2  0.027481   quiet\n",
      "3  0.017226    snap\n",
      "4  0.007785    clap\n",
      "person\n",
      "word was detected:  person\n",
      "All contents of audio array was removed.\n"
     ]
    },
    {
     "name": "stderr",
     "output_type": "stream",
     "text": [
      "/var/folders/16/7hh1zfjs7cq_gs48v5wmkg1r0000gn/T/ipykernel_42181/1551531530.py:34: FutureWarning: Series.__getitem__ treating keys as positions is deprecated. In a future version, integer keys will always be treated as labels (consistent with DataFrame behavior). To access a value by position, use `ser.iloc[pos]`\n",
      "  index = int(max[0])\n"
     ]
    },
    {
     "name": "stdout",
     "output_type": "stream",
     "text": [
      "      score   label\n",
      "0  0.495050     dog\n",
      "1  0.403333  person\n",
      "2  0.071821    snap\n",
      "3  0.019527   quiet\n",
      "4  0.010269    clap\n",
      "dog\n",
      "word was detected:  dog\n",
      "All contents of audio array was removed.\n"
     ]
    },
    {
     "name": "stderr",
     "output_type": "stream",
     "text": [
      "/var/folders/16/7hh1zfjs7cq_gs48v5wmkg1r0000gn/T/ipykernel_42181/1551531530.py:34: FutureWarning: Series.__getitem__ treating keys as positions is deprecated. In a future version, integer keys will always be treated as labels (consistent with DataFrame behavior). To access a value by position, use `ser.iloc[pos]`\n",
      "  index = int(max[0])\n"
     ]
    },
    {
     "name": "stdout",
     "output_type": "stream",
     "text": [
      "      score   label\n",
      "0  0.754104  person\n",
      "1  0.161380     dog\n",
      "2  0.039940    snap\n",
      "3  0.035632   quiet\n",
      "4  0.008945    clap\n",
      "person\n",
      "word was detected:  person\n",
      "All contents of audio array was removed.\n"
     ]
    },
    {
     "name": "stderr",
     "output_type": "stream",
     "text": [
      "/var/folders/16/7hh1zfjs7cq_gs48v5wmkg1r0000gn/T/ipykernel_42181/1551531530.py:34: FutureWarning: Series.__getitem__ treating keys as positions is deprecated. In a future version, integer keys will always be treated as labels (consistent with DataFrame behavior). To access a value by position, use `ser.iloc[pos]`\n",
      "  index = int(max[0])\n"
     ]
    },
    {
     "name": "stdout",
     "output_type": "stream",
     "text": [
      "      score   label\n",
      "0  0.810757  person\n",
      "1  0.150177     dog\n",
      "2  0.018162   quiet\n",
      "3  0.016693    snap\n",
      "4  0.004211    clap\n",
      "person\n",
      "word was detected:  person\n",
      "All contents of audio array was removed.\n"
     ]
    },
    {
     "name": "stderr",
     "output_type": "stream",
     "text": [
      "/var/folders/16/7hh1zfjs7cq_gs48v5wmkg1r0000gn/T/ipykernel_42181/1551531530.py:34: FutureWarning: Series.__getitem__ treating keys as positions is deprecated. In a future version, integer keys will always be treated as labels (consistent with DataFrame behavior). To access a value by position, use `ser.iloc[pos]`\n",
      "  index = int(max[0])\n"
     ]
    },
    {
     "name": "stdout",
     "output_type": "stream",
     "text": [
      "      score   label\n",
      "0  0.619984     dog\n",
      "1  0.346312  person\n",
      "2  0.026654   quiet\n",
      "3  0.004087    snap\n",
      "4  0.002962    clap\n",
      "dog\n",
      "word was detected:  dog\n",
      "All contents of audio array was removed.\n"
     ]
    },
    {
     "name": "stderr",
     "output_type": "stream",
     "text": [
      "/var/folders/16/7hh1zfjs7cq_gs48v5wmkg1r0000gn/T/ipykernel_42181/1551531530.py:34: FutureWarning: Series.__getitem__ treating keys as positions is deprecated. In a future version, integer keys will always be treated as labels (consistent with DataFrame behavior). To access a value by position, use `ser.iloc[pos]`\n",
      "  index = int(max[0])\n"
     ]
    },
    {
     "name": "stdout",
     "output_type": "stream",
     "text": [
      "      score   label\n",
      "0  0.496407     dog\n",
      "1  0.466497  person\n",
      "2  0.025476    snap\n",
      "3  0.006819   quiet\n",
      "4  0.004800    clap\n",
      "dog\n",
      "word was detected:  dog\n",
      "All contents of audio array was removed.\n"
     ]
    },
    {
     "name": "stderr",
     "output_type": "stream",
     "text": [
      "/var/folders/16/7hh1zfjs7cq_gs48v5wmkg1r0000gn/T/ipykernel_42181/1551531530.py:34: FutureWarning: Series.__getitem__ treating keys as positions is deprecated. In a future version, integer keys will always be treated as labels (consistent with DataFrame behavior). To access a value by position, use `ser.iloc[pos]`\n",
      "  index = int(max[0])\n"
     ]
    },
    {
     "name": "stdout",
     "output_type": "stream",
     "text": [
      "      score   label\n",
      "0  0.835016  person\n",
      "1  0.121188     dog\n",
      "2  0.031092   quiet\n",
      "3  0.010327    snap\n",
      "4  0.002377    clap\n",
      "person\n",
      "word was detected:  person\n",
      "All contents of audio array was removed.\n"
     ]
    },
    {
     "name": "stderr",
     "output_type": "stream",
     "text": [
      "/var/folders/16/7hh1zfjs7cq_gs48v5wmkg1r0000gn/T/ipykernel_42181/1551531530.py:34: FutureWarning: Series.__getitem__ treating keys as positions is deprecated. In a future version, integer keys will always be treated as labels (consistent with DataFrame behavior). To access a value by position, use `ser.iloc[pos]`\n",
      "  index = int(max[0])\n"
     ]
    },
    {
     "name": "stdout",
     "output_type": "stream",
     "text": [
      "      score   label\n",
      "0  0.813649  person\n",
      "1  0.169370     dog\n",
      "2  0.008270    snap\n",
      "3  0.006837   quiet\n",
      "4  0.001873    clap\n",
      "person\n",
      "word was detected:  person\n",
      "All contents of audio array was removed.\n"
     ]
    },
    {
     "name": "stderr",
     "output_type": "stream",
     "text": [
      "/var/folders/16/7hh1zfjs7cq_gs48v5wmkg1r0000gn/T/ipykernel_42181/1551531530.py:34: FutureWarning: Series.__getitem__ treating keys as positions is deprecated. In a future version, integer keys will always be treated as labels (consistent with DataFrame behavior). To access a value by position, use `ser.iloc[pos]`\n",
      "  index = int(max[0])\n"
     ]
    },
    {
     "name": "stdout",
     "output_type": "stream",
     "text": [
      "      score   label\n",
      "0  0.530201  person\n",
      "1  0.448291     dog\n",
      "2  0.013283    snap\n",
      "3  0.006898   quiet\n",
      "4  0.001327    clap\n",
      "person\n",
      "word was detected:  person\n",
      "All contents of audio array was removed.\n"
     ]
    },
    {
     "name": "stderr",
     "output_type": "stream",
     "text": [
      "/var/folders/16/7hh1zfjs7cq_gs48v5wmkg1r0000gn/T/ipykernel_42181/1551531530.py:34: FutureWarning: Series.__getitem__ treating keys as positions is deprecated. In a future version, integer keys will always be treated as labels (consistent with DataFrame behavior). To access a value by position, use `ser.iloc[pos]`\n",
      "  index = int(max[0])\n"
     ]
    },
    {
     "name": "stdout",
     "output_type": "stream",
     "text": [
      "      score   label\n",
      "0  0.765063  person\n",
      "1  0.129489     dog\n",
      "2  0.050189   quiet\n",
      "3  0.044305    snap\n",
      "4  0.010954    clap\n",
      "person\n",
      "word was detected:  person\n",
      "All contents of audio array was removed.\n"
     ]
    },
    {
     "name": "stderr",
     "output_type": "stream",
     "text": [
      "/var/folders/16/7hh1zfjs7cq_gs48v5wmkg1r0000gn/T/ipykernel_42181/1551531530.py:34: FutureWarning: Series.__getitem__ treating keys as positions is deprecated. In a future version, integer keys will always be treated as labels (consistent with DataFrame behavior). To access a value by position, use `ser.iloc[pos]`\n",
      "  index = int(max[0])\n"
     ]
    },
    {
     "name": "stdout",
     "output_type": "stream",
     "text": [
      "      score   label\n",
      "0  0.713155  person\n",
      "1  0.264772     dog\n",
      "2  0.013126    snap\n",
      "3  0.006134   quiet\n",
      "4  0.002813    clap\n",
      "person\n",
      "word was detected:  person\n",
      "All contents of audio array was removed.\n"
     ]
    },
    {
     "name": "stderr",
     "output_type": "stream",
     "text": [
      "/var/folders/16/7hh1zfjs7cq_gs48v5wmkg1r0000gn/T/ipykernel_42181/1551531530.py:34: FutureWarning: Series.__getitem__ treating keys as positions is deprecated. In a future version, integer keys will always be treated as labels (consistent with DataFrame behavior). To access a value by position, use `ser.iloc[pos]`\n",
      "  index = int(max[0])\n"
     ]
    },
    {
     "name": "stdout",
     "output_type": "stream",
     "text": [
      "      score   label\n",
      "0  0.867915  person\n",
      "1  0.117577     dog\n",
      "2  0.007208    snap\n",
      "3  0.006040   quiet\n",
      "4  0.001260    clap\n",
      "person\n",
      "word was detected:  person\n",
      "All contents of audio array was removed.\n"
     ]
    },
    {
     "name": "stderr",
     "output_type": "stream",
     "text": [
      "/var/folders/16/7hh1zfjs7cq_gs48v5wmkg1r0000gn/T/ipykernel_42181/1551531530.py:34: FutureWarning: Series.__getitem__ treating keys as positions is deprecated. In a future version, integer keys will always be treated as labels (consistent with DataFrame behavior). To access a value by position, use `ser.iloc[pos]`\n",
      "  index = int(max[0])\n"
     ]
    },
    {
     "name": "stdout",
     "output_type": "stream",
     "text": [
      "      score   label\n",
      "0  0.682222  person\n",
      "1  0.282478     dog\n",
      "2  0.021135    snap\n",
      "3  0.009316    clap\n",
      "4  0.004849   quiet\n",
      "person\n",
      "word was detected:  person\n",
      "All contents of audio array was removed.\n"
     ]
    },
    {
     "name": "stderr",
     "output_type": "stream",
     "text": [
      "/var/folders/16/7hh1zfjs7cq_gs48v5wmkg1r0000gn/T/ipykernel_42181/1551531530.py:34: FutureWarning: Series.__getitem__ treating keys as positions is deprecated. In a future version, integer keys will always be treated as labels (consistent with DataFrame behavior). To access a value by position, use `ser.iloc[pos]`\n",
      "  index = int(max[0])\n"
     ]
    },
    {
     "name": "stdout",
     "output_type": "stream",
     "text": [
      "      score   label\n",
      "0  0.647878     dog\n",
      "1  0.315438  person\n",
      "2  0.018273    clap\n",
      "3  0.012085    snap\n",
      "4  0.006326   quiet\n",
      "dog\n",
      "word was detected:  dog\n",
      "All contents of audio array was removed.\n"
     ]
    },
    {
     "name": "stderr",
     "output_type": "stream",
     "text": [
      "/var/folders/16/7hh1zfjs7cq_gs48v5wmkg1r0000gn/T/ipykernel_42181/1551531530.py:34: FutureWarning: Series.__getitem__ treating keys as positions is deprecated. In a future version, integer keys will always be treated as labels (consistent with DataFrame behavior). To access a value by position, use `ser.iloc[pos]`\n",
      "  index = int(max[0])\n"
     ]
    },
    {
     "name": "stdout",
     "output_type": "stream",
     "text": [
      "      score   label\n",
      "0  0.771332     dog\n",
      "1  0.195305  person\n",
      "2  0.019226    snap\n",
      "3  0.010432    clap\n",
      "4  0.003705   quiet\n",
      "dog\n",
      "word was detected:  dog\n",
      "All contents of audio array was removed.\n"
     ]
    },
    {
     "name": "stderr",
     "output_type": "stream",
     "text": [
      "/var/folders/16/7hh1zfjs7cq_gs48v5wmkg1r0000gn/T/ipykernel_42181/1551531530.py:34: FutureWarning: Series.__getitem__ treating keys as positions is deprecated. In a future version, integer keys will always be treated as labels (consistent with DataFrame behavior). To access a value by position, use `ser.iloc[pos]`\n",
      "  index = int(max[0])\n"
     ]
    },
    {
     "name": "stdout",
     "output_type": "stream",
     "text": [
      "      score   label\n",
      "0  0.468750     dog\n",
      "1  0.422416  person\n",
      "2  0.068913   quiet\n",
      "3  0.026559    snap\n",
      "4  0.013363    clap\n",
      "dog\n",
      "word was detected:  dog\n",
      "All contents of audio array was removed.\n"
     ]
    },
    {
     "name": "stderr",
     "output_type": "stream",
     "text": [
      "/var/folders/16/7hh1zfjs7cq_gs48v5wmkg1r0000gn/T/ipykernel_42181/1551531530.py:34: FutureWarning: Series.__getitem__ treating keys as positions is deprecated. In a future version, integer keys will always be treated as labels (consistent with DataFrame behavior). To access a value by position, use `ser.iloc[pos]`\n",
      "  index = int(max[0])\n"
     ]
    },
    {
     "name": "stdout",
     "output_type": "stream",
     "text": [
      "      score   label\n",
      "0  0.545112  person\n",
      "1  0.378077     dog\n",
      "2  0.036373   quiet\n",
      "3  0.025278    snap\n",
      "4  0.015160    clap\n",
      "person\n",
      "word was detected:  person\n",
      "All contents of audio array was removed.\n"
     ]
    },
    {
     "name": "stderr",
     "output_type": "stream",
     "text": [
      "/var/folders/16/7hh1zfjs7cq_gs48v5wmkg1r0000gn/T/ipykernel_42181/1551531530.py:34: FutureWarning: Series.__getitem__ treating keys as positions is deprecated. In a future version, integer keys will always be treated as labels (consistent with DataFrame behavior). To access a value by position, use `ser.iloc[pos]`\n",
      "  index = int(max[0])\n"
     ]
    },
    {
     "name": "stdout",
     "output_type": "stream",
     "text": [
      "      score   label\n",
      "0  0.540730     dog\n",
      "1  0.440704  person\n",
      "2  0.010302    snap\n",
      "3  0.004459    clap\n",
      "4  0.003804   quiet\n",
      "dog\n",
      "word was detected:  dog\n",
      "All contents of audio array was removed.\n"
     ]
    },
    {
     "name": "stderr",
     "output_type": "stream",
     "text": [
      "/var/folders/16/7hh1zfjs7cq_gs48v5wmkg1r0000gn/T/ipykernel_42181/1551531530.py:34: FutureWarning: Series.__getitem__ treating keys as positions is deprecated. In a future version, integer keys will always be treated as labels (consistent with DataFrame behavior). To access a value by position, use `ser.iloc[pos]`\n",
      "  index = int(max[0])\n"
     ]
    },
    {
     "name": "stdout",
     "output_type": "stream",
     "text": [
      "      score   label\n",
      "0  0.717704  person\n",
      "1  0.248128     dog\n",
      "2  0.016835    snap\n",
      "3  0.012884   quiet\n",
      "4  0.004449    clap\n",
      "person\n",
      "word was detected:  person\n",
      "All contents of audio array was removed.\n"
     ]
    },
    {
     "name": "stderr",
     "output_type": "stream",
     "text": [
      "/var/folders/16/7hh1zfjs7cq_gs48v5wmkg1r0000gn/T/ipykernel_42181/1551531530.py:34: FutureWarning: Series.__getitem__ treating keys as positions is deprecated. In a future version, integer keys will always be treated as labels (consistent with DataFrame behavior). To access a value by position, use `ser.iloc[pos]`\n",
      "  index = int(max[0])\n"
     ]
    },
    {
     "name": "stdout",
     "output_type": "stream",
     "text": [
      "      score   label\n",
      "0  0.669852  person\n",
      "1  0.298609     dog\n",
      "2  0.019436    snap\n",
      "3  0.008325   quiet\n",
      "4  0.003778    clap\n",
      "person\n",
      "word was detected:  person\n",
      "All contents of audio array was removed.\n"
     ]
    },
    {
     "name": "stderr",
     "output_type": "stream",
     "text": [
      "/var/folders/16/7hh1zfjs7cq_gs48v5wmkg1r0000gn/T/ipykernel_42181/1551531530.py:34: FutureWarning: Series.__getitem__ treating keys as positions is deprecated. In a future version, integer keys will always be treated as labels (consistent with DataFrame behavior). To access a value by position, use `ser.iloc[pos]`\n",
      "  index = int(max[0])\n"
     ]
    },
    {
     "name": "stdout",
     "output_type": "stream",
     "text": [
      "      score   label\n",
      "0  0.790304  person\n",
      "1  0.182791     dog\n",
      "2  0.019094    snap\n",
      "3  0.004086   quiet\n",
      "4  0.003725    clap\n",
      "person\n",
      "word was detected:  person\n",
      "All contents of audio array was removed.\n"
     ]
    },
    {
     "name": "stderr",
     "output_type": "stream",
     "text": [
      "/var/folders/16/7hh1zfjs7cq_gs48v5wmkg1r0000gn/T/ipykernel_42181/1551531530.py:34: FutureWarning: Series.__getitem__ treating keys as positions is deprecated. In a future version, integer keys will always be treated as labels (consistent with DataFrame behavior). To access a value by position, use `ser.iloc[pos]`\n",
      "  index = int(max[0])\n"
     ]
    },
    {
     "name": "stdout",
     "output_type": "stream",
     "text": [
      "      score   label\n",
      "0  0.563824  person\n",
      "1  0.322344     dog\n",
      "2  0.078153    snap\n",
      "3  0.023689    clap\n",
      "4  0.011990   quiet\n",
      "person\n",
      "word was detected:  person\n",
      "All contents of audio array was removed.\n"
     ]
    },
    {
     "name": "stderr",
     "output_type": "stream",
     "text": [
      "/var/folders/16/7hh1zfjs7cq_gs48v5wmkg1r0000gn/T/ipykernel_42181/1551531530.py:34: FutureWarning: Series.__getitem__ treating keys as positions is deprecated. In a future version, integer keys will always be treated as labels (consistent with DataFrame behavior). To access a value by position, use `ser.iloc[pos]`\n",
      "  index = int(max[0])\n"
     ]
    },
    {
     "name": "stdout",
     "output_type": "stream",
     "text": [
      "      score   label\n",
      "0  0.694285  person\n",
      "1  0.195774     dog\n",
      "2  0.052732    snap\n",
      "3  0.042591    clap\n",
      "4  0.014618   quiet\n",
      "person\n",
      "word was detected:  person\n",
      "All contents of audio array was removed.\n"
     ]
    }
   ],
   "source": [
    "#Launches Gradio Interface\n",
    "demo.launch()"
   ]
  }
 ],
 "metadata": {
  "kernelspec": {
   "display_name": "AIM",
   "language": "python",
   "name": "python3"
  },
  "language_info": {
   "codemirror_mode": {
    "name": "ipython",
    "version": 3
   },
   "file_extension": ".py",
   "mimetype": "text/x-python",
   "name": "python",
   "nbconvert_exporter": "python",
   "pygments_lexer": "ipython3",
   "version": "3.11.8"
  }
 },
 "nbformat": 4,
 "nbformat_minor": 2
}
