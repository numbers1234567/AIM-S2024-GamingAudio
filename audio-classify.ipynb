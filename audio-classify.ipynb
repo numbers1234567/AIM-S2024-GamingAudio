{
 "cells": [
  {
   "cell_type": "code",
   "execution_count": 3,
   "metadata": {},
   "outputs": [],
   "source": [
    "import gradio as gr\n",
    "from transformers import pipeline\n",
    "import pandas as pd\n",
    "import numpy as np\n",
    "from pynput import keyboard\n",
    "import time\n",
    "import json\n",
    "from pynput.keyboard import Key, Controller, KeyCode"
   ]
  },
  {
   "cell_type": "code",
   "execution_count": 5,
   "metadata": {},
   "outputs": [],
   "source": [
    "\n",
    "pipe = pipeline(task=\"zero-shot-audio-classification\", model=\"laion/clap-htsat-fused\")"
   ]
  },
  {
   "cell_type": "code",
   "execution_count": 6,
   "metadata": {},
   "outputs": [],
   "source": [
    "# Load the macros from the JSON file\n",
    "with open('macros.json', 'r') as file:\n",
    "    data = json.load(file)\n",
    "\n",
    "# Extract macros from the loaded data\n",
    "macros = data[\"macros\"]\n",
    "\n",
    "# Creates a controller\n",
    "board = Controller()\n",
    "\n",
    "# Create a dictionary to store macros\n",
    "macro_functions = {}\n",
    "\n",
    "# Iterates over every macro\n",
    "for macro in macros:\n",
    "    # Macro details\n",
    "    name = macro[\"name\"]\n",
    "    keycodes = macro[\"keycodes\"]\n",
    "    delay = macro[\"delay\"]\n",
    "\n",
    "# Defines the macro function\n",
    "    macro_function = lambda keycodes=keycodes, delay=delay: [\n",
    "        # Press the key according to the keycode\n",
    "        (board.press(Key.enter) if keycode == Key.enter else\n",
    "        board.press(Key.space) if keycode == Key.space else\n",
    "        # If keycode is a single character then press that key\n",
    "        board.press(keycode) if len(keycode) == 1 else\n",
    "        # Else if the key is in the form <...> then press that key\n",
    "        board.press(KeyCode.from_vk(int(keycode[1:-1]))),\n",
    "        # Delay\n",
    "        time.sleep(delay),\n",
    "        # Release the key according to the key code\n",
    "        board.release(Key.enter) if keycode == Key.enter else\n",
    "        board.release(Key.space) if keycode == Key.space else\n",
    "        # If keycode is a single character then release that key\n",
    "        board.release(keycode) if len(keycode) == 1 else\n",
    "        # Else if the key is in the form <...> then release that key\n",
    "        board.release(KeyCode.from_vk(int(keycode[1:-1]))))\n",
    "        # Iterate over every keycode in the macro\n",
    "        for keycode in keycodes\n",
    "    ]\n",
    "\n",
    "    # Add the macro function to the dictionary with the macro name as the key\n",
    "    macro_functions[name] = macro_function\n",
    "    "
   ]
  },
  {
   "cell_type": "code",
   "execution_count": 11,
   "metadata": {},
   "outputs": [],
   "source": [
    "#empty array \n",
    "audio_array = np.empty([])\n",
    "\n",
    "word_detected = False\n",
    "\n",
    "\n",
    "actions = []\n",
    "scores = [0.998,0.01,0.22]\n",
    "for x in macro_functions.keys():\n",
    "    actions.append(x)\n",
    "\n",
    "#actions = [\"nothing\",\"clap\",\"snap\",]\n",
    "\n",
    "\n",
    "#CLAP model's prediction function\n",
    "def classify(audio):\n",
    "    global audio_array, word_detected, actions\n",
    "    i = 0\n",
    "    \n",
    "    samplerate, array = audio\n",
    "    \n",
    "    #converts the input live audio array to numpy array and appends it to current audio array\n",
    "    live_array = np.array(array)\n",
    "    audio_array = np.append(audio_array, live_array)\n",
    "    \n",
    "    dimension = audio_array.shape\n",
    "    \n",
    "    \n",
    "    #removes 5 second of audio from array if it's longer than 5 seconds\n",
    "    if((dimension[0]) > (240000)):\n",
    "        audio_array = audio_array[-240000:]\n",
    "        print(\"Audio size: \", audio_array.shape)\n",
    "    \n",
    "    #Pass audio to model for predictions\n",
    "    result = pipe(audio_array, candidate_labels=actions)\n",
    "    \n",
    "    #Formats the result to a dataframe and retrives the highest scoring label\n",
    "    df = pd.DataFrame(result)\n",
    "    max = df.idxmax(numeric_only=True)\n",
    "    index = int(max[0])\n",
    "    word = df.iat[index,1]\n",
    "    print(df)\n",
    "    print(word)\n",
    "    \n",
    "    #Checks if the highest scored label was an action label\n",
    "    if word != \"nothing\":\n",
    "        word_detected = True\n",
    "        print(\"word was detected: \", word)\n",
    "        print(\"pressing macros...\")\n",
    "        macro_functions[word]()\n",
    "        \n",
    "   \n",
    "    #if word is detected or if the audio reaches 5 seconds, \n",
    "    #then reset the audio array to empty\n",
    "    if (word_detected == True):\n",
    "        audio_array = np.empty([1,1])\n",
    "        print(\"All contents of audio array was removed.\")\n",
    "        word_detected = False\n",
    "    \n",
    "    return df"
   ]
  },
  {
   "cell_type": "code",
   "execution_count": 29,
   "metadata": {},
   "outputs": [],
   "source": [
    "#Input - list of strings, list of corresponding scores\n",
    "#Output - list of dictionaries where 'score' contains score corresponding to 'label' value\n",
    "def joinDictionary (labels, scores):\n",
    "    combinedDictionary = []\n",
    "    dictionary = {'score': 0 ,'label':'test'}\n",
    "    for i in range(len(labels)):\n",
    "        #Create new dictionary for each label\n",
    "        dictionary['score'] = scores[i]\n",
    "        dictionary['label'] = labels[i]\n",
    "        #add new dictionary to combined list\n",
    "        combinedDictionary.append(dictionary.copy())\n",
    "    return combinedDictionary"
   ]
  },
  {
   "cell_type": "code",
   "execution_count": 30,
   "metadata": {},
   "outputs": [
    {
     "data": {
      "text/plain": [
       "[{'score': 0.998, 'label': 'snap'}, {'score': 0.01, 'label': 'clap'}]"
      ]
     },
     "execution_count": 30,
     "metadata": {},
     "output_type": "execute_result"
    }
   ],
   "source": [
    "result = joinDictionary(actions,scores)\n",
    "result"
   ]
  },
  {
   "cell_type": "code",
   "execution_count": 17,
   "metadata": {},
   "outputs": [],
   "source": [
    "#Settings for Gradio Interface\n",
    "demo = gr.Interface(\n",
    "    fn=classify,\n",
    "    inputs=gr.Audio(sources=[\"microphone\"],streaming=True),\n",
    "    outputs=[gr.Dataframe()],\n",
    "    live=True,\n",
    "    \n",
    ")"
   ]
  },
  {
   "cell_type": "code",
   "execution_count": 18,
   "metadata": {},
   "outputs": [
    {
     "name": "stdout",
     "output_type": "stream",
     "text": [
      "Running on local URL:  http://127.0.0.1:7863\n",
      "\n",
      "To create a public link, set `share=True` in `launch()`.\n"
     ]
    },
    {
     "data": {
      "text/html": [
       "<div><iframe src=\"http://127.0.0.1:7863/\" width=\"100%\" height=\"500\" allow=\"autoplay; camera; microphone; clipboard-read; clipboard-write;\" frameborder=\"0\" allowfullscreen></iframe></div>"
      ],
      "text/plain": [
       "<IPython.core.display.HTML object>"
      ]
     },
     "metadata": {},
     "output_type": "display_data"
    },
    {
     "data": {
      "text/plain": []
     },
     "execution_count": 18,
     "metadata": {},
     "output_type": "execute_result"
    },
    {
     "name": "stderr",
     "output_type": "stream",
     "text": [
      "/var/folders/16/7hh1zfjs7cq_gs48v5wmkg1r0000gn/T/ipykernel_45208/3196133890.py:34: FutureWarning: Series.__getitem__ treating keys as positions is deprecated. In a future version, integer keys will always be treated as labels (consistent with DataFrame behavior). To access a value by position, use `ser.iloc[pos]`\n",
      "  index = int(max[0])\n"
     ]
    },
    {
     "name": "stdout",
     "output_type": "stream",
     "text": [
      "      score    label\n",
      "0  0.985457  nothing\n",
      "1  0.012450     clap\n",
      "2  0.002093     snap\n",
      "nothing\n"
     ]
    },
    {
     "name": "stderr",
     "output_type": "stream",
     "text": [
      "/var/folders/16/7hh1zfjs7cq_gs48v5wmkg1r0000gn/T/ipykernel_45208/3196133890.py:34: FutureWarning: Series.__getitem__ treating keys as positions is deprecated. In a future version, integer keys will always be treated as labels (consistent with DataFrame behavior). To access a value by position, use `ser.iloc[pos]`\n",
      "  index = int(max[0])\n"
     ]
    },
    {
     "name": "stdout",
     "output_type": "stream",
     "text": [
      "      score    label\n",
      "0  0.984766  nothing\n",
      "1  0.007645     clap\n",
      "2  0.007589     snap\n",
      "nothing\n"
     ]
    },
    {
     "name": "stderr",
     "output_type": "stream",
     "text": [
      "/var/folders/16/7hh1zfjs7cq_gs48v5wmkg1r0000gn/T/ipykernel_45208/3196133890.py:34: FutureWarning: Series.__getitem__ treating keys as positions is deprecated. In a future version, integer keys will always be treated as labels (consistent with DataFrame behavior). To access a value by position, use `ser.iloc[pos]`\n",
      "  index = int(max[0])\n"
     ]
    },
    {
     "name": "stdout",
     "output_type": "stream",
     "text": [
      "      score    label\n",
      "0  0.815339  nothing\n",
      "1  0.124464     clap\n",
      "2  0.060197     snap\n",
      "nothing\n"
     ]
    },
    {
     "name": "stderr",
     "output_type": "stream",
     "text": [
      "/var/folders/16/7hh1zfjs7cq_gs48v5wmkg1r0000gn/T/ipykernel_45208/3196133890.py:34: FutureWarning: Series.__getitem__ treating keys as positions is deprecated. In a future version, integer keys will always be treated as labels (consistent with DataFrame behavior). To access a value by position, use `ser.iloc[pos]`\n",
      "  index = int(max[0])\n"
     ]
    },
    {
     "name": "stdout",
     "output_type": "stream",
     "text": [
      "      score    label\n",
      "0  0.907062  nothing\n",
      "1  0.049106     clap\n",
      "2  0.043832     snap\n",
      "nothing\n",
      "Audio size:  (240000,)\n"
     ]
    },
    {
     "name": "stderr",
     "output_type": "stream",
     "text": [
      "/var/folders/16/7hh1zfjs7cq_gs48v5wmkg1r0000gn/T/ipykernel_45208/3196133890.py:34: FutureWarning: Series.__getitem__ treating keys as positions is deprecated. In a future version, integer keys will always be treated as labels (consistent with DataFrame behavior). To access a value by position, use `ser.iloc[pos]`\n",
      "  index = int(max[0])\n"
     ]
    },
    {
     "name": "stdout",
     "output_type": "stream",
     "text": [
      "      score    label\n",
      "0  0.997823  nothing\n",
      "1  0.002063     snap\n",
      "2  0.000114     clap\n",
      "nothing\n",
      "Audio size:  (240000,)\n"
     ]
    },
    {
     "name": "stderr",
     "output_type": "stream",
     "text": [
      "/var/folders/16/7hh1zfjs7cq_gs48v5wmkg1r0000gn/T/ipykernel_45208/3196133890.py:34: FutureWarning: Series.__getitem__ treating keys as positions is deprecated. In a future version, integer keys will always be treated as labels (consistent with DataFrame behavior). To access a value by position, use `ser.iloc[pos]`\n",
      "  index = int(max[0])\n"
     ]
    },
    {
     "name": "stdout",
     "output_type": "stream",
     "text": [
      "      score    label\n",
      "0  0.999049  nothing\n",
      "1  0.000853     snap\n",
      "2  0.000098     clap\n",
      "nothing\n",
      "Audio size:  (240000,)\n"
     ]
    },
    {
     "name": "stderr",
     "output_type": "stream",
     "text": [
      "/var/folders/16/7hh1zfjs7cq_gs48v5wmkg1r0000gn/T/ipykernel_45208/3196133890.py:34: FutureWarning: Series.__getitem__ treating keys as positions is deprecated. In a future version, integer keys will always be treated as labels (consistent with DataFrame behavior). To access a value by position, use `ser.iloc[pos]`\n",
      "  index = int(max[0])\n"
     ]
    },
    {
     "name": "stdout",
     "output_type": "stream",
     "text": [
      "      score    label\n",
      "0  0.987953  nothing\n",
      "1  0.011319     snap\n",
      "2  0.000728     clap\n",
      "nothing\n",
      "Audio size:  (240000,)\n"
     ]
    },
    {
     "name": "stderr",
     "output_type": "stream",
     "text": [
      "/var/folders/16/7hh1zfjs7cq_gs48v5wmkg1r0000gn/T/ipykernel_45208/3196133890.py:34: FutureWarning: Series.__getitem__ treating keys as positions is deprecated. In a future version, integer keys will always be treated as labels (consistent with DataFrame behavior). To access a value by position, use `ser.iloc[pos]`\n",
      "  index = int(max[0])\n"
     ]
    },
    {
     "name": "stdout",
     "output_type": "stream",
     "text": [
      "      score    label\n",
      "0  0.990216  nothing\n",
      "1  0.008543     snap\n",
      "2  0.001242     clap\n",
      "nothing\n",
      "Audio size:  (240000,)\n"
     ]
    },
    {
     "name": "stderr",
     "output_type": "stream",
     "text": [
      "/var/folders/16/7hh1zfjs7cq_gs48v5wmkg1r0000gn/T/ipykernel_45208/3196133890.py:34: FutureWarning: Series.__getitem__ treating keys as positions is deprecated. In a future version, integer keys will always be treated as labels (consistent with DataFrame behavior). To access a value by position, use `ser.iloc[pos]`\n",
      "  index = int(max[0])\n"
     ]
    },
    {
     "name": "stdout",
     "output_type": "stream",
     "text": [
      "      score    label\n",
      "0  0.907811  nothing\n",
      "1  0.074624     snap\n",
      "2  0.017565     clap\n",
      "nothing\n",
      "Audio size:  (240000,)\n"
     ]
    },
    {
     "name": "stderr",
     "output_type": "stream",
     "text": [
      "/var/folders/16/7hh1zfjs7cq_gs48v5wmkg1r0000gn/T/ipykernel_45208/3196133890.py:34: FutureWarning: Series.__getitem__ treating keys as positions is deprecated. In a future version, integer keys will always be treated as labels (consistent with DataFrame behavior). To access a value by position, use `ser.iloc[pos]`\n",
      "  index = int(max[0])\n"
     ]
    },
    {
     "name": "stdout",
     "output_type": "stream",
     "text": [
      "      score    label\n",
      "0  0.667695  nothing\n",
      "1  0.249116     snap\n",
      "2  0.083189     clap\n",
      "nothing\n",
      "Audio size:  (240000,)\n"
     ]
    },
    {
     "name": "stderr",
     "output_type": "stream",
     "text": [
      "/var/folders/16/7hh1zfjs7cq_gs48v5wmkg1r0000gn/T/ipykernel_45208/3196133890.py:34: FutureWarning: Series.__getitem__ treating keys as positions is deprecated. In a future version, integer keys will always be treated as labels (consistent with DataFrame behavior). To access a value by position, use `ser.iloc[pos]`\n",
      "  index = int(max[0])\n"
     ]
    },
    {
     "name": "stdout",
     "output_type": "stream",
     "text": [
      "      score    label\n",
      "0  0.661870  nothing\n",
      "1  0.254722     snap\n",
      "2  0.083407     clap\n",
      "nothing\n",
      "Audio size:  (240000,)\n"
     ]
    },
    {
     "name": "stderr",
     "output_type": "stream",
     "text": [
      "/var/folders/16/7hh1zfjs7cq_gs48v5wmkg1r0000gn/T/ipykernel_45208/3196133890.py:34: FutureWarning: Series.__getitem__ treating keys as positions is deprecated. In a future version, integer keys will always be treated as labels (consistent with DataFrame behavior). To access a value by position, use `ser.iloc[pos]`\n",
      "  index = int(max[0])\n"
     ]
    },
    {
     "name": "stdout",
     "output_type": "stream",
     "text": [
      "      score    label\n",
      "0  0.992509  nothing\n",
      "1  0.005514     snap\n",
      "2  0.001976     clap\n",
      "nothing\n",
      "Audio size:  (240000,)\n"
     ]
    },
    {
     "name": "stderr",
     "output_type": "stream",
     "text": [
      "/var/folders/16/7hh1zfjs7cq_gs48v5wmkg1r0000gn/T/ipykernel_45208/3196133890.py:34: FutureWarning: Series.__getitem__ treating keys as positions is deprecated. In a future version, integer keys will always be treated as labels (consistent with DataFrame behavior). To access a value by position, use `ser.iloc[pos]`\n",
      "  index = int(max[0])\n"
     ]
    },
    {
     "name": "stdout",
     "output_type": "stream",
     "text": [
      "      score    label\n",
      "0  0.994151  nothing\n",
      "1  0.003092     snap\n",
      "2  0.002757     clap\n",
      "nothing\n",
      "Audio size:  (240000,)\n"
     ]
    },
    {
     "name": "stderr",
     "output_type": "stream",
     "text": [
      "/var/folders/16/7hh1zfjs7cq_gs48v5wmkg1r0000gn/T/ipykernel_45208/3196133890.py:34: FutureWarning: Series.__getitem__ treating keys as positions is deprecated. In a future version, integer keys will always be treated as labels (consistent with DataFrame behavior). To access a value by position, use `ser.iloc[pos]`\n",
      "  index = int(max[0])\n"
     ]
    },
    {
     "name": "stdout",
     "output_type": "stream",
     "text": [
      "      score    label\n",
      "0  0.666250  nothing\n",
      "1  0.280024     snap\n",
      "2  0.053726     clap\n",
      "nothing\n",
      "Audio size:  (240000,)\n"
     ]
    },
    {
     "name": "stderr",
     "output_type": "stream",
     "text": [
      "/var/folders/16/7hh1zfjs7cq_gs48v5wmkg1r0000gn/T/ipykernel_45208/3196133890.py:34: FutureWarning: Series.__getitem__ treating keys as positions is deprecated. In a future version, integer keys will always be treated as labels (consistent with DataFrame behavior). To access a value by position, use `ser.iloc[pos]`\n",
      "  index = int(max[0])\n"
     ]
    },
    {
     "name": "stdout",
     "output_type": "stream",
     "text": [
      "      score    label\n",
      "0  0.566406  nothing\n",
      "1  0.333300     snap\n",
      "2  0.100294     clap\n",
      "nothing\n",
      "Audio size:  (240000,)\n"
     ]
    },
    {
     "name": "stderr",
     "output_type": "stream",
     "text": [
      "/var/folders/16/7hh1zfjs7cq_gs48v5wmkg1r0000gn/T/ipykernel_45208/3196133890.py:34: FutureWarning: Series.__getitem__ treating keys as positions is deprecated. In a future version, integer keys will always be treated as labels (consistent with DataFrame behavior). To access a value by position, use `ser.iloc[pos]`\n",
      "  index = int(max[0])\n"
     ]
    },
    {
     "name": "stdout",
     "output_type": "stream",
     "text": [
      "      score    label\n",
      "0  0.567533  nothing\n",
      "1  0.324499     snap\n",
      "2  0.107968     clap\n",
      "nothing\n",
      "Audio size:  (240000,)\n"
     ]
    },
    {
     "name": "stderr",
     "output_type": "stream",
     "text": [
      "/var/folders/16/7hh1zfjs7cq_gs48v5wmkg1r0000gn/T/ipykernel_45208/3196133890.py:34: FutureWarning: Series.__getitem__ treating keys as positions is deprecated. In a future version, integer keys will always be treated as labels (consistent with DataFrame behavior). To access a value by position, use `ser.iloc[pos]`\n",
      "  index = int(max[0])\n"
     ]
    },
    {
     "name": "stdout",
     "output_type": "stream",
     "text": [
      "      score    label\n",
      "0  0.433014     snap\n",
      "1  0.378117  nothing\n",
      "2  0.188869     clap\n",
      "snap\n",
      "word was detected:  snap\n",
      "pressing macros...\n",
      "All contents of audio array was removed.\n",
      "Audio size:  (240000,)\n"
     ]
    },
    {
     "name": "stderr",
     "output_type": "stream",
     "text": [
      "/var/folders/16/7hh1zfjs7cq_gs48v5wmkg1r0000gn/T/ipykernel_45208/3196133890.py:34: FutureWarning: Series.__getitem__ treating keys as positions is deprecated. In a future version, integer keys will always be treated as labels (consistent with DataFrame behavior). To access a value by position, use `ser.iloc[pos]`\n",
      "  index = int(max[0])\n"
     ]
    },
    {
     "name": "stdout",
     "output_type": "stream",
     "text": [
      "      score    label\n",
      "0  0.781083  nothing\n",
      "1  0.116421     snap\n",
      "2  0.102496     clap\n",
      "nothing\n",
      "Audio size:  (240000,)\n"
     ]
    },
    {
     "name": "stderr",
     "output_type": "stream",
     "text": [
      "/var/folders/16/7hh1zfjs7cq_gs48v5wmkg1r0000gn/T/ipykernel_45208/3196133890.py:34: FutureWarning: Series.__getitem__ treating keys as positions is deprecated. In a future version, integer keys will always be treated as labels (consistent with DataFrame behavior). To access a value by position, use `ser.iloc[pos]`\n",
      "  index = int(max[0])\n"
     ]
    },
    {
     "name": "stdout",
     "output_type": "stream",
     "text": [
      "      score    label\n",
      "0  0.646688  nothing\n",
      "1  0.252831     snap\n",
      "2  0.100482     clap\n",
      "nothing\n",
      "Audio size:  (240000,)\n"
     ]
    },
    {
     "name": "stderr",
     "output_type": "stream",
     "text": [
      "/var/folders/16/7hh1zfjs7cq_gs48v5wmkg1r0000gn/T/ipykernel_45208/3196133890.py:34: FutureWarning: Series.__getitem__ treating keys as positions is deprecated. In a future version, integer keys will always be treated as labels (consistent with DataFrame behavior). To access a value by position, use `ser.iloc[pos]`\n",
      "  index = int(max[0])\n"
     ]
    },
    {
     "name": "stdout",
     "output_type": "stream",
     "text": [
      "      score    label\n",
      "0  0.897787  nothing\n",
      "1  0.082384     snap\n",
      "2  0.019829     clap\n",
      "nothing\n",
      "Audio size:  (240000,)\n"
     ]
    },
    {
     "name": "stderr",
     "output_type": "stream",
     "text": [
      "/var/folders/16/7hh1zfjs7cq_gs48v5wmkg1r0000gn/T/ipykernel_45208/3196133890.py:34: FutureWarning: Series.__getitem__ treating keys as positions is deprecated. In a future version, integer keys will always be treated as labels (consistent with DataFrame behavior). To access a value by position, use `ser.iloc[pos]`\n",
      "  index = int(max[0])\n"
     ]
    },
    {
     "name": "stdout",
     "output_type": "stream",
     "text": [
      "      score    label\n",
      "0  0.886087  nothing\n",
      "1  0.100275     snap\n",
      "2  0.013638     clap\n",
      "nothing\n",
      "Audio size:  (240000,)\n"
     ]
    },
    {
     "name": "stderr",
     "output_type": "stream",
     "text": [
      "/var/folders/16/7hh1zfjs7cq_gs48v5wmkg1r0000gn/T/ipykernel_45208/3196133890.py:34: FutureWarning: Series.__getitem__ treating keys as positions is deprecated. In a future version, integer keys will always be treated as labels (consistent with DataFrame behavior). To access a value by position, use `ser.iloc[pos]`\n",
      "  index = int(max[0])\n"
     ]
    },
    {
     "name": "stdout",
     "output_type": "stream",
     "text": [
      "      score    label\n",
      "0  0.987812  nothing\n",
      "1  0.009721     snap\n",
      "2  0.002466     clap\n",
      "nothing\n",
      "Audio size:  (240000,)\n"
     ]
    },
    {
     "name": "stderr",
     "output_type": "stream",
     "text": [
      "/var/folders/16/7hh1zfjs7cq_gs48v5wmkg1r0000gn/T/ipykernel_45208/3196133890.py:34: FutureWarning: Series.__getitem__ treating keys as positions is deprecated. In a future version, integer keys will always be treated as labels (consistent with DataFrame behavior). To access a value by position, use `ser.iloc[pos]`\n",
      "  index = int(max[0])\n"
     ]
    },
    {
     "name": "stdout",
     "output_type": "stream",
     "text": [
      "      score    label\n",
      "0  0.972438  nothing\n",
      "1  0.023564     snap\n",
      "2  0.003998     clap\n",
      "nothing\n",
      "Audio size:  (240000,)\n"
     ]
    },
    {
     "name": "stderr",
     "output_type": "stream",
     "text": [
      "/var/folders/16/7hh1zfjs7cq_gs48v5wmkg1r0000gn/T/ipykernel_45208/3196133890.py:34: FutureWarning: Series.__getitem__ treating keys as positions is deprecated. In a future version, integer keys will always be treated as labels (consistent with DataFrame behavior). To access a value by position, use `ser.iloc[pos]`\n",
      "  index = int(max[0])\n"
     ]
    },
    {
     "name": "stdout",
     "output_type": "stream",
     "text": [
      "      score    label\n",
      "0  0.986834  nothing\n",
      "1  0.009905     snap\n",
      "2  0.003261     clap\n",
      "nothing\n",
      "Audio size:  (240000,)\n"
     ]
    },
    {
     "name": "stderr",
     "output_type": "stream",
     "text": [
      "/var/folders/16/7hh1zfjs7cq_gs48v5wmkg1r0000gn/T/ipykernel_45208/3196133890.py:34: FutureWarning: Series.__getitem__ treating keys as positions is deprecated. In a future version, integer keys will always be treated as labels (consistent with DataFrame behavior). To access a value by position, use `ser.iloc[pos]`\n",
      "  index = int(max[0])\n"
     ]
    },
    {
     "name": "stdout",
     "output_type": "stream",
     "text": [
      "      score    label\n",
      "0  0.987566  nothing\n",
      "1  0.009104     snap\n",
      "2  0.003331     clap\n",
      "nothing\n",
      "Audio size:  (240000,)\n"
     ]
    },
    {
     "name": "stderr",
     "output_type": "stream",
     "text": [
      "/var/folders/16/7hh1zfjs7cq_gs48v5wmkg1r0000gn/T/ipykernel_45208/3196133890.py:34: FutureWarning: Series.__getitem__ treating keys as positions is deprecated. In a future version, integer keys will always be treated as labels (consistent with DataFrame behavior). To access a value by position, use `ser.iloc[pos]`\n",
      "  index = int(max[0])\n"
     ]
    },
    {
     "name": "stdout",
     "output_type": "stream",
     "text": [
      "      score    label\n",
      "0  0.977448  nothing\n",
      "1  0.017496     snap\n",
      "2  0.005056     clap\n",
      "nothing\n",
      "Audio size:  (240000,)\n"
     ]
    },
    {
     "name": "stderr",
     "output_type": "stream",
     "text": [
      "/var/folders/16/7hh1zfjs7cq_gs48v5wmkg1r0000gn/T/ipykernel_45208/3196133890.py:34: FutureWarning: Series.__getitem__ treating keys as positions is deprecated. In a future version, integer keys will always be treated as labels (consistent with DataFrame behavior). To access a value by position, use `ser.iloc[pos]`\n",
      "  index = int(max[0])\n"
     ]
    },
    {
     "name": "stdout",
     "output_type": "stream",
     "text": [
      "      score    label\n",
      "0  0.989988  nothing\n",
      "1  0.006669     snap\n",
      "2  0.003343     clap\n",
      "nothing\n",
      "Audio size:  (240000,)\n"
     ]
    },
    {
     "name": "stderr",
     "output_type": "stream",
     "text": [
      "/var/folders/16/7hh1zfjs7cq_gs48v5wmkg1r0000gn/T/ipykernel_45208/3196133890.py:34: FutureWarning: Series.__getitem__ treating keys as positions is deprecated. In a future version, integer keys will always be treated as labels (consistent with DataFrame behavior). To access a value by position, use `ser.iloc[pos]`\n",
      "  index = int(max[0])\n"
     ]
    },
    {
     "name": "stdout",
     "output_type": "stream",
     "text": [
      "      score    label\n",
      "0  0.982173  nothing\n",
      "1  0.013370     snap\n",
      "2  0.004457     clap\n",
      "nothing\n",
      "Audio size:  (240000,)\n"
     ]
    },
    {
     "name": "stderr",
     "output_type": "stream",
     "text": [
      "/var/folders/16/7hh1zfjs7cq_gs48v5wmkg1r0000gn/T/ipykernel_45208/3196133890.py:34: FutureWarning: Series.__getitem__ treating keys as positions is deprecated. In a future version, integer keys will always be treated as labels (consistent with DataFrame behavior). To access a value by position, use `ser.iloc[pos]`\n",
      "  index = int(max[0])\n"
     ]
    },
    {
     "name": "stdout",
     "output_type": "stream",
     "text": [
      "      score    label\n",
      "0  0.598388  nothing\n",
      "1  0.312322     snap\n",
      "2  0.089290     clap\n",
      "nothing\n",
      "Audio size:  (240000,)\n"
     ]
    },
    {
     "name": "stderr",
     "output_type": "stream",
     "text": [
      "/var/folders/16/7hh1zfjs7cq_gs48v5wmkg1r0000gn/T/ipykernel_45208/3196133890.py:34: FutureWarning: Series.__getitem__ treating keys as positions is deprecated. In a future version, integer keys will always be treated as labels (consistent with DataFrame behavior). To access a value by position, use `ser.iloc[pos]`\n",
      "  index = int(max[0])\n"
     ]
    },
    {
     "name": "stdout",
     "output_type": "stream",
     "text": [
      "      score    label\n",
      "0  0.539362  nothing\n",
      "1  0.268283     snap\n",
      "2  0.192356     clap\n",
      "nothing\n",
      "Audio size:  (240000,)\n"
     ]
    },
    {
     "name": "stderr",
     "output_type": "stream",
     "text": [
      "/var/folders/16/7hh1zfjs7cq_gs48v5wmkg1r0000gn/T/ipykernel_45208/3196133890.py:34: FutureWarning: Series.__getitem__ treating keys as positions is deprecated. In a future version, integer keys will always be treated as labels (consistent with DataFrame behavior). To access a value by position, use `ser.iloc[pos]`\n",
      "  index = int(max[0])\n"
     ]
    },
    {
     "name": "stdout",
     "output_type": "stream",
     "text": [
      "      score    label\n",
      "0  0.477945  nothing\n",
      "1  0.386492     snap\n",
      "2  0.135564     clap\n",
      "nothing\n",
      "Audio size:  (240000,)\n"
     ]
    },
    {
     "name": "stderr",
     "output_type": "stream",
     "text": [
      "/var/folders/16/7hh1zfjs7cq_gs48v5wmkg1r0000gn/T/ipykernel_45208/3196133890.py:34: FutureWarning: Series.__getitem__ treating keys as positions is deprecated. In a future version, integer keys will always be treated as labels (consistent with DataFrame behavior). To access a value by position, use `ser.iloc[pos]`\n",
      "  index = int(max[0])\n"
     ]
    },
    {
     "name": "stdout",
     "output_type": "stream",
     "text": [
      "      score    label\n",
      "0  0.433478  nothing\n",
      "1  0.387610     snap\n",
      "2  0.178911     clap\n",
      "nothing\n",
      "Audio size:  (240000,)\n"
     ]
    },
    {
     "name": "stderr",
     "output_type": "stream",
     "text": [
      "/var/folders/16/7hh1zfjs7cq_gs48v5wmkg1r0000gn/T/ipykernel_45208/3196133890.py:34: FutureWarning: Series.__getitem__ treating keys as positions is deprecated. In a future version, integer keys will always be treated as labels (consistent with DataFrame behavior). To access a value by position, use `ser.iloc[pos]`\n",
      "  index = int(max[0])\n"
     ]
    },
    {
     "name": "stdout",
     "output_type": "stream",
     "text": [
      "      score    label\n",
      "0  0.561025     snap\n",
      "1  0.248823  nothing\n",
      "2  0.190152     clap\n",
      "snap\n",
      "word was detected:  snap\n",
      "pressing macros...\n",
      "All contents of audio array was removed.\n",
      "Audio size:  (240000,)\n"
     ]
    },
    {
     "name": "stderr",
     "output_type": "stream",
     "text": [
      "/var/folders/16/7hh1zfjs7cq_gs48v5wmkg1r0000gn/T/ipykernel_45208/3196133890.py:34: FutureWarning: Series.__getitem__ treating keys as positions is deprecated. In a future version, integer keys will always be treated as labels (consistent with DataFrame behavior). To access a value by position, use `ser.iloc[pos]`\n",
      "  index = int(max[0])\n"
     ]
    },
    {
     "name": "stdout",
     "output_type": "stream",
     "text": [
      "      score    label\n",
      "0  0.799757  nothing\n",
      "1  0.107882     clap\n",
      "2  0.092362     snap\n",
      "nothing\n",
      "Audio size:  (240000,)\n"
     ]
    },
    {
     "name": "stderr",
     "output_type": "stream",
     "text": [
      "/var/folders/16/7hh1zfjs7cq_gs48v5wmkg1r0000gn/T/ipykernel_45208/3196133890.py:34: FutureWarning: Series.__getitem__ treating keys as positions is deprecated. In a future version, integer keys will always be treated as labels (consistent with DataFrame behavior). To access a value by position, use `ser.iloc[pos]`\n",
      "  index = int(max[0])\n"
     ]
    },
    {
     "name": "stdout",
     "output_type": "stream",
     "text": [
      "      score    label\n",
      "0  0.805852  nothing\n",
      "1  0.097949     snap\n",
      "2  0.096200     clap\n",
      "nothing\n",
      "Audio size:  (240000,)\n"
     ]
    },
    {
     "name": "stderr",
     "output_type": "stream",
     "text": [
      "/var/folders/16/7hh1zfjs7cq_gs48v5wmkg1r0000gn/T/ipykernel_45208/3196133890.py:34: FutureWarning: Series.__getitem__ treating keys as positions is deprecated. In a future version, integer keys will always be treated as labels (consistent with DataFrame behavior). To access a value by position, use `ser.iloc[pos]`\n",
      "  index = int(max[0])\n"
     ]
    },
    {
     "name": "stdout",
     "output_type": "stream",
     "text": [
      "      score    label\n",
      "0  0.791509  nothing\n",
      "1  0.152730     snap\n",
      "2  0.055761     clap\n",
      "nothing\n",
      "Audio size:  (240000,)\n"
     ]
    },
    {
     "name": "stderr",
     "output_type": "stream",
     "text": [
      "/var/folders/16/7hh1zfjs7cq_gs48v5wmkg1r0000gn/T/ipykernel_45208/3196133890.py:34: FutureWarning: Series.__getitem__ treating keys as positions is deprecated. In a future version, integer keys will always be treated as labels (consistent with DataFrame behavior). To access a value by position, use `ser.iloc[pos]`\n",
      "  index = int(max[0])\n"
     ]
    },
    {
     "name": "stdout",
     "output_type": "stream",
     "text": [
      "      score    label\n",
      "0  0.768896  nothing\n",
      "1  0.194687     snap\n",
      "2  0.036416     clap\n",
      "nothing\n",
      "Audio size:  (240000,)\n"
     ]
    },
    {
     "name": "stderr",
     "output_type": "stream",
     "text": [
      "/var/folders/16/7hh1zfjs7cq_gs48v5wmkg1r0000gn/T/ipykernel_45208/3196133890.py:34: FutureWarning: Series.__getitem__ treating keys as positions is deprecated. In a future version, integer keys will always be treated as labels (consistent with DataFrame behavior). To access a value by position, use `ser.iloc[pos]`\n",
      "  index = int(max[0])\n"
     ]
    },
    {
     "name": "stdout",
     "output_type": "stream",
     "text": [
      "      score    label\n",
      "0  0.949550  nothing\n",
      "1  0.041568     snap\n",
      "2  0.008882     clap\n",
      "nothing\n",
      "Audio size:  (240000,)\n"
     ]
    },
    {
     "name": "stderr",
     "output_type": "stream",
     "text": [
      "/var/folders/16/7hh1zfjs7cq_gs48v5wmkg1r0000gn/T/ipykernel_45208/3196133890.py:34: FutureWarning: Series.__getitem__ treating keys as positions is deprecated. In a future version, integer keys will always be treated as labels (consistent with DataFrame behavior). To access a value by position, use `ser.iloc[pos]`\n",
      "  index = int(max[0])\n"
     ]
    },
    {
     "name": "stdout",
     "output_type": "stream",
     "text": [
      "      score    label\n",
      "0  0.986738  nothing\n",
      "1  0.012034     snap\n",
      "2  0.001228     clap\n",
      "nothing\n",
      "Audio size:  (240000,)\n"
     ]
    },
    {
     "name": "stderr",
     "output_type": "stream",
     "text": [
      "/var/folders/16/7hh1zfjs7cq_gs48v5wmkg1r0000gn/T/ipykernel_45208/3196133890.py:34: FutureWarning: Series.__getitem__ treating keys as positions is deprecated. In a future version, integer keys will always be treated as labels (consistent with DataFrame behavior). To access a value by position, use `ser.iloc[pos]`\n",
      "  index = int(max[0])\n"
     ]
    },
    {
     "name": "stdout",
     "output_type": "stream",
     "text": [
      "      score    label\n",
      "0  0.997641  nothing\n",
      "1  0.001880     snap\n",
      "2  0.000479     clap\n",
      "nothing\n",
      "Audio size:  (240000,)\n"
     ]
    },
    {
     "name": "stderr",
     "output_type": "stream",
     "text": [
      "/var/folders/16/7hh1zfjs7cq_gs48v5wmkg1r0000gn/T/ipykernel_45208/3196133890.py:34: FutureWarning: Series.__getitem__ treating keys as positions is deprecated. In a future version, integer keys will always be treated as labels (consistent with DataFrame behavior). To access a value by position, use `ser.iloc[pos]`\n",
      "  index = int(max[0])\n"
     ]
    },
    {
     "name": "stdout",
     "output_type": "stream",
     "text": [
      "      score    label\n",
      "0  0.996247  nothing\n",
      "1  0.003282     snap\n",
      "2  0.000471     clap\n",
      "nothing\n",
      "Audio size:  (240000,)\n"
     ]
    },
    {
     "name": "stderr",
     "output_type": "stream",
     "text": [
      "/var/folders/16/7hh1zfjs7cq_gs48v5wmkg1r0000gn/T/ipykernel_45208/3196133890.py:34: FutureWarning: Series.__getitem__ treating keys as positions is deprecated. In a future version, integer keys will always be treated as labels (consistent with DataFrame behavior). To access a value by position, use `ser.iloc[pos]`\n",
      "  index = int(max[0])\n"
     ]
    },
    {
     "name": "stdout",
     "output_type": "stream",
     "text": [
      "      score    label\n",
      "0  0.997347  nothing\n",
      "1  0.002475     snap\n",
      "2  0.000178     clap\n",
      "nothing\n",
      "Audio size:  (240000,)\n"
     ]
    },
    {
     "name": "stderr",
     "output_type": "stream",
     "text": [
      "/var/folders/16/7hh1zfjs7cq_gs48v5wmkg1r0000gn/T/ipykernel_45208/3196133890.py:34: FutureWarning: Series.__getitem__ treating keys as positions is deprecated. In a future version, integer keys will always be treated as labels (consistent with DataFrame behavior). To access a value by position, use `ser.iloc[pos]`\n",
      "  index = int(max[0])\n"
     ]
    },
    {
     "name": "stdout",
     "output_type": "stream",
     "text": [
      "      score    label\n",
      "0  0.992797  nothing\n",
      "1  0.005993     snap\n",
      "2  0.001211     clap\n",
      "nothing\n",
      "Audio size:  (240000,)\n"
     ]
    },
    {
     "name": "stderr",
     "output_type": "stream",
     "text": [
      "/var/folders/16/7hh1zfjs7cq_gs48v5wmkg1r0000gn/T/ipykernel_45208/3196133890.py:34: FutureWarning: Series.__getitem__ treating keys as positions is deprecated. In a future version, integer keys will always be treated as labels (consistent with DataFrame behavior). To access a value by position, use `ser.iloc[pos]`\n",
      "  index = int(max[0])\n"
     ]
    },
    {
     "name": "stdout",
     "output_type": "stream",
     "text": [
      "      score    label\n",
      "0  0.966876  nothing\n",
      "1  0.027527     snap\n",
      "2  0.005596     clap\n",
      "nothing\n",
      "Audio size:  (240000,)\n"
     ]
    },
    {
     "name": "stderr",
     "output_type": "stream",
     "text": [
      "/var/folders/16/7hh1zfjs7cq_gs48v5wmkg1r0000gn/T/ipykernel_45208/3196133890.py:34: FutureWarning: Series.__getitem__ treating keys as positions is deprecated. In a future version, integer keys will always be treated as labels (consistent with DataFrame behavior). To access a value by position, use `ser.iloc[pos]`\n",
      "  index = int(max[0])\n"
     ]
    },
    {
     "name": "stdout",
     "output_type": "stream",
     "text": [
      "      score    label\n",
      "0  0.988042  nothing\n",
      "1  0.006499     clap\n",
      "2  0.005459     snap\n",
      "nothing\n",
      "Audio size:  (240000,)\n"
     ]
    },
    {
     "name": "stderr",
     "output_type": "stream",
     "text": [
      "/var/folders/16/7hh1zfjs7cq_gs48v5wmkg1r0000gn/T/ipykernel_45208/3196133890.py:34: FutureWarning: Series.__getitem__ treating keys as positions is deprecated. In a future version, integer keys will always be treated as labels (consistent with DataFrame behavior). To access a value by position, use `ser.iloc[pos]`\n",
      "  index = int(max[0])\n"
     ]
    },
    {
     "name": "stdout",
     "output_type": "stream",
     "text": [
      "      score    label\n",
      "0  0.984959  nothing\n",
      "1  0.007805     clap\n",
      "2  0.007236     snap\n",
      "nothing\n",
      "Audio size:  (240000,)\n"
     ]
    },
    {
     "name": "stderr",
     "output_type": "stream",
     "text": [
      "/var/folders/16/7hh1zfjs7cq_gs48v5wmkg1r0000gn/T/ipykernel_45208/3196133890.py:34: FutureWarning: Series.__getitem__ treating keys as positions is deprecated. In a future version, integer keys will always be treated as labels (consistent with DataFrame behavior). To access a value by position, use `ser.iloc[pos]`\n",
      "  index = int(max[0])\n"
     ]
    },
    {
     "name": "stdout",
     "output_type": "stream",
     "text": [
      "      score    label\n",
      "0  0.993608  nothing\n",
      "1  0.004030     snap\n",
      "2  0.002361     clap\n",
      "nothing\n",
      "Audio size:  (240000,)\n"
     ]
    },
    {
     "name": "stderr",
     "output_type": "stream",
     "text": [
      "/var/folders/16/7hh1zfjs7cq_gs48v5wmkg1r0000gn/T/ipykernel_45208/3196133890.py:34: FutureWarning: Series.__getitem__ treating keys as positions is deprecated. In a future version, integer keys will always be treated as labels (consistent with DataFrame behavior). To access a value by position, use `ser.iloc[pos]`\n",
      "  index = int(max[0])\n"
     ]
    },
    {
     "name": "stdout",
     "output_type": "stream",
     "text": [
      "      score    label\n",
      "0  0.993374  nothing\n",
      "1  0.005826     snap\n",
      "2  0.000800     clap\n",
      "nothing\n",
      "Audio size:  (240000,)\n"
     ]
    },
    {
     "name": "stderr",
     "output_type": "stream",
     "text": [
      "/var/folders/16/7hh1zfjs7cq_gs48v5wmkg1r0000gn/T/ipykernel_45208/3196133890.py:34: FutureWarning: Series.__getitem__ treating keys as positions is deprecated. In a future version, integer keys will always be treated as labels (consistent with DataFrame behavior). To access a value by position, use `ser.iloc[pos]`\n",
      "  index = int(max[0])\n"
     ]
    },
    {
     "name": "stdout",
     "output_type": "stream",
     "text": [
      "      score    label\n",
      "0  0.998080  nothing\n",
      "1  0.001735     snap\n",
      "2  0.000185     clap\n",
      "nothing\n",
      "Audio size:  (240000,)\n"
     ]
    },
    {
     "name": "stderr",
     "output_type": "stream",
     "text": [
      "/var/folders/16/7hh1zfjs7cq_gs48v5wmkg1r0000gn/T/ipykernel_45208/3196133890.py:34: FutureWarning: Series.__getitem__ treating keys as positions is deprecated. In a future version, integer keys will always be treated as labels (consistent with DataFrame behavior). To access a value by position, use `ser.iloc[pos]`\n",
      "  index = int(max[0])\n"
     ]
    },
    {
     "name": "stdout",
     "output_type": "stream",
     "text": [
      "      score    label\n",
      "0  0.998043  nothing\n",
      "1  0.001752     snap\n",
      "2  0.000204     clap\n",
      "nothing\n",
      "Audio size:  (240000,)\n"
     ]
    },
    {
     "name": "stderr",
     "output_type": "stream",
     "text": [
      "/var/folders/16/7hh1zfjs7cq_gs48v5wmkg1r0000gn/T/ipykernel_45208/3196133890.py:34: FutureWarning: Series.__getitem__ treating keys as positions is deprecated. In a future version, integer keys will always be treated as labels (consistent with DataFrame behavior). To access a value by position, use `ser.iloc[pos]`\n",
      "  index = int(max[0])\n"
     ]
    },
    {
     "name": "stdout",
     "output_type": "stream",
     "text": [
      "      score    label\n",
      "0  0.995226  nothing\n",
      "1  0.004398     snap\n",
      "2  0.000376     clap\n",
      "nothing\n",
      "Audio size:  (240000,)\n"
     ]
    },
    {
     "name": "stderr",
     "output_type": "stream",
     "text": [
      "/var/folders/16/7hh1zfjs7cq_gs48v5wmkg1r0000gn/T/ipykernel_45208/3196133890.py:34: FutureWarning: Series.__getitem__ treating keys as positions is deprecated. In a future version, integer keys will always be treated as labels (consistent with DataFrame behavior). To access a value by position, use `ser.iloc[pos]`\n",
      "  index = int(max[0])\n"
     ]
    },
    {
     "name": "stdout",
     "output_type": "stream",
     "text": [
      "      score    label\n",
      "0  0.998329  nothing\n",
      "1  0.001463     snap\n",
      "2  0.000208     clap\n",
      "nothing\n",
      "Audio size:  (240000,)\n"
     ]
    },
    {
     "name": "stderr",
     "output_type": "stream",
     "text": [
      "/var/folders/16/7hh1zfjs7cq_gs48v5wmkg1r0000gn/T/ipykernel_45208/3196133890.py:34: FutureWarning: Series.__getitem__ treating keys as positions is deprecated. In a future version, integer keys will always be treated as labels (consistent with DataFrame behavior). To access a value by position, use `ser.iloc[pos]`\n",
      "  index = int(max[0])\n"
     ]
    },
    {
     "name": "stdout",
     "output_type": "stream",
     "text": [
      "      score    label\n",
      "0  0.998071  nothing\n",
      "1  0.001284     snap\n",
      "2  0.000645     clap\n",
      "nothing\n",
      "Audio size:  (240000,)\n"
     ]
    },
    {
     "name": "stderr",
     "output_type": "stream",
     "text": [
      "/var/folders/16/7hh1zfjs7cq_gs48v5wmkg1r0000gn/T/ipykernel_45208/3196133890.py:34: FutureWarning: Series.__getitem__ treating keys as positions is deprecated. In a future version, integer keys will always be treated as labels (consistent with DataFrame behavior). To access a value by position, use `ser.iloc[pos]`\n",
      "  index = int(max[0])\n"
     ]
    },
    {
     "name": "stdout",
     "output_type": "stream",
     "text": [
      "      score    label\n",
      "0  0.996904  nothing\n",
      "1  0.002581     snap\n",
      "2  0.000515     clap\n",
      "nothing\n",
      "Audio size:  (240000,)\n"
     ]
    },
    {
     "name": "stderr",
     "output_type": "stream",
     "text": [
      "/var/folders/16/7hh1zfjs7cq_gs48v5wmkg1r0000gn/T/ipykernel_45208/3196133890.py:34: FutureWarning: Series.__getitem__ treating keys as positions is deprecated. In a future version, integer keys will always be treated as labels (consistent with DataFrame behavior). To access a value by position, use `ser.iloc[pos]`\n",
      "  index = int(max[0])\n"
     ]
    },
    {
     "name": "stdout",
     "output_type": "stream",
     "text": [
      "      score    label\n",
      "0  0.996392  nothing\n",
      "1  0.002989     snap\n",
      "2  0.000619     clap\n",
      "nothing\n",
      "Audio size:  (240000,)\n"
     ]
    },
    {
     "name": "stderr",
     "output_type": "stream",
     "text": [
      "/var/folders/16/7hh1zfjs7cq_gs48v5wmkg1r0000gn/T/ipykernel_45208/3196133890.py:34: FutureWarning: Series.__getitem__ treating keys as positions is deprecated. In a future version, integer keys will always be treated as labels (consistent with DataFrame behavior). To access a value by position, use `ser.iloc[pos]`\n",
      "  index = int(max[0])\n"
     ]
    },
    {
     "name": "stdout",
     "output_type": "stream",
     "text": [
      "     score    label\n",
      "0  0.99391  nothing\n",
      "1  0.00499     snap\n",
      "2  0.00110     clap\n",
      "nothing\n",
      "Audio size:  (240000,)\n"
     ]
    },
    {
     "name": "stderr",
     "output_type": "stream",
     "text": [
      "/var/folders/16/7hh1zfjs7cq_gs48v5wmkg1r0000gn/T/ipykernel_45208/3196133890.py:34: FutureWarning: Series.__getitem__ treating keys as positions is deprecated. In a future version, integer keys will always be treated as labels (consistent with DataFrame behavior). To access a value by position, use `ser.iloc[pos]`\n",
      "  index = int(max[0])\n"
     ]
    },
    {
     "name": "stdout",
     "output_type": "stream",
     "text": [
      "      score    label\n",
      "0  0.963997  nothing\n",
      "1  0.027330     snap\n",
      "2  0.008674     clap\n",
      "nothing\n",
      "Audio size:  (240000,)\n"
     ]
    },
    {
     "name": "stderr",
     "output_type": "stream",
     "text": [
      "/var/folders/16/7hh1zfjs7cq_gs48v5wmkg1r0000gn/T/ipykernel_45208/3196133890.py:34: FutureWarning: Series.__getitem__ treating keys as positions is deprecated. In a future version, integer keys will always be treated as labels (consistent with DataFrame behavior). To access a value by position, use `ser.iloc[pos]`\n",
      "  index = int(max[0])\n"
     ]
    },
    {
     "name": "stdout",
     "output_type": "stream",
     "text": [
      "      score    label\n",
      "0  0.949888  nothing\n",
      "1  0.034074     snap\n",
      "2  0.016038     clap\n",
      "nothing\n",
      "Audio size:  (240000,)\n"
     ]
    },
    {
     "name": "stderr",
     "output_type": "stream",
     "text": [
      "/var/folders/16/7hh1zfjs7cq_gs48v5wmkg1r0000gn/T/ipykernel_45208/3196133890.py:34: FutureWarning: Series.__getitem__ treating keys as positions is deprecated. In a future version, integer keys will always be treated as labels (consistent with DataFrame behavior). To access a value by position, use `ser.iloc[pos]`\n",
      "  index = int(max[0])\n"
     ]
    },
    {
     "name": "stdout",
     "output_type": "stream",
     "text": [
      "      score    label\n",
      "0  0.864726  nothing\n",
      "1  0.088720     snap\n",
      "2  0.046554     clap\n",
      "nothing\n",
      "Audio size:  (240000,)\n"
     ]
    },
    {
     "name": "stderr",
     "output_type": "stream",
     "text": [
      "/var/folders/16/7hh1zfjs7cq_gs48v5wmkg1r0000gn/T/ipykernel_45208/3196133890.py:34: FutureWarning: Series.__getitem__ treating keys as positions is deprecated. In a future version, integer keys will always be treated as labels (consistent with DataFrame behavior). To access a value by position, use `ser.iloc[pos]`\n",
      "  index = int(max[0])\n"
     ]
    },
    {
     "name": "stdout",
     "output_type": "stream",
     "text": [
      "      score    label\n",
      "0  0.824729  nothing\n",
      "1  0.096748     clap\n",
      "2  0.078523     snap\n",
      "nothing\n",
      "Audio size:  (240000,)\n"
     ]
    },
    {
     "name": "stderr",
     "output_type": "stream",
     "text": [
      "/var/folders/16/7hh1zfjs7cq_gs48v5wmkg1r0000gn/T/ipykernel_45208/3196133890.py:34: FutureWarning: Series.__getitem__ treating keys as positions is deprecated. In a future version, integer keys will always be treated as labels (consistent with DataFrame behavior). To access a value by position, use `ser.iloc[pos]`\n",
      "  index = int(max[0])\n"
     ]
    },
    {
     "name": "stdout",
     "output_type": "stream",
     "text": [
      "      score    label\n",
      "0  0.825330  nothing\n",
      "1  0.126974     clap\n",
      "2  0.047696     snap\n",
      "nothing\n",
      "Audio size:  (240000,)\n"
     ]
    },
    {
     "name": "stderr",
     "output_type": "stream",
     "text": [
      "/var/folders/16/7hh1zfjs7cq_gs48v5wmkg1r0000gn/T/ipykernel_45208/3196133890.py:34: FutureWarning: Series.__getitem__ treating keys as positions is deprecated. In a future version, integer keys will always be treated as labels (consistent with DataFrame behavior). To access a value by position, use `ser.iloc[pos]`\n",
      "  index = int(max[0])\n"
     ]
    },
    {
     "name": "stdout",
     "output_type": "stream",
     "text": [
      "      score    label\n",
      "0  0.723237  nothing\n",
      "1  0.152603     clap\n",
      "2  0.124159     snap\n",
      "nothing\n",
      "Audio size:  (240000,)\n"
     ]
    },
    {
     "name": "stderr",
     "output_type": "stream",
     "text": [
      "/var/folders/16/7hh1zfjs7cq_gs48v5wmkg1r0000gn/T/ipykernel_45208/3196133890.py:34: FutureWarning: Series.__getitem__ treating keys as positions is deprecated. In a future version, integer keys will always be treated as labels (consistent with DataFrame behavior). To access a value by position, use `ser.iloc[pos]`\n",
      "  index = int(max[0])\n"
     ]
    },
    {
     "name": "stdout",
     "output_type": "stream",
     "text": [
      "      score    label\n",
      "0  0.939379  nothing\n",
      "1  0.032878     clap\n",
      "2  0.027743     snap\n",
      "nothing\n",
      "Audio size:  (240000,)\n"
     ]
    },
    {
     "name": "stderr",
     "output_type": "stream",
     "text": [
      "/var/folders/16/7hh1zfjs7cq_gs48v5wmkg1r0000gn/T/ipykernel_45208/3196133890.py:34: FutureWarning: Series.__getitem__ treating keys as positions is deprecated. In a future version, integer keys will always be treated as labels (consistent with DataFrame behavior). To access a value by position, use `ser.iloc[pos]`\n",
      "  index = int(max[0])\n"
     ]
    },
    {
     "name": "stdout",
     "output_type": "stream",
     "text": [
      "      score    label\n",
      "0  0.911107  nothing\n",
      "1  0.048734     snap\n",
      "2  0.040159     clap\n",
      "nothing\n",
      "Audio size:  (240000,)\n"
     ]
    },
    {
     "name": "stderr",
     "output_type": "stream",
     "text": [
      "/var/folders/16/7hh1zfjs7cq_gs48v5wmkg1r0000gn/T/ipykernel_45208/3196133890.py:34: FutureWarning: Series.__getitem__ treating keys as positions is deprecated. In a future version, integer keys will always be treated as labels (consistent with DataFrame behavior). To access a value by position, use `ser.iloc[pos]`\n",
      "  index = int(max[0])\n"
     ]
    },
    {
     "name": "stdout",
     "output_type": "stream",
     "text": [
      "      score    label\n",
      "0  0.926012  nothing\n",
      "1  0.040159     snap\n",
      "2  0.033830     clap\n",
      "nothing\n",
      "Audio size:  (240000,)\n"
     ]
    },
    {
     "name": "stderr",
     "output_type": "stream",
     "text": [
      "/var/folders/16/7hh1zfjs7cq_gs48v5wmkg1r0000gn/T/ipykernel_45208/3196133890.py:34: FutureWarning: Series.__getitem__ treating keys as positions is deprecated. In a future version, integer keys will always be treated as labels (consistent with DataFrame behavior). To access a value by position, use `ser.iloc[pos]`\n",
      "  index = int(max[0])\n"
     ]
    },
    {
     "name": "stdout",
     "output_type": "stream",
     "text": [
      "      score    label\n",
      "0  0.942254  nothing\n",
      "1  0.031245     clap\n",
      "2  0.026501     snap\n",
      "nothing\n",
      "Audio size:  (240000,)\n"
     ]
    },
    {
     "name": "stderr",
     "output_type": "stream",
     "text": [
      "/var/folders/16/7hh1zfjs7cq_gs48v5wmkg1r0000gn/T/ipykernel_45208/3196133890.py:34: FutureWarning: Series.__getitem__ treating keys as positions is deprecated. In a future version, integer keys will always be treated as labels (consistent with DataFrame behavior). To access a value by position, use `ser.iloc[pos]`\n",
      "  index = int(max[0])\n"
     ]
    },
    {
     "name": "stdout",
     "output_type": "stream",
     "text": [
      "      score    label\n",
      "0  0.962089  nothing\n",
      "1  0.024177     snap\n",
      "2  0.013734     clap\n",
      "nothing\n",
      "Audio size:  (240000,)\n"
     ]
    },
    {
     "name": "stderr",
     "output_type": "stream",
     "text": [
      "/var/folders/16/7hh1zfjs7cq_gs48v5wmkg1r0000gn/T/ipykernel_45208/3196133890.py:34: FutureWarning: Series.__getitem__ treating keys as positions is deprecated. In a future version, integer keys will always be treated as labels (consistent with DataFrame behavior). To access a value by position, use `ser.iloc[pos]`\n",
      "  index = int(max[0])\n"
     ]
    },
    {
     "name": "stdout",
     "output_type": "stream",
     "text": [
      "      score    label\n",
      "0  0.854061  nothing\n",
      "1  0.093128     snap\n",
      "2  0.052811     clap\n",
      "nothing\n",
      "Audio size:  (240000,)\n"
     ]
    },
    {
     "name": "stderr",
     "output_type": "stream",
     "text": [
      "/var/folders/16/7hh1zfjs7cq_gs48v5wmkg1r0000gn/T/ipykernel_45208/3196133890.py:34: FutureWarning: Series.__getitem__ treating keys as positions is deprecated. In a future version, integer keys will always be treated as labels (consistent with DataFrame behavior). To access a value by position, use `ser.iloc[pos]`\n",
      "  index = int(max[0])\n"
     ]
    },
    {
     "name": "stdout",
     "output_type": "stream",
     "text": [
      "      score    label\n",
      "0  0.810118  nothing\n",
      "1  0.116175     snap\n",
      "2  0.073707     clap\n",
      "nothing\n",
      "Audio size:  (240000,)\n"
     ]
    },
    {
     "name": "stderr",
     "output_type": "stream",
     "text": [
      "/var/folders/16/7hh1zfjs7cq_gs48v5wmkg1r0000gn/T/ipykernel_45208/3196133890.py:34: FutureWarning: Series.__getitem__ treating keys as positions is deprecated. In a future version, integer keys will always be treated as labels (consistent with DataFrame behavior). To access a value by position, use `ser.iloc[pos]`\n",
      "  index = int(max[0])\n"
     ]
    },
    {
     "name": "stdout",
     "output_type": "stream",
     "text": [
      "      score    label\n",
      "0  0.832078  nothing\n",
      "1  0.119724     snap\n",
      "2  0.048198     clap\n",
      "nothing\n",
      "Audio size:  (240000,)\n"
     ]
    },
    {
     "name": "stderr",
     "output_type": "stream",
     "text": [
      "/var/folders/16/7hh1zfjs7cq_gs48v5wmkg1r0000gn/T/ipykernel_45208/3196133890.py:34: FutureWarning: Series.__getitem__ treating keys as positions is deprecated. In a future version, integer keys will always be treated as labels (consistent with DataFrame behavior). To access a value by position, use `ser.iloc[pos]`\n",
      "  index = int(max[0])\n"
     ]
    },
    {
     "name": "stdout",
     "output_type": "stream",
     "text": [
      "      score    label\n",
      "0  0.962130  nothing\n",
      "1  0.025601     snap\n",
      "2  0.012269     clap\n",
      "nothing\n",
      "Audio size:  (240000,)\n"
     ]
    },
    {
     "name": "stderr",
     "output_type": "stream",
     "text": [
      "/var/folders/16/7hh1zfjs7cq_gs48v5wmkg1r0000gn/T/ipykernel_45208/3196133890.py:34: FutureWarning: Series.__getitem__ treating keys as positions is deprecated. In a future version, integer keys will always be treated as labels (consistent with DataFrame behavior). To access a value by position, use `ser.iloc[pos]`\n",
      "  index = int(max[0])\n"
     ]
    },
    {
     "name": "stdout",
     "output_type": "stream",
     "text": [
      "      score    label\n",
      "0  0.938408  nothing\n",
      "1  0.044543     snap\n",
      "2  0.017049     clap\n",
      "nothing\n",
      "Audio size:  (240000,)\n"
     ]
    },
    {
     "name": "stderr",
     "output_type": "stream",
     "text": [
      "/var/folders/16/7hh1zfjs7cq_gs48v5wmkg1r0000gn/T/ipykernel_45208/3196133890.py:34: FutureWarning: Series.__getitem__ treating keys as positions is deprecated. In a future version, integer keys will always be treated as labels (consistent with DataFrame behavior). To access a value by position, use `ser.iloc[pos]`\n",
      "  index = int(max[0])\n"
     ]
    },
    {
     "name": "stdout",
     "output_type": "stream",
     "text": [
      "      score    label\n",
      "0  0.977673  nothing\n",
      "1  0.014915     snap\n",
      "2  0.007412     clap\n",
      "nothing\n",
      "Audio size:  (240000,)\n"
     ]
    },
    {
     "name": "stderr",
     "output_type": "stream",
     "text": [
      "/var/folders/16/7hh1zfjs7cq_gs48v5wmkg1r0000gn/T/ipykernel_45208/3196133890.py:34: FutureWarning: Series.__getitem__ treating keys as positions is deprecated. In a future version, integer keys will always be treated as labels (consistent with DataFrame behavior). To access a value by position, use `ser.iloc[pos]`\n",
      "  index = int(max[0])\n"
     ]
    },
    {
     "name": "stdout",
     "output_type": "stream",
     "text": [
      "      score    label\n",
      "0  0.974650  nothing\n",
      "1  0.016721     snap\n",
      "2  0.008629     clap\n",
      "nothing\n",
      "Audio size:  (240000,)\n"
     ]
    },
    {
     "name": "stderr",
     "output_type": "stream",
     "text": [
      "/var/folders/16/7hh1zfjs7cq_gs48v5wmkg1r0000gn/T/ipykernel_45208/3196133890.py:34: FutureWarning: Series.__getitem__ treating keys as positions is deprecated. In a future version, integer keys will always be treated as labels (consistent with DataFrame behavior). To access a value by position, use `ser.iloc[pos]`\n",
      "  index = int(max[0])\n"
     ]
    },
    {
     "name": "stdout",
     "output_type": "stream",
     "text": [
      "      score    label\n",
      "0  0.989532  nothing\n",
      "1  0.006993     snap\n",
      "2  0.003475     clap\n",
      "nothing\n",
      "Audio size:  (240000,)\n"
     ]
    },
    {
     "name": "stderr",
     "output_type": "stream",
     "text": [
      "/var/folders/16/7hh1zfjs7cq_gs48v5wmkg1r0000gn/T/ipykernel_45208/3196133890.py:34: FutureWarning: Series.__getitem__ treating keys as positions is deprecated. In a future version, integer keys will always be treated as labels (consistent with DataFrame behavior). To access a value by position, use `ser.iloc[pos]`\n",
      "  index = int(max[0])\n"
     ]
    },
    {
     "name": "stdout",
     "output_type": "stream",
     "text": [
      "      score    label\n",
      "0  0.983471  nothing\n",
      "1  0.011633     snap\n",
      "2  0.004896     clap\n",
      "nothing\n",
      "Audio size:  (240000,)\n"
     ]
    },
    {
     "name": "stderr",
     "output_type": "stream",
     "text": [
      "/var/folders/16/7hh1zfjs7cq_gs48v5wmkg1r0000gn/T/ipykernel_45208/3196133890.py:34: FutureWarning: Series.__getitem__ treating keys as positions is deprecated. In a future version, integer keys will always be treated as labels (consistent with DataFrame behavior). To access a value by position, use `ser.iloc[pos]`\n",
      "  index = int(max[0])\n"
     ]
    },
    {
     "name": "stdout",
     "output_type": "stream",
     "text": [
      "      score    label\n",
      "0  0.963917  nothing\n",
      "1  0.020486     snap\n",
      "2  0.015597     clap\n",
      "nothing\n"
     ]
    }
   ],
   "source": [
    "#Launches Gradio Interface\n",
    "demo.launch()"
   ]
  }
 ],
 "metadata": {
  "kernelspec": {
   "display_name": "AIM",
   "language": "python",
   "name": "python3"
  },
  "language_info": {
   "codemirror_mode": {
    "name": "ipython",
    "version": 3
   },
   "file_extension": ".py",
   "mimetype": "text/x-python",
   "name": "python",
   "nbconvert_exporter": "python",
   "pygments_lexer": "ipython3",
   "version": "3.8.18"
  }
 },
 "nbformat": 4,
 "nbformat_minor": 2
}
