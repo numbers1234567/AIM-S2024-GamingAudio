{
 "cells": [
  {
   "cell_type": "code",
   "execution_count": 16,
   "metadata": {},
   "outputs": [],
   "source": [
    "import gradio as gr\n",
    "from transformers import pipeline\n",
    "import pandas as pd"
   ]
  },
  {
   "cell_type": "code",
   "execution_count": 17,
   "metadata": {},
   "outputs": [],
   "source": [
    "\n",
    "pipe = pipeline(task=\"zero-shot-audio-classification\", model=\"laion/clap-htsat-fused\")"
   ]
  },
  {
   "cell_type": "code",
   "execution_count": 18,
   "metadata": {},
   "outputs": [],
   "source": [
    "#CLAP model's prediction function\n",
    "def classify(audio):\n",
    "    samplerate, array = audio\n",
    "    result = pipe(array, candidate_labels=[\"snap\", \"clap\"])\n",
    "    df = pd.DataFrame(result)\n",
    "    return df"
   ]
  },
  {
   "cell_type": "code",
   "execution_count": 19,
   "metadata": {},
   "outputs": [],
   "source": [
    "#Settings for Gradio Interface\n",
    "demo = gr.Interface(\n",
    "    fn=classify,\n",
    "    inputs=gr.Audio(sources=[\"microphone\"],streaming=True),\n",
    "    outputs=[gr.Dataframe()],\n",
    "    live=True,\n",
    "    \n",
    ")"
   ]
  },
  {
   "cell_type": "code",
   "execution_count": 20,
   "metadata": {},
   "outputs": [],
   "source": [
    "def reload():\n",
    "    print(\"reload\")\n",
    "\n",
    "def grenade():\n",
    "    print(\"grenade\")\n",
    "\n",
    "def shoot():\n",
    "    print(\"shoot\")\n",
    "\n",
    "def clap():\n",
    "    print(\"clap\")\n",
    "\n",
    "def snap():\n",
    "    print(\"snap\")\n",
    "\n",
    "def drop():\n",
    "    print(\"drop\")\n",
    "\n",
    "def dragon():\n",
    "    print(\"dragon\")\n",
    "\n",
    "macros = {\"reload\" : reload, \"grenade\" : grenade, \"shoot\" : shoot, \"clap\" : clap, \"snap\" : snap, \"drop\" : drop, \"dragon\" : dragon}\n",
    "#macros[classify(audio)]()"
   ]
  },
  {
   "cell_type": "code",
   "execution_count": 21,
   "metadata": {},
   "outputs": [
    {
     "name": "stdout",
     "output_type": "stream",
     "text": [
      "Running on local URL:  http://127.0.0.1:7861\n",
      "\n",
      "To create a public link, set `share=True` in `launch()`.\n"
     ]
    },
    {
     "data": {
      "text/html": [
       "<div><iframe src=\"http://127.0.0.1:7861/\" width=\"100%\" height=\"500\" allow=\"autoplay; camera; microphone; clipboard-read; clipboard-write;\" frameborder=\"0\" allowfullscreen></iframe></div>"
      ],
      "text/plain": [
       "<IPython.core.display.HTML object>"
      ]
     },
     "metadata": {},
     "output_type": "display_data"
    },
    {
     "data": {
      "text/plain": []
     },
     "execution_count": 21,
     "metadata": {},
     "output_type": "execute_result"
    }
   ],
   "source": [
    "#Launches Gradio Interface\n",
    "demo.launch()"
   ]
  }
 ],
 "metadata": {
  "kernelspec": {
   "display_name": "AIM",
   "language": "python",
   "name": "python3"
  },
  "language_info": {
   "codemirror_mode": {
    "name": "ipython",
    "version": 3
   },
   "file_extension": ".py",
   "mimetype": "text/x-python",
   "name": "python",
   "nbconvert_exporter": "python",
   "pygments_lexer": "ipython3",
   "version": "3.8.18"
  }
 },
 "nbformat": 4,
 "nbformat_minor": 2
}
