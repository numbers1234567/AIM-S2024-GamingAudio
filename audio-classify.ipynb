{
 "cells": [
  {
   "cell_type": "code",
   "execution_count": 200,
   "metadata": {},
   "outputs": [],
   "source": [
    "import gradio as gr\n",
    "from transformers import pipeline\n",
    "import pandas as pd\n",
    "import numpy as np\n",
    "from pynput import keyboard\n",
    "import time\n",
    "import json\n",
    "from pynput.keyboard import Key, Controller, KeyCode\n",
    "import eng_to_ipa as ipa\n",
    "import librosa"
   ]
  },
  {
   "cell_type": "code",
   "execution_count": 201,
   "metadata": {},
   "outputs": [
    {
     "name": "stderr",
     "output_type": "stream",
     "text": [
      "Special tokens have been added in the vocabulary, make sure the associated word embeddings are fine-tuned or trained.\n"
     ]
    }
   ],
   "source": [
    "import sys \n",
    "sys.path.append(\"./clap-ipa\")\n",
    "from clap.encoders import *\n",
    "import torch.nn.functional as F\n",
    "from transformers import DebertaV2Tokenizer, AutoProcessor\n",
    "\n",
    "device = torch.device(\"cuda\" if torch.cuda.is_available() else \"cpu\")\n",
    "\n",
    "speech_encoder = SpeechEncoder.from_pretrained('anyspeech/clap-ipa-tiny-speech')\n",
    "phone_encoder = PhoneEncoder.from_pretrained('anyspeech/clap-ipa-tiny-phone')\n",
    "phone_encoder.eval().to(device)\n",
    "speech_encoder.eval().to(device)\n",
    "\n",
    "tokenizer = DebertaV2Tokenizer.from_pretrained('charsiu/IPATokenizer')\n",
    "processor = AutoProcessor.from_pretrained('openai/whisper-tiny')"
   ]
  },
  {
   "cell_type": "code",
   "execution_count": 202,
   "metadata": {},
   "outputs": [],
   "source": [
    "pipe = pipeline(task=\"zero-shot-audio-classification\", model=\"laion/clap-htsat-fused\")"
   ]
  },
  {
   "cell_type": "code",
   "execution_count": 203,
   "metadata": {},
   "outputs": [],
   "source": [
    "import time\n",
    "\n",
    "def ipa_converted_vals(labels, audio):\n",
    "    ipa_val_list = []\n",
    "\n",
    "    for x in range(len(labels)):\n",
    "        start = time.time()\n",
    "        audio_input = processor(audio, return_attention_mask=True, sampling_rate=16000,max_length=32000,return_tensors='pt')\n",
    "        #ipa_input = tokenizer(ipa.convert(labels[x], keep_punct=True), return_token_type_ids=False, return_tensors='pt')\n",
    "        ipa_input = tokenizer(labels[x], return_token_type_ids=False, return_tensors='pt')\n",
    "        with torch.no_grad():\n",
    "            speech_embed = speech_encoder(**audio_input).pooler_output\n",
    "            phone_embed = phone_encoder(**ipa_input).pooler_output\n",
    "\n",
    "        similarity = F.cosine_similarity(speech_embed,phone_embed,dim=-1)\n",
    "        ipa_val_list.append((similarity.cpu().detach().numpy())[0])\n",
    "\n",
    "    return ipa_val_list"
   ]
  },
  {
   "cell_type": "code",
   "execution_count": 204,
   "metadata": {},
   "outputs": [
    {
     "name": "stdout",
     "output_type": "stream",
     "text": [
      "tensor([[[-0.0621, -0.0983, -0.1066,  ..., -0.0855, -0.1235, -0.1019],\n",
      "         [-0.2386, -0.2121, -0.2164,  ..., -0.1248, -0.2898, -0.1806],\n",
      "         [-0.4460, -0.3629, -0.4164,  ..., -0.2980, -0.4323, -0.3578],\n",
      "         ...,\n",
      "         [-0.9251, -0.9251, -0.9251,  ..., -0.9251, -0.9251, -0.9251],\n",
      "         [-0.9251, -0.9251, -0.9251,  ..., -0.9251, -0.9251, -0.9251],\n",
      "         [-0.9251, -0.9251, -0.9251,  ..., -0.9251, -0.9251, -0.9251]]])\n"
     ]
    },
    {
     "data": {
      "text/plain": [
       "[0.2577246]"
      ]
     },
     "execution_count": 204,
     "metadata": {},
     "output_type": "execute_result"
    }
   ],
   "source": [
    "clap_ipa_sr = 16000\n",
    "some_audio,sampling_rate = librosa.load(\"tutorials/audio-samples/angelo-charge.mp3\")\n",
    "#some_audio = librosa.resample(some_audio, orig_sr=sampling_rate, target_sr=16000)\n",
    "#sampling_rate = 16000\n",
    "ipa_converted_vals([\"ˌriːˈləʊdɪŋ\"], some_audio)"
   ]
  },
  {
   "cell_type": "code",
   "execution_count": 205,
   "metadata": {},
   "outputs": [
    {
     "data": {
      "text/plain": [
       "-1.5587171e-06"
      ]
     },
     "execution_count": 205,
     "metadata": {},
     "output_type": "execute_result"
    }
   ],
   "source": [
    "np.mean(some_audio)"
   ]
  },
  {
   "cell_type": "code",
   "execution_count": 206,
   "metadata": {},
   "outputs": [
    {
     "data": {
      "text/plain": [
       "22050"
      ]
     },
     "execution_count": 206,
     "metadata": {},
     "output_type": "execute_result"
    }
   ],
   "source": [
    "sampling_rate"
   ]
  },
  {
   "cell_type": "code",
   "execution_count": 207,
   "metadata": {},
   "outputs": [],
   "source": [
    "# Load the macros from the JSON file\n",
    "with open('macros.json', 'r') as file:\n",
    "    data = json.load(file)\n",
    "\n",
    "# Extract macros from the loaded data\n",
    "macros = data[\"macros\"]\n",
    "\n",
    "# Creates a controller\n",
    "board = Controller()\n",
    "\n",
    "# Create a dictionary to store macros\n",
    "macro_functions = {}\n",
    "\n",
    "# Iterates over every macro\n",
    "for macro in macros:\n",
    "    # Macro details\n",
    "    name = macro[\"name\"]\n",
    "    keycodes = macro[\"keycodes\"]\n",
    "    delay = macro[\"delay\"]\n",
    "\n",
    "# Defines the macro function\n",
    "    macro_function = lambda keycodes=keycodes, delay=delay: [\n",
    "        # Press the key according to the keycode\n",
    "        (board.press(Key.enter) if keycode == Key.enter else\n",
    "        board.press(Key.space) if keycode == Key.space else\n",
    "        # If keycode is a single character then press that key\n",
    "        board.press(keycode) if len(keycode) == 1 else\n",
    "        # Else if the key is in the form <...> then press that key\n",
    "        board.press(KeyCode.from_vk(int(keycode[1:-1]))),\n",
    "        # Delay\n",
    "        time.sleep(delay),\n",
    "        # Release the key according to the key code\n",
    "        board.release(Key.enter) if keycode == Key.enter else\n",
    "        board.release(Key.space) if keycode == Key.space else\n",
    "        # If keycode is a single character then release that key\n",
    "        board.release(keycode) if len(keycode) == 1 else\n",
    "        # Else if the key is in the form <...> then release that key\n",
    "        board.release(KeyCode.from_vk(int(keycode[1:-1]))))\n",
    "        # Iterate over every keycode in the macro\n",
    "        for keycode in keycodes\n",
    "    ]\n",
    "\n",
    "    # Add the macro function to the dictionary with the macro name as the key\n",
    "    macro_functions[name] = macro_function\n",
    "    "
   ]
  },
  {
   "cell_type": "code",
   "execution_count": 208,
   "metadata": {},
   "outputs": [],
   "source": [
    "#Input - list of strings, list of corresponding scores\n",
    "#Output - list of dictionaries where 'score' contains score corresponding to 'label' value\n",
    "def joinDictionary (labels, scores):\n",
    "    combinedDictionary = []\n",
    "    dictionary = {'score': 0 ,'label':'test'}\n",
    "    for i in range(len(labels)):\n",
    "        #Create new dictionary for each label\n",
    "        dictionary['score'] = scores[i]\n",
    "        dictionary['label'] = labels[i]\n",
    "        #add new dictionary to combined list\n",
    "        combinedDictionary.append(dictionary.copy())\n",
    "    return combinedDictionary"
   ]
  },
  {
   "cell_type": "code",
   "execution_count": 209,
   "metadata": {},
   "outputs": [],
   "source": [
    "#empty array \n",
    "audio_array = np.empty([])\n",
    "\n",
    "word_detected = False\n",
    "\n",
    "actions = [\"silence\"]\n",
    "#scores = [0.998,0.01,0.22]\n",
    "for x in macro_functions.keys():\n",
    "    actions.append(x)\n",
    "\n",
    "\n",
    "\n",
    "#CLAP model's prediction function\n",
    "def classify(audio):\n",
    "    global audio_array, word_detected, actions\n",
    "    i = 0\n",
    "    \n",
    "    samplerate, array = audio\n",
    "    \n",
    "    #converts the input live audio array to numpy array and appends it to current audio array\n",
    "    live_array = np.array(array)\n",
    "    audio_array = np.append(audio_array, live_array)\n",
    "    \n",
    "    dimension = audio_array.shape\n",
    "    \n",
    "    \n",
    "    #removes 5 second of audio from array if it's longer than 5 seconds\n",
    "    if((dimension[0]) > (240000)):\n",
    "        audio_array = audio_array[-240000:]\n",
    "        print(\"Audio size: \", audio_array.shape)\n",
    "    \n",
    "    #Pass audio to model for predictions\n",
    "    result = pipe(audio_array/32768, candidate_labels=actions)\n",
    "    \n",
    "    #Formats the result to a dataframe and retrives the highest scoring label\n",
    "    df = pd.DataFrame(result)\n",
    "    max = df.idxmax(numeric_only=True)\n",
    "    index = int(max[0])\n",
    "    word = df.iat[index,1]\n",
    "    print(df)\n",
    "    print(word)\n",
    "    \n",
    "    #Checks if the highest scored label was an action label\n",
    "    if word != \"silence\":\n",
    "        word_detected = True\n",
    "        print(\"word was detected: \", word)\n",
    "        print(\"pressing macros...\")\n",
    "        macro_functions[word]()\n",
    "        \n",
    "   \n",
    "    #if word is detected or if the audio reaches 5 seconds, \n",
    "    #then reset the audio array to empty\n",
    "    if (word_detected == True):\n",
    "        audio_array = np.empty([1,1])\n",
    "        print(\"All contents of audio array was removed.\")\n",
    "        word_detected = False\n",
    "    \n",
    "    return df"
   ]
  },
  {
   "cell_type": "code",
   "execution_count": 210,
   "metadata": {},
   "outputs": [],
   "source": [
    "#Settings for Gradio Interface\n",
    "demo = gr.Interface(\n",
    "    fn=classify,\n",
    "    inputs=gr.Audio(sources=[\"microphone\"],streaming=True),\n",
    "    outputs=[gr.Dataframe()],\n",
    "    live=True,\n",
    "    \n",
    ")"
   ]
  },
  {
   "cell_type": "code",
   "execution_count": 211,
   "metadata": {},
   "outputs": [
    {
     "name": "stdout",
     "output_type": "stream",
     "text": [
      "Running on local URL:  http://127.0.0.1:7899\n",
      "\n",
      "To create a public link, set `share=True` in `launch()`.\n"
     ]
    },
    {
     "data": {
      "text/html": [
       "<div><iframe src=\"http://127.0.0.1:7899/\" width=\"100%\" height=\"500\" allow=\"autoplay; camera; microphone; clipboard-read; clipboard-write;\" frameborder=\"0\" allowfullscreen></iframe></div>"
      ],
      "text/plain": [
       "<IPython.core.display.HTML object>"
      ]
     },
     "metadata": {},
     "output_type": "display_data"
    },
    {
     "data": {
      "text/plain": []
     },
     "execution_count": 211,
     "metadata": {},
     "output_type": "execute_result"
    }
   ],
   "source": [
    "#Launches Gradio Interface\n",
    "demo.launch()"
   ]
  },
  {
   "cell_type": "code",
   "execution_count": 212,
   "metadata": {},
   "outputs": [
    {
     "ename": "NameError",
     "evalue": "name 'ncoamencoame' is not defined",
     "output_type": "error",
     "traceback": [
      "\u001b[1;31m---------------------------------------------------------------------------\u001b[0m",
      "\u001b[1;31mNameError\u001b[0m                                 Traceback (most recent call last)",
      "Cell \u001b[1;32mIn[212], line 1\u001b[0m\n\u001b[1;32m----> 1\u001b[0m \u001b[43mncoamencoame\u001b[49m\n",
      "\u001b[1;31mNameError\u001b[0m: name 'ncoamencoame' is not defined"
     ]
    },
    {
     "name": "stderr",
     "output_type": "stream",
     "text": [
      "C:\\Users\\angel\\AppData\\Local\\Temp\\ipykernel_25144\\3305977561.py:38: FutureWarning: Series.__getitem__ treating keys as positions is deprecated. In a future version, integer keys will always be treated as labels (consistent with DataFrame behavior). To access a value by position, use `ser.iloc[pos]`\n",
      "  index = int(max[0])\n"
     ]
    },
    {
     "name": "stdout",
     "output_type": "stream",
     "text": [
      "      score          label\n",
      "0  0.933101        silence\n",
      "1  0.054790  a single clap\n",
      "2  0.012109          voice\n",
      "silence\n"
     ]
    },
    {
     "name": "stderr",
     "output_type": "stream",
     "text": [
      "C:\\Users\\angel\\AppData\\Local\\Temp\\ipykernel_25144\\3305977561.py:38: FutureWarning: Series.__getitem__ treating keys as positions is deprecated. In a future version, integer keys will always be treated as labels (consistent with DataFrame behavior). To access a value by position, use `ser.iloc[pos]`\n",
      "  index = int(max[0])\n"
     ]
    },
    {
     "name": "stdout",
     "output_type": "stream",
     "text": [
      "      score          label\n",
      "0  0.989742        silence\n",
      "1  0.009274          voice\n",
      "2  0.000984  a single clap\n",
      "silence\n"
     ]
    },
    {
     "name": "stderr",
     "output_type": "stream",
     "text": [
      "C:\\Users\\angel\\AppData\\Local\\Temp\\ipykernel_25144\\3305977561.py:38: FutureWarning: Series.__getitem__ treating keys as positions is deprecated. In a future version, integer keys will always be treated as labels (consistent with DataFrame behavior). To access a value by position, use `ser.iloc[pos]`\n",
      "  index = int(max[0])\n"
     ]
    },
    {
     "name": "stdout",
     "output_type": "stream",
     "text": [
      "      score          label\n",
      "0  0.997286        silence\n",
      "1  0.001994          voice\n",
      "2  0.000719  a single clap\n",
      "silence\n",
      "Audio size:  (240000,)\n"
     ]
    },
    {
     "name": "stderr",
     "output_type": "stream",
     "text": [
      "C:\\Users\\angel\\AppData\\Local\\Temp\\ipykernel_25144\\3305977561.py:38: FutureWarning: Series.__getitem__ treating keys as positions is deprecated. In a future version, integer keys will always be treated as labels (consistent with DataFrame behavior). To access a value by position, use `ser.iloc[pos]`\n",
      "  index = int(max[0])\n"
     ]
    },
    {
     "name": "stdout",
     "output_type": "stream",
     "text": [
      "      score          label\n",
      "0  0.996898        silence\n",
      "1  0.001915          voice\n",
      "2  0.001187  a single clap\n",
      "silence\n",
      "Audio size:  (240000,)\n"
     ]
    },
    {
     "name": "stderr",
     "output_type": "stream",
     "text": [
      "C:\\Users\\angel\\AppData\\Local\\Temp\\ipykernel_25144\\3305977561.py:38: FutureWarning: Series.__getitem__ treating keys as positions is deprecated. In a future version, integer keys will always be treated as labels (consistent with DataFrame behavior). To access a value by position, use `ser.iloc[pos]`\n",
      "  index = int(max[0])\n"
     ]
    },
    {
     "name": "stdout",
     "output_type": "stream",
     "text": [
      "      score          label\n",
      "0  0.896285        silence\n",
      "1  0.098730  a single clap\n",
      "2  0.004985          voice\n",
      "silence\n",
      "Audio size:  (240000,)\n"
     ]
    },
    {
     "name": "stderr",
     "output_type": "stream",
     "text": [
      "C:\\Users\\angel\\AppData\\Local\\Temp\\ipykernel_25144\\3305977561.py:38: FutureWarning: Series.__getitem__ treating keys as positions is deprecated. In a future version, integer keys will always be treated as labels (consistent with DataFrame behavior). To access a value by position, use `ser.iloc[pos]`\n",
      "  index = int(max[0])\n"
     ]
    },
    {
     "name": "stdout",
     "output_type": "stream",
     "text": [
      "      score          label\n",
      "0  0.759861          voice\n",
      "1  0.239913        silence\n",
      "2  0.000226  a single clap\n",
      "voice\n",
      "word was detected:  voice\n",
      "pressing macros...\n"
     ]
    }
   ],
   "source": [
    "ncoamencoamerelncoamerelncoamencoamerel"
   ]
  }
 ],
 "metadata": {
  "kernelspec": {
   "display_name": "AIM",
   "language": "python",
   "name": "python3"
  },
  "language_info": {
   "codemirror_mode": {
    "name": "ipython",
    "version": 3
   },
   "file_extension": ".py",
   "mimetype": "text/x-python",
   "name": "python",
   "nbconvert_exporter": "python",
   "pygments_lexer": "ipython3",
   "version": "3.11.8"
  }
 },
 "nbformat": 4,
 "nbformat_minor": 2
}
