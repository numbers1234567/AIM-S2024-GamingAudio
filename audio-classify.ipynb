{
 "cells": [
  {
   "cell_type": "code",
   "execution_count": 71,
   "metadata": {},
   "outputs": [],
   "source": [
    "import gradio as gr\n",
    "from transformers import pipeline\n",
    "import pandas as pd"
   ]
  },
  {
   "cell_type": "code",
   "execution_count": 72,
   "metadata": {},
   "outputs": [],
   "source": [
    "\n",
    "pipe = pipeline(task=\"zero-shot-audio-classification\", model=\"laion/clap-htsat-fused\")"
   ]
  },
  {
   "cell_type": "code",
   "execution_count": 89,
   "metadata": {},
   "outputs": [],
   "source": [
    "def reload():\n",
    "    print(\"reload\")\n",
    "\n",
    "def grenade():\n",
    "    print(\"grenade\")\n",
    "\n",
    "def shoot():\n",
    "    print(\"shoot\")\n",
    "\n",
    "def clap():\n",
    "    print(\"click C\")\n",
    "\n",
    "def snap():\n",
    "    print(\"click S\")\n",
    "\n",
    "def drop():\n",
    "    print(\"drop\")\n",
    "\n",
    "def dragon():\n",
    "    print(\"dragon\")\n",
    "\n",
    "macros = {\"reload\" : reload, \"grenade\" : grenade, \"shoot\" : shoot, \"clap\" : clap, \"snap\" : snap, \"drop\" : drop, \"dragon\" : dragon}\n",
    "#macros[classify(audio)]()"
   ]
  },
  {
   "cell_type": "code",
   "execution_count": 93,
   "metadata": {},
   "outputs": [],
   "source": [
    "#CLAP model's prediction function\n",
    "\n",
    "def classify(audio):\n",
    "    samplerate, array = audio\n",
    "    result = pipe(array, candidate_labels=[\"snap\", \"clap\",\"\"])\n",
    "    candidate_labels=[\"snap\", \"clap\",\"\"]\n",
    "    df = pd.DataFrame(result)\n",
    "    highestPercentIndex = -1\n",
    "    highestPercent = .75\n",
    "    for i in range(len(candidate_labels)):\n",
    "        if( result[i][\"score\"] > highestPercent):\n",
    "            highestPercentIndex = i\n",
    "    bestLabel = result[highestPercentIndex][\"label\"]\n",
    "    highestPercentIndex = -1\n",
    "    highestPercent = .75\n",
    "    macros[bestLabel]()\n",
    "    return df"
   ]
  },
  {
   "cell_type": "code",
   "execution_count": 91,
   "metadata": {},
   "outputs": [],
   "source": [
    "#Settings for Gradio Interface\n",
    "demo = gr.Interface(\n",
    "    fn=classify,\n",
    "    inputs=gr.Audio(sources=[\"microphone\"],streaming=True),\n",
    "    outputs=[gr.Dataframe()],\n",
    "    live=True,\n",
    "    \n",
    ")"
   ]
  },
  {
   "cell_type": "code",
   "execution_count": 92,
   "metadata": {},
   "outputs": [
    {
     "name": "stdout",
     "output_type": "stream",
     "text": [
      "Running on local URL:  http://127.0.0.1:7871\n",
      "\n",
      "To create a public link, set `share=True` in `launch()`.\n"
     ]
    },
    {
     "data": {
      "text/html": [
       "<div><iframe src=\"http://127.0.0.1:7871/\" width=\"100%\" height=\"500\" allow=\"autoplay; camera; microphone; clipboard-read; clipboard-write;\" frameborder=\"0\" allowfullscreen></iframe></div>"
      ],
      "text/plain": [
       "<IPython.core.display.HTML object>"
      ]
     },
     "metadata": {},
     "output_type": "display_data"
    },
    {
     "data": {
      "text/plain": []
     },
     "execution_count": 92,
     "metadata": {},
     "output_type": "execute_result"
    },
    {
     "name": "stdout",
     "output_type": "stream",
     "text": [
      "click C\n",
      "click C\n"
     ]
    }
   ],
   "source": [
    "#Launches Gradio Interface\n",
    "demo.launch()"
   ]
  }
 ],
 "metadata": {
  "kernelspec": {
   "display_name": "AIM",
   "language": "python",
   "name": "python3"
  },
  "language_info": {
   "codemirror_mode": {
    "name": "ipython",
    "version": 3
   },
   "file_extension": ".py",
   "mimetype": "text/x-python",
   "name": "python",
   "nbconvert_exporter": "python",
   "pygments_lexer": "ipython3",
   "version": "3.8.18"
  }
 },
 "nbformat": 4,
 "nbformat_minor": 2
}
