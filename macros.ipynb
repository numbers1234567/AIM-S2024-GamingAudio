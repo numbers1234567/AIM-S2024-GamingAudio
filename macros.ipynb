{
 "cells": [
  {
   "cell_type": "code",
   "execution_count": 5,
   "metadata": {},
   "outputs": [
    {
     "name": "stdout",
     "output_type": "stream",
     "text": [
      "alphanumeric key s pressedalphanumeric key s pressed\n",
      "\n",
      "'s' released\n",
      "'s' released\n",
      "alphanumeric key s pressed\n",
      "alphanumeric key s pressed\n",
      "'s' released\n",
      "'s' released\n"
     ]
    }
   ],
   "source": [
    "import pyautogui\n",
    "from pynput import keyboard\n",
    "\n",
    "screenWidth, screenHeight = pyautogui.size() # Get the size of the primary monitor.\n",
    "\n",
    "sound_dict = {\n",
    "\n",
    "}\n",
    "\n",
    "key_list = []\n",
    "\n",
    "def on_press(key):\n",
    "    try:\n",
    "        print('alphanumeric key {0} pressed'.format(\n",
    "            key.char))\n",
    "        key_list.append(key.char)\n",
    "    except AttributeError:\n",
    "        print('special key {0} pressed'.format(\n",
    "            key))\n",
    "\n",
    "def on_release(key):\n",
    "    print('{0} released'.format(\n",
    "        key))\n",
    "    if key == keyboard.Key.esc:\n",
    "        # Stop listener\n",
    "        return False\n",
    "\n",
    "# Collect events until released\n",
    "with keyboard.Listener(\n",
    "        on_press=on_press,\n",
    "        on_release=on_release) as listener:\n",
    "    listener.join()\n",
    "\n",
    "# ...or, in a non-blocking fashion:\n",
    "listener = keyboard.Listener(\n",
    "    on_press=on_press,\n",
    "    on_release=on_release)\n",
    "listener.start()\n",
    "\n",
    "def classify(audio_output, hotkey):\n",
    "    sound_dict.update({audio_output, hotkey})\n",
    "\n",
    "print(key_list)\n",
    "    \n",
    "from pynput import keyboard\n",
    "\n",
    "def on_activate():\n",
    "    print('Global hotkey activated!')\n",
    "\n",
    "def for_canonical(f):\n",
    "    return lambda k: f(l.canonical(k))\n",
    "\n",
    "hotkey = keyboard.HotKey(\n",
    "    keyboard.HotKey.parse('<ctrl>+<alt>+h'),\n",
    "    on_activate)\n",
    "with keyboard.Listener(\n",
    "        on_press=for_canonical(hotkey.press),\n",
    "        on_release=for_canonical(hotkey.release)) as l:\n",
    "    l.join()"
   ]
  }
 ],
 "metadata": {
  "kernelspec": {
   "display_name": "Python 3",
   "language": "python",
   "name": "python3"
  },
  "language_info": {
   "codemirror_mode": {
    "name": "ipython",
    "version": 3
   },
   "file_extension": ".py",
   "mimetype": "text/x-python",
   "name": "python",
   "nbconvert_exporter": "python",
   "pygments_lexer": "ipython3",
   "version": "3.12.2"
  }
 },
 "nbformat": 4,
 "nbformat_minor": 2
}
