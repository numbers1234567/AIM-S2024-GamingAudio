{
 "cells": [
  {
   "cell_type": "code",
   "execution_count": 12,
   "metadata": {},
   "outputs": [
    {
     "name": "stdout",
     "output_type": "stream",
     "text": [
      "Running on local URL:  http://127.0.0.1:7871\n",
      "\n",
      "To create a public link, set `share=True` in `launch()`.\n"
     ]
    },
    {
     "data": {
      "text/html": [
       "<div><iframe src=\"http://127.0.0.1:7871/\" width=\"100%\" height=\"500\" allow=\"autoplay; camera; microphone; clipboard-read; clipboard-write;\" frameborder=\"0\" allowfullscreen></iframe></div>"
      ],
      "text/plain": [
       "<IPython.core.display.HTML object>"
      ]
     },
     "metadata": {},
     "output_type": "display_data"
    },
    {
     "data": {
      "text/plain": []
     },
     "execution_count": 12,
     "metadata": {},
     "output_type": "execute_result"
    },
    {
     "name": "stdout",
     "output_type": "stream",
     "text": [
      "(139952,)\n",
      "32767\n"
     ]
    },
    {
     "name": "stderr",
     "output_type": "stream",
     "text": [
      "ERROR:    Exception in ASGI application\n",
      "  + Exception Group Traceback (most recent call last):\n",
      "  |   File \"c:\\Users\\angel\\anaconda3\\envs\\AIM-S2024-AudioGaming\\Lib\\site-packages\\starlette\\middleware\\base.py\", line 192, in __call__\n",
      "  |     await response(scope, wrapped_receive, send)\n",
      "  |   File \"c:\\Users\\angel\\anaconda3\\envs\\AIM-S2024-AudioGaming\\Lib\\site-packages\\starlette\\responses.py\", line 257, in __call__\n",
      "  |     async with anyio.create_task_group() as task_group:\n",
      "  |   File \"c:\\Users\\angel\\anaconda3\\envs\\AIM-S2024-AudioGaming\\Lib\\site-packages\\anyio\\_backends\\_asyncio.py\", line 678, in __aexit__\n",
      "  |     raise BaseExceptionGroup(\n",
      "  | ExceptionGroup: unhandled errors in a TaskGroup (1 sub-exception)\n",
      "  +-+---------------- 1 ----------------\n",
      "    | Traceback (most recent call last):\n",
      "    |   File \"c:\\Users\\angel\\anaconda3\\envs\\AIM-S2024-AudioGaming\\Lib\\site-packages\\uvicorn\\protocols\\http\\h11_impl.py\", line 408, in run_asgi\n",
      "    |     result = await app(  # type: ignore[func-returns-value]\n",
      "    |              ^^^^^^^^^^^^^^^^^^^^^^^^^^^^^^^^^^^^^^^^^^^^^^\n",
      "    |   File \"c:\\Users\\angel\\anaconda3\\envs\\AIM-S2024-AudioGaming\\Lib\\site-packages\\uvicorn\\middleware\\proxy_headers.py\", line 69, in __call__\n",
      "    |     return await self.app(scope, receive, send)\n",
      "    |            ^^^^^^^^^^^^^^^^^^^^^^^^^^^^^^^^^^^^\n",
      "    |   File \"c:\\Users\\angel\\anaconda3\\envs\\AIM-S2024-AudioGaming\\Lib\\site-packages\\fastapi\\applications.py\", line 1054, in __call__\n",
      "    |     await super().__call__(scope, receive, send)\n",
      "    |   File \"c:\\Users\\angel\\anaconda3\\envs\\AIM-S2024-AudioGaming\\Lib\\site-packages\\starlette\\applications.py\", line 123, in __call__\n",
      "    |     await self.middleware_stack(scope, receive, send)\n",
      "    |   File \"c:\\Users\\angel\\anaconda3\\envs\\AIM-S2024-AudioGaming\\Lib\\site-packages\\starlette\\middleware\\errors.py\", line 186, in __call__\n",
      "    |     raise exc\n",
      "    |   File \"c:\\Users\\angel\\anaconda3\\envs\\AIM-S2024-AudioGaming\\Lib\\site-packages\\starlette\\middleware\\errors.py\", line 164, in __call__\n",
      "    |     await self.app(scope, receive, _send)\n",
      "    |   File \"c:\\Users\\angel\\anaconda3\\envs\\AIM-S2024-AudioGaming\\Lib\\site-packages\\starlette\\middleware\\base.py\", line 189, in __call__\n",
      "    |     with collapse_excgroups():\n",
      "    |   File \"c:\\Users\\angel\\anaconda3\\envs\\AIM-S2024-AudioGaming\\Lib\\contextlib.py\", line 158, in __exit__\n",
      "    |     self.gen.throw(typ, value, traceback)\n",
      "    |   File \"c:\\Users\\angel\\anaconda3\\envs\\AIM-S2024-AudioGaming\\Lib\\site-packages\\starlette\\_utils.py\", line 93, in collapse_excgroups\n",
      "    |     raise exc\n",
      "    |   File \"c:\\Users\\angel\\anaconda3\\envs\\AIM-S2024-AudioGaming\\Lib\\site-packages\\starlette\\responses.py\", line 260, in wrap\n",
      "    |     await func()\n",
      "    |   File \"c:\\Users\\angel\\anaconda3\\envs\\AIM-S2024-AudioGaming\\Lib\\site-packages\\starlette\\middleware\\base.py\", line 217, in stream_response\n",
      "    |     return await super().stream_response(send)\n",
      "    |            ^^^^^^^^^^^^^^^^^^^^^^^^^^^^^^^^^^^\n",
      "    |   File \"c:\\Users\\angel\\anaconda3\\envs\\AIM-S2024-AudioGaming\\Lib\\site-packages\\starlette\\responses.py\", line 254, in stream_response\n",
      "    |     await send({\"type\": \"http.response.body\", \"body\": b\"\", \"more_body\": False})\n",
      "    |   File \"c:\\Users\\angel\\anaconda3\\envs\\AIM-S2024-AudioGaming\\Lib\\site-packages\\starlette\\middleware\\errors.py\", line 161, in _send\n",
      "    |     await send(message)\n",
      "    |   File \"c:\\Users\\angel\\anaconda3\\envs\\AIM-S2024-AudioGaming\\Lib\\site-packages\\uvicorn\\protocols\\http\\h11_impl.py\", line 514, in send\n",
      "    |     output = self.conn.send(event=h11.EndOfMessage())\n",
      "    |              ^^^^^^^^^^^^^^^^^^^^^^^^^^^^^^^^^^^^^^^^\n",
      "    |   File \"c:\\Users\\angel\\anaconda3\\envs\\AIM-S2024-AudioGaming\\Lib\\site-packages\\h11\\_connection.py\", line 512, in send\n",
      "    |     data_list = self.send_with_data_passthrough(event)\n",
      "    |                 ^^^^^^^^^^^^^^^^^^^^^^^^^^^^^^^^^^^^^^\n",
      "    |   File \"c:\\Users\\angel\\anaconda3\\envs\\AIM-S2024-AudioGaming\\Lib\\site-packages\\h11\\_connection.py\", line 545, in send_with_data_passthrough\n",
      "    |     writer(event, data_list.append)\n",
      "    |   File \"c:\\Users\\angel\\anaconda3\\envs\\AIM-S2024-AudioGaming\\Lib\\site-packages\\h11\\_writers.py\", line 67, in __call__\n",
      "    |     self.send_eom(event.headers, write)\n",
      "    |   File \"c:\\Users\\angel\\anaconda3\\envs\\AIM-S2024-AudioGaming\\Lib\\site-packages\\h11\\_writers.py\", line 96, in send_eom\n",
      "    |     raise LocalProtocolError(\"Too little data for declared Content-Length\")\n",
      "    | h11._util.LocalProtocolError: Too little data for declared Content-Length\n",
      "    +------------------------------------\n",
      "\n",
      "During handling of the above exception, another exception occurred:\n",
      "\n",
      "  + Exception Group Traceback (most recent call last):\n",
      "  |   File \"c:\\Users\\angel\\anaconda3\\envs\\AIM-S2024-AudioGaming\\Lib\\site-packages\\starlette\\_utils.py\", line 87, in collapse_excgroups\n",
      "  |     yield\n",
      "  |   File \"c:\\Users\\angel\\anaconda3\\envs\\AIM-S2024-AudioGaming\\Lib\\site-packages\\starlette\\middleware\\base.py\", line 190, in __call__\n",
      "  |     async with anyio.create_task_group() as task_group:\n",
      "  |   File \"c:\\Users\\angel\\anaconda3\\envs\\AIM-S2024-AudioGaming\\Lib\\site-packages\\anyio\\_backends\\_asyncio.py\", line 678, in __aexit__\n",
      "  |     raise BaseExceptionGroup(\n",
      "  | ExceptionGroup: unhandled errors in a TaskGroup (1 sub-exception)\n",
      "  +-+---------------- 1 ----------------\n",
      "    | Exception Group Traceback (most recent call last):\n",
      "    |   File \"c:\\Users\\angel\\anaconda3\\envs\\AIM-S2024-AudioGaming\\Lib\\site-packages\\starlette\\middleware\\base.py\", line 192, in __call__\n",
      "    |     await response(scope, wrapped_receive, send)\n",
      "    |   File \"c:\\Users\\angel\\anaconda3\\envs\\AIM-S2024-AudioGaming\\Lib\\site-packages\\starlette\\responses.py\", line 257, in __call__\n",
      "    |     async with anyio.create_task_group() as task_group:\n",
      "    |   File \"c:\\Users\\angel\\anaconda3\\envs\\AIM-S2024-AudioGaming\\Lib\\site-packages\\anyio\\_backends\\_asyncio.py\", line 678, in __aexit__\n",
      "    |     raise BaseExceptionGroup(\n",
      "    | ExceptionGroup: unhandled errors in a TaskGroup (1 sub-exception)\n",
      "    +-+---------------- 1 ----------------\n",
      "      | Traceback (most recent call last):\n",
      "      |   File \"c:\\Users\\angel\\anaconda3\\envs\\AIM-S2024-AudioGaming\\Lib\\site-packages\\uvicorn\\protocols\\http\\h11_impl.py\", line 408, in run_asgi\n",
      "      |     result = await app(  # type: ignore[func-returns-value]\n",
      "      |              ^^^^^^^^^^^^^^^^^^^^^^^^^^^^^^^^^^^^^^^^^^^^^^\n",
      "      |   File \"c:\\Users\\angel\\anaconda3\\envs\\AIM-S2024-AudioGaming\\Lib\\site-packages\\uvicorn\\middleware\\proxy_headers.py\", line 69, in __call__\n",
      "      |     return await self.app(scope, receive, send)\n",
      "      |            ^^^^^^^^^^^^^^^^^^^^^^^^^^^^^^^^^^^^\n",
      "      |   File \"c:\\Users\\angel\\anaconda3\\envs\\AIM-S2024-AudioGaming\\Lib\\site-packages\\fastapi\\applications.py\", line 1054, in __call__\n",
      "      |     await super().__call__(scope, receive, send)\n",
      "      |   File \"c:\\Users\\angel\\anaconda3\\envs\\AIM-S2024-AudioGaming\\Lib\\site-packages\\starlette\\applications.py\", line 123, in __call__\n",
      "      |     await self.middleware_stack(scope, receive, send)\n",
      "      |   File \"c:\\Users\\angel\\anaconda3\\envs\\AIM-S2024-AudioGaming\\Lib\\site-packages\\starlette\\middleware\\errors.py\", line 186, in __call__\n",
      "      |     raise exc\n",
      "      |   File \"c:\\Users\\angel\\anaconda3\\envs\\AIM-S2024-AudioGaming\\Lib\\site-packages\\starlette\\middleware\\errors.py\", line 164, in __call__\n",
      "      |     await self.app(scope, receive, _send)\n",
      "      |   File \"c:\\Users\\angel\\anaconda3\\envs\\AIM-S2024-AudioGaming\\Lib\\site-packages\\starlette\\middleware\\base.py\", line 189, in __call__\n",
      "      |     with collapse_excgroups():\n",
      "      |   File \"c:\\Users\\angel\\anaconda3\\envs\\AIM-S2024-AudioGaming\\Lib\\contextlib.py\", line 158, in __exit__\n",
      "      |     self.gen.throw(typ, value, traceback)\n",
      "      |   File \"c:\\Users\\angel\\anaconda3\\envs\\AIM-S2024-AudioGaming\\Lib\\site-packages\\starlette\\_utils.py\", line 93, in collapse_excgroups\n",
      "      |     raise exc\n",
      "      |   File \"c:\\Users\\angel\\anaconda3\\envs\\AIM-S2024-AudioGaming\\Lib\\site-packages\\starlette\\responses.py\", line 260, in wrap\n",
      "      |     await func()\n",
      "      |   File \"c:\\Users\\angel\\anaconda3\\envs\\AIM-S2024-AudioGaming\\Lib\\site-packages\\starlette\\middleware\\base.py\", line 217, in stream_response\n",
      "      |     return await super().stream_response(send)\n",
      "      |            ^^^^^^^^^^^^^^^^^^^^^^^^^^^^^^^^^^^\n",
      "      |   File \"c:\\Users\\angel\\anaconda3\\envs\\AIM-S2024-AudioGaming\\Lib\\site-packages\\starlette\\responses.py\", line 254, in stream_response\n",
      "      |     await send({\"type\": \"http.response.body\", \"body\": b\"\", \"more_body\": False})\n",
      "      |   File \"c:\\Users\\angel\\anaconda3\\envs\\AIM-S2024-AudioGaming\\Lib\\site-packages\\starlette\\middleware\\errors.py\", line 161, in _send\n",
      "      |     await send(message)\n",
      "      |   File \"c:\\Users\\angel\\anaconda3\\envs\\AIM-S2024-AudioGaming\\Lib\\site-packages\\uvicorn\\protocols\\http\\h11_impl.py\", line 514, in send\n",
      "      |     output = self.conn.send(event=h11.EndOfMessage())\n",
      "      |              ^^^^^^^^^^^^^^^^^^^^^^^^^^^^^^^^^^^^^^^^\n",
      "      |   File \"c:\\Users\\angel\\anaconda3\\envs\\AIM-S2024-AudioGaming\\Lib\\site-packages\\h11\\_connection.py\", line 512, in send\n",
      "      |     data_list = self.send_with_data_passthrough(event)\n",
      "      |                 ^^^^^^^^^^^^^^^^^^^^^^^^^^^^^^^^^^^^^^\n",
      "      |   File \"c:\\Users\\angel\\anaconda3\\envs\\AIM-S2024-AudioGaming\\Lib\\site-packages\\h11\\_connection.py\", line 545, in send_with_data_passthrough\n",
      "      |     writer(event, data_list.append)\n",
      "      |   File \"c:\\Users\\angel\\anaconda3\\envs\\AIM-S2024-AudioGaming\\Lib\\site-packages\\h11\\_writers.py\", line 67, in __call__\n",
      "      |     self.send_eom(event.headers, write)\n",
      "      |   File \"c:\\Users\\angel\\anaconda3\\envs\\AIM-S2024-AudioGaming\\Lib\\site-packages\\h11\\_writers.py\", line 96, in send_eom\n",
      "      |     raise LocalProtocolError(\"Too little data for declared Content-Length\")\n",
      "      | h11._util.LocalProtocolError: Too little data for declared Content-Length\n",
      "      +------------------------------------\n",
      "\n",
      "During handling of the above exception, another exception occurred:\n",
      "\n",
      "Traceback (most recent call last):\n",
      "  File \"c:\\Users\\angel\\anaconda3\\envs\\AIM-S2024-AudioGaming\\Lib\\site-packages\\uvicorn\\protocols\\http\\h11_impl.py\", line 408, in run_asgi\n",
      "    result = await app(  # type: ignore[func-returns-value]\n",
      "             ^^^^^^^^^^^^^^^^^^^^^^^^^^^^^^^^^^^^^^^^^^^^^^\n",
      "  File \"c:\\Users\\angel\\anaconda3\\envs\\AIM-S2024-AudioGaming\\Lib\\site-packages\\uvicorn\\middleware\\proxy_headers.py\", line 69, in __call__\n",
      "    return await self.app(scope, receive, send)\n",
      "           ^^^^^^^^^^^^^^^^^^^^^^^^^^^^^^^^^^^^\n",
      "  File \"c:\\Users\\angel\\anaconda3\\envs\\AIM-S2024-AudioGaming\\Lib\\site-packages\\fastapi\\applications.py\", line 1054, in __call__\n",
      "    await super().__call__(scope, receive, send)\n",
      "  File \"c:\\Users\\angel\\anaconda3\\envs\\AIM-S2024-AudioGaming\\Lib\\site-packages\\starlette\\applications.py\", line 123, in __call__\n",
      "    await self.middleware_stack(scope, receive, send)\n",
      "  File \"c:\\Users\\angel\\anaconda3\\envs\\AIM-S2024-AudioGaming\\Lib\\site-packages\\starlette\\middleware\\errors.py\", line 186, in __call__\n",
      "    raise exc\n",
      "  File \"c:\\Users\\angel\\anaconda3\\envs\\AIM-S2024-AudioGaming\\Lib\\site-packages\\starlette\\middleware\\errors.py\", line 164, in __call__\n",
      "    await self.app(scope, receive, _send)\n",
      "  File \"c:\\Users\\angel\\anaconda3\\envs\\AIM-S2024-AudioGaming\\Lib\\site-packages\\starlette\\middleware\\base.py\", line 189, in __call__\n",
      "    with collapse_excgroups():\n",
      "  File \"c:\\Users\\angel\\anaconda3\\envs\\AIM-S2024-AudioGaming\\Lib\\contextlib.py\", line 158, in __exit__\n",
      "    self.gen.throw(typ, value, traceback)\n",
      "  File \"c:\\Users\\angel\\anaconda3\\envs\\AIM-S2024-AudioGaming\\Lib\\site-packages\\starlette\\_utils.py\", line 93, in collapse_excgroups\n",
      "    raise exc\n",
      "  File \"c:\\Users\\angel\\anaconda3\\envs\\AIM-S2024-AudioGaming\\Lib\\site-packages\\starlette\\responses.py\", line 260, in wrap\n",
      "    await func()\n",
      "  File \"c:\\Users\\angel\\anaconda3\\envs\\AIM-S2024-AudioGaming\\Lib\\site-packages\\starlette\\middleware\\base.py\", line 217, in stream_response\n",
      "    return await super().stream_response(send)\n",
      "           ^^^^^^^^^^^^^^^^^^^^^^^^^^^^^^^^^^^\n",
      "  File \"c:\\Users\\angel\\anaconda3\\envs\\AIM-S2024-AudioGaming\\Lib\\site-packages\\starlette\\responses.py\", line 254, in stream_response\n",
      "    await send({\"type\": \"http.response.body\", \"body\": b\"\", \"more_body\": False})\n",
      "  File \"c:\\Users\\angel\\anaconda3\\envs\\AIM-S2024-AudioGaming\\Lib\\site-packages\\starlette\\middleware\\errors.py\", line 161, in _send\n",
      "    await send(message)\n",
      "  File \"c:\\Users\\angel\\anaconda3\\envs\\AIM-S2024-AudioGaming\\Lib\\site-packages\\uvicorn\\protocols\\http\\h11_impl.py\", line 514, in send\n",
      "    output = self.conn.send(event=h11.EndOfMessage())\n",
      "             ^^^^^^^^^^^^^^^^^^^^^^^^^^^^^^^^^^^^^^^^\n",
      "  File \"c:\\Users\\angel\\anaconda3\\envs\\AIM-S2024-AudioGaming\\Lib\\site-packages\\h11\\_connection.py\", line 512, in send\n",
      "    data_list = self.send_with_data_passthrough(event)\n",
      "                ^^^^^^^^^^^^^^^^^^^^^^^^^^^^^^^^^^^^^^\n",
      "  File \"c:\\Users\\angel\\anaconda3\\envs\\AIM-S2024-AudioGaming\\Lib\\site-packages\\h11\\_connection.py\", line 545, in send_with_data_passthrough\n",
      "    writer(event, data_list.append)\n",
      "  File \"c:\\Users\\angel\\anaconda3\\envs\\AIM-S2024-AudioGaming\\Lib\\site-packages\\h11\\_writers.py\", line 67, in __call__\n",
      "    self.send_eom(event.headers, write)\n",
      "  File \"c:\\Users\\angel\\anaconda3\\envs\\AIM-S2024-AudioGaming\\Lib\\site-packages\\h11\\_writers.py\", line 96, in send_eom\n",
      "    raise LocalProtocolError(\"Too little data for declared Content-Length\")\n",
      "h11._util.LocalProtocolError: Too little data for declared Content-Length\n"
     ]
    },
    {
     "name": "stdout",
     "output_type": "stream",
     "text": [
      "(157592,)\n",
      "31063\n"
     ]
    }
   ],
   "source": [
    "import gradio as gr\n",
    "from transformers import pipeline\n",
    "import numpy as np\n",
    "import librosa\n",
    "import time\n",
    "\n",
    "#transcriber = pipeline(\"automatic-speech-recognition\", model=\"asapp/sew-d-tiny-100k-ft-ls100h\")\n",
    "transcriber = pipeline(\n",
    "    task=\"zero-shot-audio-classification\", model=\"laion/clap-htsat-unfused\"\n",
    ")\n",
    "candidate_labels = [\"Sound of a hand hitting a desk\", \"Sound of a clap\", \"Sound of random noise\"]\n",
    "\n",
    "def transcribe(audio):\n",
    "    start=time.time()\n",
    "    sr, y = audio\n",
    "    print(y.shape)\n",
    "    print(np.max(np.abs(y)))\n",
    "    y = y.astype(np.float32)\n",
    "    if len(y.shape)>=2: y = np.mean(y, axis=1)\n",
    "    y /= np.max(np.abs(y))\n",
    "    return transcriber(y, candidate_labels=candidate_labels)\n",
    "\n",
    "\n",
    "demo = gr.Interface(\n",
    "    transcribe,\n",
    "    gr.Audio(sources=[\"microphone\"]),\n",
    "    \"text\",\n",
    ")\n",
    "\n",
    "demo.launch()\n"
   ]
  },
  {
   "cell_type": "code",
   "execution_count": 13,
   "metadata": {},
   "outputs": [
    {
     "name": "stdout",
     "output_type": "stream",
     "text": [
      "Running on local URL:  http://127.0.0.1:7872\n",
      "\n",
      "To create a public link, set `share=True` in `launch()`.\n"
     ]
    },
    {
     "data": {
      "text/html": [
       "<div><iframe src=\"http://127.0.0.1:7872/\" width=\"100%\" height=\"500\" allow=\"autoplay; camera; microphone; clipboard-read; clipboard-write;\" frameborder=\"0\" allowfullscreen></iframe></div>"
      ],
      "text/plain": [
       "<IPython.core.display.HTML object>"
      ]
     },
     "metadata": {},
     "output_type": "display_data"
    },
    {
     "data": {
      "text/plain": []
     },
     "execution_count": 13,
     "metadata": {},
     "output_type": "execute_result"
    }
   ],
   "source": [
    "import gradio as gr\n",
    "from transformers import pipeline\n",
    "import numpy as np\n",
    "\n",
    "transcriber = pipeline(\"automatic-speech-recognition\", model=\"openai/whisper-base.en\")\n",
    "\n",
    "def transcribe(stream, new_chunk):\n",
    "    sampling_rate, y = new_chunk\n",
    "    if len(y.shape) > 1: y = np.mean(y,axis=1)\n",
    "    y = y.astype(np.float32)\n",
    "    y /= np.max(np.abs(y))\n",
    "    if stream is not None:\n",
    "        stream = np.concatenate([stream, y])\n",
    "    else:\n",
    "        stream = y\n",
    "    return stream, transcriber({\"sampling_rate\": sampling_rate, \"raw\": stream})[\"text\"]\n",
    "\n",
    "\n",
    "demo = gr.Interface(\n",
    "    transcribe,\n",
    "    [\"state\", gr.Audio(sources=[\"microphone\"], streaming=True)],\n",
    "    [\"state\", \"text\"],\n",
    "    live=True,\n",
    ")\n",
    "\n",
    "demo.launch()\n"
   ]
  },
  {
   "cell_type": "code",
   "execution_count": null,
   "metadata": {},
   "outputs": [],
   "source": []
  }
 ],
 "metadata": {
  "kernelspec": {
   "display_name": "AIM-S2024-AudioGaming",
   "language": "python",
   "name": "python3"
  },
  "language_info": {
   "codemirror_mode": {
    "name": "ipython",
    "version": 3
   },
   "file_extension": ".py",
   "mimetype": "text/x-python",
   "name": "python",
   "nbconvert_exporter": "python",
   "pygments_lexer": "ipython3",
   "version": "3.11.8"
  }
 },
 "nbformat": 4,
 "nbformat_minor": 2
}
