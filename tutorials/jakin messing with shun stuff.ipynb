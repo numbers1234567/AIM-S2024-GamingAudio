{
 "cells": [
  {
   "cell_type": "code",
   "execution_count": 21,
   "metadata": {},
   "outputs": [],
   "source": [
    "import gradio as gr\n",
    "import ast\n",
    "from pynput import keyboard"
   ]
  },
  {
   "cell_type": "code",
   "execution_count": 22,
   "metadata": {},
   "outputs": [],
   "source": [
    "def update_macros(action, keys, macro_to_delete, current_macros):\n",
    "    # Check if current_macros is a string representation of a dictionary, and convert it if so\n",
    "    if isinstance(current_macros, str) and current_macros.strip():\n",
    "        # Safely convert the string representation back to a dictionary\n",
    "        current_macros = ast.literal_eval(current_macros)\n",
    "    else:\n",
    "        # Initialize as an empty dictionary if not a valid string representation\n",
    "        current_macros = {}\n",
    "    \n",
    "    # Check if a user entered a macro to delete\n",
    "    if macro_to_delete and macro_to_delete in current_macros:\n",
    "        del current_macros[macro_to_delete]  \n",
    "    elif action and keys:  # Ensure non-empty input\n",
    "        # Update or add the macro definition\n",
    "        newlist = key_list.copy()\n",
    "        current_macros[action] = {'keys': newlist}\n",
    "\n",
    "    # Format the macros for display in a readable format\n",
    "    macros_text = \"\"\n",
    "    for act, vals in current_macros.items():\n",
    "        macros_text += f\"[{act}]  ->  {vals['keys']}\\n\"\n",
    "\n",
    "    clear_list()\n",
    "\n",
    "    # Return both the formatted string for display and the updated macros dictionary, Clear the display for action_input, keys_input, and macro_to_delte\n",
    "    return macros_text, str(current_macros), \"\", \"\""
   ]
  },
  {
   "cell_type": "code",
   "execution_count": 23,
   "metadata": {},
   "outputs": [],
   "source": [
    "key_list = []\n",
    "\n",
    "def read_keys():\n",
    "    def on_press(key):\n",
    "        try:\n",
    "            print('alphanumeric key {0} pressed'.format(key.char))\n",
    "            if key == keyboard.Key.esc:\n",
    "                return False\n",
    "        except AttributeError:\n",
    "            print('special key {0} pressed'.format(key))\n",
    "        \n",
    "    def on_release(key):\n",
    "        # try:\n",
    "            print('{0} released'.format(key))\n",
    "            key_list.append(key.char)\n",
    "        # except AttributeError:\n",
    "        #     key_list.append(key)\n",
    "            print(key_list)\n",
    "\n",
    "    with keyboard.Listener(\n",
    "        on_press=on_press,\n",
    "        on_release=on_release) as listener:\n",
    "        listener.join()\n",
    "\n",
    "    return key_list\n",
    "\n",
    "def clear_list():\n",
    "    key_list.clear()\n"
   ]
  },
  {
   "cell_type": "code",
   "execution_count": 24,
   "metadata": {},
   "outputs": [],
   "source": [
    "with gr.Blocks() as settings_page:\n",
    "    gr.Markdown(\"# Macro Setting\")\n",
    "    gr.Markdown(\"\"\"\n",
    "    Configure your audio command macros here. Enter a speech command, specify the keys it should trigger, and set the timing.\n",
    "    \"\"\")\n",
    "    \n",
    "    with gr.Row():\n",
    "        # Create a textbox for the speech command\n",
    "        action_input = gr.Textbox(label=\"Speech Command\") \n",
    "        # Create a textbox for the key\n",
    "        keys_input = gr.Button(\"Keys to Simulate\")\n",
    "\n",
    "    # Gets the macro the user wants to delete\n",
    "    macro_to_delete = gr.Textbox(label=\"Type the Speech Command to Delete\")\n",
    "    # Creates a button to update or add the new settings\n",
    "    update_btn = gr.Button(\"Update/Add Macro\") \n",
    "    \n",
    "    # Display for the current macros\n",
    "    current_macros_display = gr.Textbox(label=\"Current Macros\", value=\"\", lines=10, interactive=False) \n",
    "    macros_state = gr.State('{}')\n",
    "    # Runs when the button is clicked updating the current macros display\n",
    "    keys_input.click(read_keys)\n",
    "    update_btn.click(update_macros, \n",
    "                     inputs=[action_input, keys_input,macro_to_delete, macros_state], \n",
    "                     outputs=[current_macros_display, macros_state, action_input, macro_to_delete])\n"
   ]
  },
  {
   "cell_type": "code",
   "execution_count": 25,
   "metadata": {},
   "outputs": [
    {
     "name": "stdout",
     "output_type": "stream",
     "text": [
      "Running on local URL:  http://127.0.0.1:7865\n",
      "\n",
      "To create a public link, set `share=True` in `launch()`.\n"
     ]
    },
    {
     "data": {
      "text/html": [
       "<div><iframe src=\"http://127.0.0.1:7865/\" width=\"100%\" height=\"500\" allow=\"autoplay; camera; microphone; clipboard-read; clipboard-write;\" frameborder=\"0\" allowfullscreen></iframe></div>"
      ],
      "text/plain": [
       "<IPython.core.display.HTML object>"
      ]
     },
     "metadata": {},
     "output_type": "display_data"
    },
    {
     "data": {
      "text/plain": []
     },
     "execution_count": 25,
     "metadata": {},
     "output_type": "execute_result"
    },
    {
     "name": "stdout",
     "output_type": "stream",
     "text": [
      "alphanumeric key r pressed\n",
      "'r' released\n",
      "['r']\n"
     ]
    },
    {
     "name": "stderr",
     "output_type": "stream",
     "text": [
      "Unhandled exception in listener callback\n",
      "Traceback (most recent call last):\n",
      "  File \"c:\\Users\\jakin\\AppData\\Local\\Programs\\Python\\Python312\\Lib\\site-packages\\pynput\\_util\\__init__.py\", line 228, in inner\n",
      "    return f(self, *args, **kwargs)\n",
      "           ^^^^^^^^^^^^^^^^^^^^^^^^\n",
      "  File \"c:\\Users\\jakin\\AppData\\Local\\Programs\\Python\\Python312\\Lib\\site-packages\\pynput\\keyboard\\_win32.py\", line 290, in _process\n",
      "    self.on_release(key)\n",
      "  File \"c:\\Users\\jakin\\AppData\\Local\\Programs\\Python\\Python312\\Lib\\site-packages\\pynput\\_util\\__init__.py\", line 144, in inner\n",
      "    if f(*args) is False:\n",
      "       ^^^^^^^^\n",
      "  File \"C:\\Users\\jakin\\AppData\\Local\\Temp\\ipykernel_17848\\3848912610.py\", line 15, in on_release\n",
      "    key_list.append(key.char)\n",
      "                    ^^^^^^^^\n",
      "AttributeError: 'Key' object has no attribute 'char'\n"
     ]
    },
    {
     "name": "stdout",
     "output_type": "stream",
     "text": [
      "special key Key.esc pressed\n",
      "Key.esc released\n"
     ]
    },
    {
     "name": "stderr",
     "output_type": "stream",
     "text": [
      "Traceback (most recent call last):\n",
      "  File \"C:\\Users\\jakin\\AppData\\Roaming\\Python\\Python312\\site-packages\\gradio\\queueing.py\", line 495, in call_prediction\n",
      "    output = await route_utils.call_process_api(\n",
      "             ^^^^^^^^^^^^^^^^^^^^^^^^^^^^^^^^^^^\n",
      "  File \"C:\\Users\\jakin\\AppData\\Roaming\\Python\\Python312\\site-packages\\gradio\\route_utils.py\", line 233, in call_process_api\n",
      "    output = await app.get_blocks().process_api(\n",
      "             ^^^^^^^^^^^^^^^^^^^^^^^^^^^^^^^^^^^\n",
      "  File \"C:\\Users\\jakin\\AppData\\Roaming\\Python\\Python312\\site-packages\\gradio\\blocks.py\", line 1608, in process_api\n",
      "    result = await self.call_function(\n",
      "             ^^^^^^^^^^^^^^^^^^^^^^^^^\n",
      "  File \"C:\\Users\\jakin\\AppData\\Roaming\\Python\\Python312\\site-packages\\gradio\\blocks.py\", line 1176, in call_function\n",
      "    prediction = await anyio.to_thread.run_sync(\n",
      "                 ^^^^^^^^^^^^^^^^^^^^^^^^^^^^^^^\n",
      "  File \"C:\\Users\\jakin\\AppData\\Roaming\\Python\\Python312\\site-packages\\anyio\\to_thread.py\", line 56, in run_sync\n",
      "    return await get_async_backend().run_sync_in_worker_thread(\n",
      "           ^^^^^^^^^^^^^^^^^^^^^^^^^^^^^^^^^^^^^^^^^^^^^^^^^^^^\n",
      "  File \"C:\\Users\\jakin\\AppData\\Roaming\\Python\\Python312\\site-packages\\anyio\\_backends\\_asyncio.py\", line 2144, in run_sync_in_worker_thread\n",
      "    return await future\n",
      "           ^^^^^^^^^^^^\n",
      "  File \"C:\\Users\\jakin\\AppData\\Roaming\\Python\\Python312\\site-packages\\anyio\\_backends\\_asyncio.py\", line 851, in run\n",
      "    result = context.run(func, *args)\n",
      "             ^^^^^^^^^^^^^^^^^^^^^^^^\n",
      "  File \"C:\\Users\\jakin\\AppData\\Roaming\\Python\\Python312\\site-packages\\gradio\\utils.py\", line 689, in wrapper\n",
      "    response = f(*args, **kwargs)\n",
      "               ^^^^^^^^^^^^^^^^^^\n",
      "  File \"C:\\Users\\jakin\\AppData\\Local\\Temp\\ipykernel_17848\\3848912610.py\", line 23, in read_keys\n",
      "    listener.join()\n",
      "  File \"c:\\Users\\jakin\\AppData\\Local\\Programs\\Python\\Python312\\Lib\\site-packages\\pynput\\_util\\__init__.py\", line 276, in join\n",
      "    six.reraise(exc_type, exc_value, exc_traceback)\n",
      "  File \"C:\\Users\\jakin\\AppData\\Roaming\\Python\\Python312\\site-packages\\six.py\", line 718, in reraise\n",
      "    raise value.with_traceback(tb)\n",
      "  File \"c:\\Users\\jakin\\AppData\\Local\\Programs\\Python\\Python312\\Lib\\site-packages\\pynput\\_util\\__init__.py\", line 228, in inner\n",
      "    return f(self, *args, **kwargs)\n",
      "           ^^^^^^^^^^^^^^^^^^^^^^^^\n",
      "  File \"c:\\Users\\jakin\\AppData\\Local\\Programs\\Python\\Python312\\Lib\\site-packages\\pynput\\keyboard\\_win32.py\", line 290, in _process\n",
      "    self.on_release(key)\n",
      "  File \"c:\\Users\\jakin\\AppData\\Local\\Programs\\Python\\Python312\\Lib\\site-packages\\pynput\\_util\\__init__.py\", line 144, in inner\n",
      "    if f(*args) is False:\n",
      "       ^^^^^^^^\n",
      "  File \"C:\\Users\\jakin\\AppData\\Local\\Temp\\ipykernel_17848\\3848912610.py\", line 15, in on_release\n",
      "    key_list.append(key.char)\n",
      "                    ^^^^^^^^\n",
      "AttributeError: 'Key' object has no attribute 'char'\n"
     ]
    },
    {
     "name": "stdout",
     "output_type": "stream",
     "text": [
      "alphanumeric key g pressed\n",
      "'g' released\n",
      "['g']\n",
      "alphanumeric key o pressed\n",
      "'o' released\n",
      "['o']\n",
      "alphanumeric key p pressed\n",
      "'p' released\n",
      "['o', 'p']\n",
      "alphanumeric key e pressed\n",
      "'e' released\n",
      "['o', 'p', 'e']\n",
      "alphanumeric key n pressed\n",
      "'n' released\n",
      "['o', 'p', 'e', 'n']\n",
      "special key Key.space pressed\n"
     ]
    },
    {
     "name": "stderr",
     "output_type": "stream",
     "text": [
      "Unhandled exception in listener callback\n",
      "Traceback (most recent call last):\n",
      "  File \"c:\\Users\\jakin\\AppData\\Local\\Programs\\Python\\Python312\\Lib\\site-packages\\pynput\\_util\\__init__.py\", line 228, in inner\n",
      "    return f(self, *args, **kwargs)\n",
      "           ^^^^^^^^^^^^^^^^^^^^^^^^\n",
      "  File \"c:\\Users\\jakin\\AppData\\Local\\Programs\\Python\\Python312\\Lib\\site-packages\\pynput\\keyboard\\_win32.py\", line 290, in _process\n",
      "    self.on_release(key)\n",
      "  File \"c:\\Users\\jakin\\AppData\\Local\\Programs\\Python\\Python312\\Lib\\site-packages\\pynput\\_util\\__init__.py\", line 144, in inner\n",
      "    if f(*args) is False:\n",
      "       ^^^^^^^^\n",
      "  File \"C:\\Users\\jakin\\AppData\\Local\\Temp\\ipykernel_17848\\3848912610.py\", line 15, in on_release\n",
      "    key_list.append(key.char)\n",
      "                    ^^^^^^^^\n",
      "AttributeError: 'Key' object has no attribute 'char'\n"
     ]
    },
    {
     "name": "stdout",
     "output_type": "stream",
     "text": [
      "Key.space released\n"
     ]
    },
    {
     "name": "stderr",
     "output_type": "stream",
     "text": [
      "Traceback (most recent call last):\n",
      "  File \"C:\\Users\\jakin\\AppData\\Roaming\\Python\\Python312\\site-packages\\gradio\\queueing.py\", line 495, in call_prediction\n",
      "    output = await route_utils.call_process_api(\n",
      "             ^^^^^^^^^^^^^^^^^^^^^^^^^^^^^^^^^^^\n",
      "  File \"C:\\Users\\jakin\\AppData\\Roaming\\Python\\Python312\\site-packages\\gradio\\route_utils.py\", line 233, in call_process_api\n",
      "    output = await app.get_blocks().process_api(\n",
      "             ^^^^^^^^^^^^^^^^^^^^^^^^^^^^^^^^^^^\n",
      "  File \"C:\\Users\\jakin\\AppData\\Roaming\\Python\\Python312\\site-packages\\gradio\\blocks.py\", line 1608, in process_api\n",
      "    result = await self.call_function(\n",
      "             ^^^^^^^^^^^^^^^^^^^^^^^^^\n",
      "  File \"C:\\Users\\jakin\\AppData\\Roaming\\Python\\Python312\\site-packages\\gradio\\blocks.py\", line 1176, in call_function\n",
      "    prediction = await anyio.to_thread.run_sync(\n",
      "                 ^^^^^^^^^^^^^^^^^^^^^^^^^^^^^^^\n",
      "  File \"C:\\Users\\jakin\\AppData\\Roaming\\Python\\Python312\\site-packages\\anyio\\to_thread.py\", line 56, in run_sync\n",
      "    return await get_async_backend().run_sync_in_worker_thread(\n",
      "           ^^^^^^^^^^^^^^^^^^^^^^^^^^^^^^^^^^^^^^^^^^^^^^^^^^^^\n",
      "  File \"C:\\Users\\jakin\\AppData\\Roaming\\Python\\Python312\\site-packages\\anyio\\_backends\\_asyncio.py\", line 2144, in run_sync_in_worker_thread\n",
      "    return await future\n",
      "           ^^^^^^^^^^^^\n",
      "  File \"C:\\Users\\jakin\\AppData\\Roaming\\Python\\Python312\\site-packages\\anyio\\_backends\\_asyncio.py\", line 851, in run\n",
      "    result = context.run(func, *args)\n",
      "             ^^^^^^^^^^^^^^^^^^^^^^^^\n",
      "  File \"C:\\Users\\jakin\\AppData\\Roaming\\Python\\Python312\\site-packages\\gradio\\utils.py\", line 689, in wrapper\n",
      "    response = f(*args, **kwargs)\n",
      "               ^^^^^^^^^^^^^^^^^^\n",
      "  File \"C:\\Users\\jakin\\AppData\\Local\\Temp\\ipykernel_17848\\3848912610.py\", line 23, in read_keys\n",
      "    listener.join()\n",
      "  File \"c:\\Users\\jakin\\AppData\\Local\\Programs\\Python\\Python312\\Lib\\site-packages\\pynput\\_util\\__init__.py\", line 276, in join\n",
      "    six.reraise(exc_type, exc_value, exc_traceback)\n",
      "  File \"C:\\Users\\jakin\\AppData\\Roaming\\Python\\Python312\\site-packages\\six.py\", line 718, in reraise\n",
      "    raise value.with_traceback(tb)\n",
      "  File \"c:\\Users\\jakin\\AppData\\Local\\Programs\\Python\\Python312\\Lib\\site-packages\\pynput\\_util\\__init__.py\", line 228, in inner\n",
      "    return f(self, *args, **kwargs)\n",
      "           ^^^^^^^^^^^^^^^^^^^^^^^^\n",
      "  File \"c:\\Users\\jakin\\AppData\\Local\\Programs\\Python\\Python312\\Lib\\site-packages\\pynput\\keyboard\\_win32.py\", line 290, in _process\n",
      "    self.on_release(key)\n",
      "  File \"c:\\Users\\jakin\\AppData\\Local\\Programs\\Python\\Python312\\Lib\\site-packages\\pynput\\_util\\__init__.py\", line 144, in inner\n",
      "    if f(*args) is False:\n",
      "       ^^^^^^^^\n",
      "  File \"C:\\Users\\jakin\\AppData\\Local\\Temp\\ipykernel_17848\\3848912610.py\", line 15, in on_release\n",
      "    key_list.append(key.char)\n",
      "                    ^^^^^^^^\n",
      "AttributeError: 'Key' object has no attribute 'char'\n"
     ]
    },
    {
     "name": "stdout",
     "output_type": "stream",
     "text": [
      "alphanumeric key q pressed\n",
      "'q' released\n",
      "['o', 'p', 'e', 'n', 'q']\n",
      "alphanumeric key e pressed\n",
      "'e' released\n",
      "['o', 'p', 'e', 'n', 'q', 'e']\n"
     ]
    },
    {
     "name": "stderr",
     "output_type": "stream",
     "text": [
      "Unhandled exception in listener callback\n",
      "Traceback (most recent call last):\n",
      "  File \"c:\\Users\\jakin\\AppData\\Local\\Programs\\Python\\Python312\\Lib\\site-packages\\pynput\\_util\\__init__.py\", line 228, in inner\n",
      "    return f(self, *args, **kwargs)\n",
      "           ^^^^^^^^^^^^^^^^^^^^^^^^\n",
      "  File \"c:\\Users\\jakin\\AppData\\Local\\Programs\\Python\\Python312\\Lib\\site-packages\\pynput\\keyboard\\_win32.py\", line 290, in _process\n",
      "    self.on_release(key)\n",
      "  File \"c:\\Users\\jakin\\AppData\\Local\\Programs\\Python\\Python312\\Lib\\site-packages\\pynput\\_util\\__init__.py\", line 144, in inner\n",
      "    if f(*args) is False:\n",
      "       ^^^^^^^^\n",
      "  File \"C:\\Users\\jakin\\AppData\\Local\\Temp\\ipykernel_17848\\3848912610.py\", line 15, in on_release\n",
      "    key_list.append(key.char)\n",
      "                    ^^^^^^^^\n",
      "AttributeError: 'Key' object has no attribute 'char'\n"
     ]
    },
    {
     "name": "stdout",
     "output_type": "stream",
     "text": [
      "special key Key.esc pressed\n",
      "Key.esc released\n"
     ]
    },
    {
     "name": "stderr",
     "output_type": "stream",
     "text": [
      "Traceback (most recent call last):\n",
      "  File \"C:\\Users\\jakin\\AppData\\Roaming\\Python\\Python312\\site-packages\\gradio\\queueing.py\", line 495, in call_prediction\n",
      "    output = await route_utils.call_process_api(\n",
      "             ^^^^^^^^^^^^^^^^^^^^^^^^^^^^^^^^^^^\n",
      "  File \"C:\\Users\\jakin\\AppData\\Roaming\\Python\\Python312\\site-packages\\gradio\\route_utils.py\", line 233, in call_process_api\n",
      "    output = await app.get_blocks().process_api(\n",
      "             ^^^^^^^^^^^^^^^^^^^^^^^^^^^^^^^^^^^\n",
      "  File \"C:\\Users\\jakin\\AppData\\Roaming\\Python\\Python312\\site-packages\\gradio\\blocks.py\", line 1608, in process_api\n",
      "    result = await self.call_function(\n",
      "             ^^^^^^^^^^^^^^^^^^^^^^^^^\n",
      "  File \"C:\\Users\\jakin\\AppData\\Roaming\\Python\\Python312\\site-packages\\gradio\\blocks.py\", line 1176, in call_function\n",
      "    prediction = await anyio.to_thread.run_sync(\n",
      "                 ^^^^^^^^^^^^^^^^^^^^^^^^^^^^^^^\n",
      "  File \"C:\\Users\\jakin\\AppData\\Roaming\\Python\\Python312\\site-packages\\anyio\\to_thread.py\", line 56, in run_sync\n",
      "    return await get_async_backend().run_sync_in_worker_thread(\n",
      "           ^^^^^^^^^^^^^^^^^^^^^^^^^^^^^^^^^^^^^^^^^^^^^^^^^^^^\n",
      "  File \"C:\\Users\\jakin\\AppData\\Roaming\\Python\\Python312\\site-packages\\anyio\\_backends\\_asyncio.py\", line 2144, in run_sync_in_worker_thread\n",
      "    return await future\n",
      "           ^^^^^^^^^^^^\n",
      "  File \"C:\\Users\\jakin\\AppData\\Roaming\\Python\\Python312\\site-packages\\anyio\\_backends\\_asyncio.py\", line 851, in run\n",
      "    result = context.run(func, *args)\n",
      "             ^^^^^^^^^^^^^^^^^^^^^^^^\n",
      "  File \"C:\\Users\\jakin\\AppData\\Roaming\\Python\\Python312\\site-packages\\gradio\\utils.py\", line 689, in wrapper\n",
      "    response = f(*args, **kwargs)\n",
      "               ^^^^^^^^^^^^^^^^^^\n",
      "  File \"C:\\Users\\jakin\\AppData\\Local\\Temp\\ipykernel_17848\\3848912610.py\", line 23, in read_keys\n",
      "    listener.join()\n",
      "  File \"c:\\Users\\jakin\\AppData\\Local\\Programs\\Python\\Python312\\Lib\\site-packages\\pynput\\_util\\__init__.py\", line 276, in join\n",
      "    six.reraise(exc_type, exc_value, exc_traceback)\n",
      "  File \"C:\\Users\\jakin\\AppData\\Roaming\\Python\\Python312\\site-packages\\six.py\", line 718, in reraise\n",
      "    raise value.with_traceback(tb)\n",
      "  File \"c:\\Users\\jakin\\AppData\\Local\\Programs\\Python\\Python312\\Lib\\site-packages\\pynput\\_util\\__init__.py\", line 228, in inner\n",
      "    return f(self, *args, **kwargs)\n",
      "           ^^^^^^^^^^^^^^^^^^^^^^^^\n",
      "  File \"c:\\Users\\jakin\\AppData\\Local\\Programs\\Python\\Python312\\Lib\\site-packages\\pynput\\keyboard\\_win32.py\", line 290, in _process\n",
      "    self.on_release(key)\n",
      "  File \"c:\\Users\\jakin\\AppData\\Local\\Programs\\Python\\Python312\\Lib\\site-packages\\pynput\\_util\\__init__.py\", line 144, in inner\n",
      "    if f(*args) is False:\n",
      "       ^^^^^^^^\n",
      "  File \"C:\\Users\\jakin\\AppData\\Local\\Temp\\ipykernel_17848\\3848912610.py\", line 15, in on_release\n",
      "    key_list.append(key.char)\n",
      "                    ^^^^^^^^\n",
      "AttributeError: 'Key' object has no attribute 'char'\n"
     ]
    },
    {
     "name": "stdout",
     "output_type": "stream",
     "text": [
      "alphanumeric key w pressed\n",
      "'w' released\n",
      "['w']\n",
      "alphanumeric key a pressed\n",
      "'a' released\n",
      "['w', 'a']\n",
      "alphanumeric key s pressed\n",
      "'s' released\n",
      "['w', 'a', 's']\n"
     ]
    },
    {
     "name": "stderr",
     "output_type": "stream",
     "text": [
      "Unhandled exception in listener callback\n",
      "Traceback (most recent call last):\n",
      "  File \"c:\\Users\\jakin\\AppData\\Local\\Programs\\Python\\Python312\\Lib\\site-packages\\pynput\\_util\\__init__.py\", line 228, in inner\n",
      "    return f(self, *args, **kwargs)\n",
      "           ^^^^^^^^^^^^^^^^^^^^^^^^\n",
      "  File \"c:\\Users\\jakin\\AppData\\Local\\Programs\\Python\\Python312\\Lib\\site-packages\\pynput\\keyboard\\_win32.py\", line 290, in _process\n",
      "    self.on_release(key)\n",
      "  File \"c:\\Users\\jakin\\AppData\\Local\\Programs\\Python\\Python312\\Lib\\site-packages\\pynput\\_util\\__init__.py\", line 144, in inner\n",
      "    if f(*args) is False:\n",
      "       ^^^^^^^^\n",
      "  File \"C:\\Users\\jakin\\AppData\\Local\\Temp\\ipykernel_17848\\3848912610.py\", line 15, in on_release\n",
      "    key_list.append(key.char)\n",
      "                    ^^^^^^^^\n",
      "AttributeError: 'Key' object has no attribute 'char'\n"
     ]
    },
    {
     "name": "stdout",
     "output_type": "stream",
     "text": [
      "special key Key.esc pressed\n",
      "Key.esc released\n"
     ]
    },
    {
     "name": "stderr",
     "output_type": "stream",
     "text": [
      "Traceback (most recent call last):\n",
      "  File \"C:\\Users\\jakin\\AppData\\Roaming\\Python\\Python312\\site-packages\\gradio\\queueing.py\", line 495, in call_prediction\n",
      "    output = await route_utils.call_process_api(\n",
      "             ^^^^^^^^^^^^^^^^^^^^^^^^^^^^^^^^^^^\n",
      "  File \"C:\\Users\\jakin\\AppData\\Roaming\\Python\\Python312\\site-packages\\gradio\\route_utils.py\", line 233, in call_process_api\n",
      "    output = await app.get_blocks().process_api(\n",
      "             ^^^^^^^^^^^^^^^^^^^^^^^^^^^^^^^^^^^\n",
      "  File \"C:\\Users\\jakin\\AppData\\Roaming\\Python\\Python312\\site-packages\\gradio\\blocks.py\", line 1608, in process_api\n",
      "    result = await self.call_function(\n",
      "             ^^^^^^^^^^^^^^^^^^^^^^^^^\n",
      "  File \"C:\\Users\\jakin\\AppData\\Roaming\\Python\\Python312\\site-packages\\gradio\\blocks.py\", line 1176, in call_function\n",
      "    prediction = await anyio.to_thread.run_sync(\n",
      "                 ^^^^^^^^^^^^^^^^^^^^^^^^^^^^^^^\n",
      "  File \"C:\\Users\\jakin\\AppData\\Roaming\\Python\\Python312\\site-packages\\anyio\\to_thread.py\", line 56, in run_sync\n",
      "    return await get_async_backend().run_sync_in_worker_thread(\n",
      "           ^^^^^^^^^^^^^^^^^^^^^^^^^^^^^^^^^^^^^^^^^^^^^^^^^^^^\n",
      "  File \"C:\\Users\\jakin\\AppData\\Roaming\\Python\\Python312\\site-packages\\anyio\\_backends\\_asyncio.py\", line 2144, in run_sync_in_worker_thread\n",
      "    return await future\n",
      "           ^^^^^^^^^^^^\n",
      "  File \"C:\\Users\\jakin\\AppData\\Roaming\\Python\\Python312\\site-packages\\anyio\\_backends\\_asyncio.py\", line 851, in run\n",
      "    result = context.run(func, *args)\n",
      "             ^^^^^^^^^^^^^^^^^^^^^^^^\n",
      "  File \"C:\\Users\\jakin\\AppData\\Roaming\\Python\\Python312\\site-packages\\gradio\\utils.py\", line 689, in wrapper\n",
      "    response = f(*args, **kwargs)\n",
      "               ^^^^^^^^^^^^^^^^^^\n",
      "  File \"C:\\Users\\jakin\\AppData\\Local\\Temp\\ipykernel_17848\\3848912610.py\", line 23, in read_keys\n",
      "    listener.join()\n",
      "  File \"c:\\Users\\jakin\\AppData\\Local\\Programs\\Python\\Python312\\Lib\\site-packages\\pynput\\_util\\__init__.py\", line 276, in join\n",
      "    six.reraise(exc_type, exc_value, exc_traceback)\n",
      "  File \"C:\\Users\\jakin\\AppData\\Roaming\\Python\\Python312\\site-packages\\six.py\", line 718, in reraise\n",
      "    raise value.with_traceback(tb)\n",
      "  File \"c:\\Users\\jakin\\AppData\\Local\\Programs\\Python\\Python312\\Lib\\site-packages\\pynput\\_util\\__init__.py\", line 228, in inner\n",
      "    return f(self, *args, **kwargs)\n",
      "           ^^^^^^^^^^^^^^^^^^^^^^^^\n",
      "  File \"c:\\Users\\jakin\\AppData\\Local\\Programs\\Python\\Python312\\Lib\\site-packages\\pynput\\keyboard\\_win32.py\", line 290, in _process\n",
      "    self.on_release(key)\n",
      "  File \"c:\\Users\\jakin\\AppData\\Local\\Programs\\Python\\Python312\\Lib\\site-packages\\pynput\\_util\\__init__.py\", line 144, in inner\n",
      "    if f(*args) is False:\n",
      "       ^^^^^^^^\n",
      "  File \"C:\\Users\\jakin\\AppData\\Local\\Temp\\ipykernel_17848\\3848912610.py\", line 15, in on_release\n",
      "    key_list.append(key.char)\n",
      "                    ^^^^^^^^\n",
      "AttributeError: 'Key' object has no attribute 'char'\n"
     ]
    }
   ],
   "source": [
    "settings_page.launch()"
   ]
  }
 ],
 "metadata": {
  "kernelspec": {
   "display_name": "Python 3",
   "language": "python",
   "name": "python3"
  },
  "language_info": {
   "codemirror_mode": {
    "name": "ipython",
    "version": 3
   },
   "file_extension": ".py",
   "mimetype": "text/x-python",
   "name": "python",
   "nbconvert_exporter": "python",
   "pygments_lexer": "ipython3",
   "version": "3.12.2"
  }
 },
 "nbformat": 4,
 "nbformat_minor": 2
}
