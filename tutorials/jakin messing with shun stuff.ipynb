{
 "cells": [
  {
   "cell_type": "code",
   "execution_count": 13,
   "metadata": {},
   "outputs": [],
   "source": [
    "import gradio as gr\n",
    "import ast\n",
    "from pynput import keyboard\n",
    "import time"
   ]
  },
  {
   "cell_type": "code",
   "execution_count": 14,
   "metadata": {},
   "outputs": [],
   "source": [
    "def update_macros(action, keys, macro_to_delete, current_macros):\n",
    "    # Check if current_macros is a string representation of a dictionary, and convert it if so\n",
    "    if isinstance(current_macros, str) and current_macros.strip():\n",
    "        # Safely convert the string representation back to a dictionary\n",
    "        current_macros = ast.literal_eval(current_macros)\n",
    "    else:\n",
    "        # Initialize as an empty dictionary if not a valid string representation\n",
    "        current_macros = {}\n",
    "    \n",
    "    # Check if a user entered a macro to delete\n",
    "    if macro_to_delete and macro_to_delete in current_macros:\n",
    "        del current_macros[macro_to_delete]  \n",
    "    elif action and keys:  # Ensure non-empty input\n",
    "        # Update or add the macro definition\n",
    "        newlist = key_name.copy()\n",
    "        newkey = '  +  '.join(newlist)\n",
    "        current_macros[action] = {'keys': newkey}\n",
    "    # Format the macros for display in a readable format\n",
    "    macros_text = \"\"\n",
    "    for act, vals in current_macros.items():\n",
    "        macros_text += f\"{act}  =>  {vals['keys']}\\n\"\n",
    "\n",
    "    clear_list()\n",
    "\n",
    "    # Return both the formatted string for display and the updated macros dictionary, Clear the display for action_input, keys_input, and macro_to_delte\n",
    "    return macros_text, str(current_macros), \"\", \"\", \"Keys to Simulate\""
   ]
  },
  {
   "cell_type": "code",
   "execution_count": 15,
   "metadata": {},
   "outputs": [],
   "source": [
    "key_list = []\n",
    "key_name = []\n",
    "\n",
    "key_delays = []  # Store delays directly\n",
    "last_release_time = None  # Track the last key release time\n",
    "\n",
    "def read_keys():\n",
    "    global last_release_time\n",
    "    def on_press(key):\n",
    "        global last_release_time\n",
    "        \n",
    "        try:\n",
    "            print('alphanumeric key {0} pressed'.format(key.char))\n",
    "            if key == keyboard.Key.esc:\n",
    "                last_release_time = None\n",
    "                return False\n",
    "            current_time = time.time()\n",
    "            if last_release_time is not None:\n",
    "                delay = current_time - last_release_time\n",
    "                key_delays.append(delay)\n",
    "        except AttributeError:\n",
    "            current_time = time.time()\n",
    "            if last_release_time is not None:\n",
    "                delay = current_time - last_release_time\n",
    "                key_delays.append(delay)\n",
    "            print('special key {0} pressed'.format(key))\n",
    "        \n",
    "    def on_release(key):\n",
    "        global last_release_time\n",
    "        try:\n",
    "            last_release_time = time.time()\n",
    "            key_list.append(key.char)\n",
    "            key_name.append(key.char)\n",
    "        except AttributeError:\n",
    "            if key == keyboard.Key.esc:\n",
    "                last_release_time = None\n",
    "                return False\n",
    "            last_release_time = time.time()\n",
    "            key_str = getattr(key, 'name', str(key))\n",
    "            key_list.append(key.value)\n",
    "            key_name.append(key_str)\n",
    "        print(key_list)\n",
    "        print(key_delays)\n",
    "    with keyboard.Listener(\n",
    "        on_press=on_press,\n",
    "        on_release=on_release) as listener:\n",
    "        listener.join()\n",
    "\n",
    "    return \"Ended Recording\"\n",
    "\n",
    "def clear_list():\n",
    "    key_list.clear()\n",
    "    key_name.clear()\n",
    "    key_delays.clear()\n"
   ]
  },
  {
   "cell_type": "code",
   "execution_count": 16,
   "metadata": {},
   "outputs": [],
   "source": [
    "def update_key_btn():\n",
    "    return \"Now Recording Press The 'esc' Key To Stop\""
   ]
  },
  {
   "cell_type": "code",
   "execution_count": 17,
   "metadata": {},
   "outputs": [],
   "source": [
    "with gr.Blocks() as settings_page:\n",
    "    gr.Markdown(\"# Macro Setting\")\n",
    "    gr.Markdown(\"\"\"\n",
    "    Configure your audio command macros here. Enter a speech command, enter your key sequence, and set the timing.\n",
    "    \"\"\")\n",
    "\n",
    "    with gr.Row():\n",
    "        # Create a textbox for the speech command\n",
    "        action_input = gr.Textbox(label=\"Speech Command\") \n",
    "        # Create a textbox for the key\n",
    "        keys_input = gr.Button(\"Keys to Simulate\")\n",
    "\n",
    "    # Gets the macro the user wants to delete\n",
    "    macro_to_delete = gr.Textbox(label=\"Type the Speech Command to Delete\")\n",
    "    # Creates a button to update or add the new settings\n",
    "    update_btn = gr.Button(\"Update/Add Macro\") \n",
    "    \n",
    "    # Display for the current macros\n",
    "    current_macros_display = gr.Textbox(label=\"Current Macros\", value=\"\", lines=10, interactive=False) \n",
    "    macros_state = gr.State('{}')\n",
    "    # Runs when the button is clicked updating the current macros display\n",
    "    keys_input.click(update_key_btn, outputs=keys_input)\n",
    "    keys_input.click(read_keys, outputs=keys_input)\n",
    "    update_btn.click(update_macros, \n",
    "                     inputs=[action_input, keys_input,macro_to_delete, macros_state], \n",
    "                     outputs=[current_macros_display, macros_state, action_input, macro_to_delete, keys_input])\n"
   ]
  },
  {
   "cell_type": "code",
   "execution_count": 18,
   "metadata": {},
   "outputs": [
    {
     "name": "stdout",
     "output_type": "stream",
     "text": [
      "Running on local URL:  http://127.0.0.1:7862\n",
      "\n",
      "To create a public link, set `share=True` in `launch()`.\n"
     ]
    },
    {
     "data": {
      "text/html": [
       "<div><iframe src=\"http://127.0.0.1:7862/\" width=\"100%\" height=\"500\" allow=\"autoplay; camera; microphone; clipboard-read; clipboard-write;\" frameborder=\"0\" allowfullscreen></iframe></div>"
      ],
      "text/plain": [
       "<IPython.core.display.HTML object>"
      ]
     },
     "metadata": {},
     "output_type": "display_data"
    },
    {
     "data": {
      "text/plain": []
     },
     "execution_count": 18,
     "metadata": {},
     "output_type": "execute_result"
    },
    {
     "name": "stdout",
     "output_type": "stream",
     "text": [
      "special key Key.ctrl_l pressed\n",
      "alphanumeric key \u0003 pressed\n",
      "['\\x03']\n",
      "[]\n",
      "['\\x03', <162>]\n",
      "[]\n",
      "special key Key.esc pressed\n",
      "special key Key.ctrl_l pressed\n",
      "alphanumeric key \u0016 pressed\n",
      "['\\x16']\n",
      "[]\n",
      "['\\x16', <162>]\n",
      "[]\n",
      "special key Key.esc pressed\n",
      "alphanumeric key a pressed\n",
      "['a']\n",
      "[]\n",
      "alphanumeric key s pressed\n",
      "['a', 's']\n",
      "[0.3791079521179199]\n",
      "alphanumeric key f pressed\n",
      "['a', 's', 'f']\n",
      "[0.3791079521179199, 1.227834701538086]\n",
      "special key Key.esc pressed\n"
     ]
    }
   ],
   "source": [
    "settings_page.launch()"
   ]
  }
 ],
 "metadata": {
  "kernelspec": {
   "display_name": "Python 3",
   "language": "python",
   "name": "python3"
  },
  "language_info": {
   "codemirror_mode": {
    "name": "ipython",
    "version": 3
   },
   "file_extension": ".py",
   "mimetype": "text/x-python",
   "name": "python",
   "nbconvert_exporter": "python",
   "pygments_lexer": "ipython3",
   "version": "3.11.7"
  }
 },
 "nbformat": 4,
 "nbformat_minor": 2
}
