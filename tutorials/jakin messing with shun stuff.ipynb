{
 "cells": [
  {
   "cell_type": "code",
   "execution_count": 7,
   "metadata": {},
   "outputs": [],
   "source": [
    "import gradio as gr\n",
    "import ast\n",
    "from pynput import keyboard\n",
    "import time\n",
    "import json\n",
    "from pynput.keyboard import Key, Controller"
   ]
  },
  {
   "cell_type": "code",
   "execution_count": 2,
   "metadata": {},
   "outputs": [],
   "source": [
    "def update_macros(action, keys, macro_to_delete, current_macros):\n",
    "    # Check if current_macros is a string representation of a dictionary, and convert it if so\n",
    "    if isinstance(current_macros, str) and current_macros.strip():\n",
    "        # Safely convert the string representation back to a dictionary\n",
    "        current_macros = ast.literal_eval(current_macros)\n",
    "    else:\n",
    "        # Initialize as an empty dictionary if not a valid string representation\n",
    "        current_macros = {}\n",
    "    \n",
    "    # Check if a user entered a macro to delete\n",
    "    if macro_to_delete and macro_to_delete in current_macros:\n",
    "        del current_macros[macro_to_delete]  \n",
    "    elif action and keys:  # Ensure non-empty input\n",
    "        # Update or add the macro definition\n",
    "        newlist = key_name.copy()\n",
    "        newkey = '  +  '.join(newlist)\n",
    "        current_macros[action] = {'keys': newkey}\n",
    "    # Format the macros for display in a readable format\n",
    "    macros_text = \"\"\n",
    "    for act, vals in current_macros.items():\n",
    "        macros_text += f\"{act}  =>  {vals['keys']}\\n\"\n",
    "\n",
    "    clear_list()\n",
    "\n",
    "    # Return both the formatted string for display and the updated macros dictionary, Clear the display for action_input, keys_input, and macro_to_delte\n",
    "    return macros_text, str(current_macros), \"\", \"\", \"Keys to Simulate\""
   ]
  },
  {
   "cell_type": "code",
   "execution_count": 8,
   "metadata": {},
   "outputs": [
    {
     "ename": "FileNotFoundError",
     "evalue": "[Errno 2] No such file or directory: 'macros.json'",
     "output_type": "error",
     "traceback": [
      "\u001b[1;31m---------------------------------------------------------------------------\u001b[0m",
      "\u001b[1;31mFileNotFoundError\u001b[0m                         Traceback (most recent call last)",
      "Cell \u001b[1;32mIn[8], line 1\u001b[0m\n\u001b[1;32m----> 1\u001b[0m f \u001b[38;5;241m=\u001b[39m \u001b[38;5;28;43mopen\u001b[39;49m\u001b[43m(\u001b[49m\u001b[38;5;124;43m'\u001b[39;49m\u001b[38;5;124;43mmacros.json\u001b[39;49m\u001b[38;5;124;43m'\u001b[39;49m\u001b[43m)\u001b[49m\n\u001b[0;32m      3\u001b[0m data \u001b[38;5;241m=\u001b[39m json\u001b[38;5;241m.\u001b[39mload(f)\n\u001b[0;32m      5\u001b[0m \u001b[38;5;28;01mfor\u001b[39;00m sound \u001b[38;5;129;01min\u001b[39;00m data[\u001b[38;5;124m'\u001b[39m\u001b[38;5;124mmacros\u001b[39m\u001b[38;5;124m'\u001b[39m]:\n",
      "File \u001b[1;32m~\\AppData\\Roaming\\Python\\Python312\\site-packages\\IPython\\core\\interactiveshell.py:324\u001b[0m, in \u001b[0;36m_modified_open\u001b[1;34m(file, *args, **kwargs)\u001b[0m\n\u001b[0;32m    317\u001b[0m \u001b[38;5;28;01mif\u001b[39;00m file \u001b[38;5;129;01min\u001b[39;00m {\u001b[38;5;241m0\u001b[39m, \u001b[38;5;241m1\u001b[39m, \u001b[38;5;241m2\u001b[39m}:\n\u001b[0;32m    318\u001b[0m     \u001b[38;5;28;01mraise\u001b[39;00m \u001b[38;5;167;01mValueError\u001b[39;00m(\n\u001b[0;32m    319\u001b[0m         \u001b[38;5;124mf\u001b[39m\u001b[38;5;124m\"\u001b[39m\u001b[38;5;124mIPython won\u001b[39m\u001b[38;5;124m'\u001b[39m\u001b[38;5;124mt let you open fd=\u001b[39m\u001b[38;5;132;01m{\u001b[39;00mfile\u001b[38;5;132;01m}\u001b[39;00m\u001b[38;5;124m by default \u001b[39m\u001b[38;5;124m\"\u001b[39m\n\u001b[0;32m    320\u001b[0m         \u001b[38;5;124m\"\u001b[39m\u001b[38;5;124mas it is likely to crash IPython. If you know what you are doing, \u001b[39m\u001b[38;5;124m\"\u001b[39m\n\u001b[0;32m    321\u001b[0m         \u001b[38;5;124m\"\u001b[39m\u001b[38;5;124myou can use builtins\u001b[39m\u001b[38;5;124m'\u001b[39m\u001b[38;5;124m open.\u001b[39m\u001b[38;5;124m\"\u001b[39m\n\u001b[0;32m    322\u001b[0m     )\n\u001b[1;32m--> 324\u001b[0m \u001b[38;5;28;01mreturn\u001b[39;00m \u001b[43mio_open\u001b[49m\u001b[43m(\u001b[49m\u001b[43mfile\u001b[49m\u001b[43m,\u001b[49m\u001b[43m \u001b[49m\u001b[38;5;241;43m*\u001b[39;49m\u001b[43margs\u001b[49m\u001b[43m,\u001b[49m\u001b[43m \u001b[49m\u001b[38;5;241;43m*\u001b[39;49m\u001b[38;5;241;43m*\u001b[39;49m\u001b[43mkwargs\u001b[49m\u001b[43m)\u001b[49m\n",
      "\u001b[1;31mFileNotFoundError\u001b[0m: [Errno 2] No such file or directory: 'macros.json'"
     ]
    }
   ],
   "source": [
    "with open('macros.json', 'r') as file:\n",
    "    data = json.load(file)\n",
    "\n",
    "macros = data[\"macros\"]\n",
    "\n",
    "keyboard = Controller()\n",
    "\n",
    "macro_functions = []\n",
    "for macro in macros:\n",
    "    keycodes = macro[\"keycodes\"]\n",
    "    delay = macro[\"delay\"]\n",
    "\n",
    "    macro_function = lambda keycodes=keycodes, delay=delay: [\n",
    "        (keyboard.press(Key.enter) if keycode == Key.enter else \n",
    "         keyboard.press(Key.space) if keycode == Key.space else \n",
    "         keyboard.press(chr(keycode))) for keycode in keycodes\n",
    "    ] + [\n",
    "        (keyboard.release(Key.enter) if keycode == Key.enter else \n",
    "         keyboard.release(Key.space) if keycode == Key.space else \n",
    "         keyboard.release(chr(keycode))) for keycode in keycodes\n",
    "    ] + [\n",
    "        time.sleep(delay)\n",
    "    ]\n",
    "\n",
    "    macro_functions.append(macro_function)\n"
   ]
  },
  {
   "cell_type": "code",
   "execution_count": 3,
   "metadata": {},
   "outputs": [],
   "source": [
    "key_list = []\n",
    "key_name = []\n",
    "\n",
    "key_delays = []  # Store delays directly\n",
    "last_release_time = None  # Track the last key release time\n",
    "\n",
    "def read_keys():\n",
    "    global last_release_time\n",
    "    def on_press(key):\n",
    "        global last_release_time\n",
    "        \n",
    "        try:\n",
    "            print('alphanumeric key {0} pressed'.format(key.char))\n",
    "            if key == keyboard.Key.esc:\n",
    "                last_release_time = None\n",
    "                return False\n",
    "            current_time = time.time()\n",
    "            if last_release_time is not None:\n",
    "                delay = current_time - last_release_time\n",
    "                key_delays.append(delay)\n",
    "        except AttributeError:\n",
    "            current_time = time.time()\n",
    "            if last_release_time is not None:\n",
    "                delay = current_time - last_release_time\n",
    "                key_delays.append(delay)\n",
    "            print('special key {0} pressed'.format(key))\n",
    "        \n",
    "    def on_release(key):\n",
    "        global last_release_time\n",
    "        try:\n",
    "            last_release_time = time.time()\n",
    "            key_list.append(key.char)\n",
    "            key_name.append(key.char)\n",
    "        except AttributeError:\n",
    "            if key == keyboard.Key.esc:\n",
    "                last_release_time = None\n",
    "                return False\n",
    "            last_release_time = time.time()\n",
    "            key_str = getattr(key, 'name', str(key))\n",
    "            key_list.append(key.value)\n",
    "            key_name.append(key_str)\n",
    "        print(key_list)\n",
    "        print(key_delays)\n",
    "    with keyboard.Listener(\n",
    "        on_press=on_press,\n",
    "        on_release=on_release) as listener:\n",
    "        listener.join()\n",
    "\n",
    "    return \"Ended Recording\"\n",
    "\n",
    "def clear_list():\n",
    "    key_list.clear()\n",
    "    key_name.clear()\n",
    "    key_delays.clear()\n"
   ]
  },
  {
   "cell_type": "code",
   "execution_count": 4,
   "metadata": {},
   "outputs": [],
   "source": [
    "def update_key_btn():\n",
    "    return \"Now Recording Press The 'esc' Key To Stop\""
   ]
  },
  {
   "cell_type": "code",
   "execution_count": 5,
   "metadata": {},
   "outputs": [],
   "source": [
    "with gr.Blocks() as settings_page:\n",
    "    gr.Markdown(\"# Macro Setting\")\n",
    "    gr.Markdown(\"\"\"\n",
    "    Configure your audio command macros here. Enter a speech command, enter your key sequence, and set the timing.\n",
    "    \"\"\")\n",
    "\n",
    "    with gr.Row():\n",
    "        # Create a textbox for the speech command\n",
    "        action_input = gr.Textbox(label=\"Speech Command\") \n",
    "        # Create a textbox for the key\n",
    "        keys_input = gr.Button(\"Keys to Simulate\")\n",
    "\n",
    "    # Gets the macro the user wants to delete\n",
    "    macro_to_delete = gr.Textbox(label=\"Type the Speech Command to Delete\")\n",
    "    # Creates a button to update or add the new settings\n",
    "    update_btn = gr.Button(\"Update/Add Macro\") \n",
    "    \n",
    "    # Display for the current macros\n",
    "    current_macros_display = gr.Textbox(label=\"Current Macros\", value=\"\", lines=10, interactive=False) \n",
    "    macros_state = gr.State('{}')\n",
    "    # Runs when the button is clicked updating the current macros display\n",
    "    keys_input.click(update_key_btn, outputs=keys_input)\n",
    "    keys_input.click(read_keys, outputs=keys_input)\n",
    "    update_btn.click(update_macros, \n",
    "                     inputs=[action_input, keys_input,macro_to_delete, macros_state], \n",
    "                     outputs=[current_macros_display, macros_state, action_input, macro_to_delete, keys_input])\n"
   ]
  },
  {
   "cell_type": "code",
   "execution_count": 6,
   "metadata": {},
   "outputs": [
    {
     "name": "stdout",
     "output_type": "stream",
     "text": [
      "Running on local URL:  http://127.0.0.1:7860\n",
      "\n",
      "To create a public link, set `share=True` in `launch()`.\n"
     ]
    },
    {
     "data": {
      "text/html": [
       "<div><iframe src=\"http://127.0.0.1:7860/\" width=\"100%\" height=\"500\" allow=\"autoplay; camera; microphone; clipboard-read; clipboard-write;\" frameborder=\"0\" allowfullscreen></iframe></div>"
      ],
      "text/plain": [
       "<IPython.core.display.HTML object>"
      ]
     },
     "metadata": {},
     "output_type": "display_data"
    },
    {
     "data": {
      "text/plain": []
     },
     "execution_count": 6,
     "metadata": {},
     "output_type": "execute_result"
    },
    {
     "name": "stdout",
     "output_type": "stream",
     "text": [
      "alphanumeric key r pressed\n",
      "['r']\n",
      "[]\n",
      "alphanumeric key e pressed\n",
      "['r', 'e']\n",
      "[1.7064530849456787]\n",
      "alphanumeric key e pressed\n",
      "['r', 'e', 'e']\n",
      "[1.7064530849456787, 2.8210887908935547]\n",
      "special key Key.esc pressed\n"
     ]
    }
   ],
   "source": [
    "settings_page.launch()"
   ]
  }
 ],
 "metadata": {
  "kernelspec": {
   "display_name": "Python 3",
   "language": "python",
   "name": "python3"
  },
  "language_info": {
   "codemirror_mode": {
    "name": "ipython",
    "version": 3
   },
   "file_extension": ".py",
   "mimetype": "text/x-python",
   "name": "python",
   "nbconvert_exporter": "python",
   "pygments_lexer": "ipython3",
   "version": "3.12.2"
  }
 },
 "nbformat": 4,
 "nbformat_minor": 2
}
