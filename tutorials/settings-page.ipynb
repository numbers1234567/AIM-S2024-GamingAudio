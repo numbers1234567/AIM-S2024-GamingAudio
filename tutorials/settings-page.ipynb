{
 "cells": [
  {
   "cell_type": "code",
   "execution_count": 1,
   "metadata": {},
   "outputs": [
    {
     "name": "stderr",
     "output_type": "stream",
     "text": [
      "c:\\Users\\shunc\\anaconda3\\envs\\aim\\Lib\\site-packages\\tqdm\\auto.py:21: TqdmWarning: IProgress not found. Please update jupyter and ipywidgets. See https://ipywidgets.readthedocs.io/en/stable/user_install.html\n",
      "  from .autonotebook import tqdm as notebook_tqdm\n"
     ]
    }
   ],
   "source": [
    "import gradio as gr\n",
    "import ast"
   ]
  },
  {
   "cell_type": "code",
   "execution_count": 2,
   "metadata": {},
   "outputs": [],
   "source": [
    "def update_macros(action, keys, macro_to_delete, current_macros):\n",
    "    # Check if current_macros is a string representation of a dictionary, and convert it if so\n",
    "    if isinstance(current_macros, str) and current_macros.strip():\n",
    "        # Safely convert the string representation back to a dictionary\n",
    "        current_macros = ast.literal_eval(current_macros)\n",
    "    else:\n",
    "        # Initialize as an empty dictionary if not a valid string representation\n",
    "        current_macros = {}\n",
    "    \n",
    "    # Check if a user entered a macro to delete\n",
    "    if macro_to_delete and macro_to_delete in current_macros:\n",
    "        del current_macros[macro_to_delete]  \n",
    "    elif action and keys:  # Ensure non-empty input\n",
    "        # Update or add the macro definition\n",
    "        current_macros[action] = {'keys': keys}\n",
    "\n",
    "    # Format the macros for display in a readable format\n",
    "    macros_text = \"\"\n",
    "    for act, vals in current_macros.items():\n",
    "        macros_text += f\"[{act}]  ->  [{vals['keys']}]\\n\"\n",
    "\n",
    "\n",
    "    # Return both the formatted string for display and the updated macros dictionary, Clear the display for action_input, keys_input, and macro_to_delte\n",
    "    return macros_text, str(current_macros), \"\", \"\", \"\""
   ]
  },
  {
   "cell_type": "code",
   "execution_count": 3,
   "metadata": {},
   "outputs": [],
   "source": [
    "with gr.Blocks() as settings_page:\n",
    "    gr.Markdown(\"# Macro Setting\")\n",
    "    gr.Markdown(\"\"\"\n",
    "    Configure your audio command macros here. Enter a speech command, specify the keys it should trigger, and set the timing.\n",
    "    \"\"\")\n",
    "    \n",
    "    with gr.Row():\n",
    "        # Create a textbox for the speech command\n",
    "        action_input = gr.Textbox(label=\"Speech Command\") \n",
    "        # Create a textbox for the key\n",
    "        keys_input = gr.Textbox(label=\"Keys to Simulate\")\n",
    "\n",
    "    # Gets the macro the user wants to delete\n",
    "    macro_to_delete = gr.Textbox(label=\"Type the Speech Command to Delete\")\n",
    "    # Creates a button to update or add the new settings\n",
    "    update_btn = gr.Button(\"Update/Add Macro\") \n",
    "    \n",
    "    # Display for the current macros\n",
    "    current_macros_display = gr.Textbox(label=\"Current Macros\", value=\"\", lines=10, interactive=False) \n",
    "    macros_state = gr.State('{}')\n",
    "    # Runs when the button is clicked updating the current macros display\n",
    "    update_btn.click(update_macros, \n",
    "                     inputs=[action_input, keys_input,macro_to_delete, macros_state], \n",
    "                     outputs=[current_macros_display, macros_state, action_input, keys_input, macro_to_delete])\n"
   ]
  },
  {
   "cell_type": "code",
   "execution_count": 4,
   "metadata": {},
   "outputs": [
    {
     "name": "stdout",
     "output_type": "stream",
     "text": [
      "Running on local URL:  http://127.0.0.1:7860\n",
      "\n",
      "To create a public link, set `share=True` in `launch()`.\n"
     ]
    },
    {
     "data": {
      "text/html": [
       "<div><iframe src=\"http://127.0.0.1:7860/\" width=\"100%\" height=\"500\" allow=\"autoplay; camera; microphone; clipboard-read; clipboard-write;\" frameborder=\"0\" allowfullscreen></iframe></div>"
      ],
      "text/plain": [
       "<IPython.core.display.HTML object>"
      ]
     },
     "metadata": {},
     "output_type": "display_data"
    },
    {
     "data": {
      "text/plain": []
     },
     "execution_count": 4,
     "metadata": {},
     "output_type": "execute_result"
    }
   ],
   "source": [
    "settings_page.launch()"
   ]
  }
 ],
 "metadata": {
  "kernelspec": {
   "display_name": "aim",
   "language": "python",
   "name": "python3"
  },
  "language_info": {
   "codemirror_mode": {
    "name": "ipython",
    "version": 3
   },
   "file_extension": ".py",
   "mimetype": "text/x-python",
   "name": "python",
   "nbconvert_exporter": "python",
   "pygments_lexer": "ipython3",
   "version": "3.11.7"
  }
 },
 "nbformat": 4,
 "nbformat_minor": 2
}
