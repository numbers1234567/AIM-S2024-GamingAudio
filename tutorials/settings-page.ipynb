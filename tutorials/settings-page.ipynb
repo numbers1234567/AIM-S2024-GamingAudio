{
 "cells": [
  {
   "cell_type": "code",
   "execution_count": 22,
   "metadata": {},
   "outputs": [],
   "source": [
    "import gradio as gr\n",
    "import ast\n",
    "from pynput import keyboard\n",
    "import json\n",
    "import os"
   ]
  },
  {
   "cell_type": "code",
   "execution_count": 23,
   "metadata": {},
   "outputs": [],
   "source": [
    "# File path for the macros\n",
    "macros_file_path = 'macros.json'"
   ]
  },
  {
   "cell_type": "code",
   "execution_count": 24,
   "metadata": {},
   "outputs": [],
   "source": [
    "def update_macros(action, keys, macro_to_delete, timing, current_macros):\n",
    "    # Check if current_macros is a string representation of a dictionary, and convert it if so\n",
    "    if isinstance(current_macros, str) and current_macros.strip():\n",
    "        # Safely convert the string representation back to a dictionary\n",
    "        current_macros = ast.literal_eval(current_macros)\n",
    "    else:\n",
    "        # Initialize as an empty dictionary if not a valid string representation\n",
    "        current_macros = {}\n",
    "    \n",
    "    # Check if a user entered a macro to delete\n",
    "    if macro_to_delete and macro_to_delete in current_macros:\n",
    "        del current_macros[macro_to_delete]  \n",
    "    elif action and keys:  # Ensure non-empty input\n",
    "        # Update or add the macro definition\n",
    "        newlist = key_name.copy()\n",
    "        key_codes = [str(i) for i in key_list.copy()]\n",
    "        current_macros[action] = {\n",
    "            'name': action,\n",
    "            'char_keys': newlist,\n",
    "            'keycodes': [key_codes],  # Store virtual key codes\n",
    "            'delay': timing\n",
    "        }\n",
    "        # current_macros[action] = {'keys': newkey, 'timing': timing}\n",
    "    # Format the macros for display in a readable format\n",
    "    macros_text = \"\"\n",
    "    for act, vals in current_macros.items():\n",
    "        macros_text += f\"{act}\\t\\t=>\\t\\t{vals['char_keys']}\\t\\t({vals['delay']} second delay)\\n\"\n",
    "\n",
    "    clear_list()\n",
    "    \n",
    "    # Check if the file exists\n",
    "    if not os.path.exists(macros_file_path):\n",
    "        # If not, create an empty macros file with the basic structure\n",
    "        with open(macros_file_path, 'w') as file:\n",
    "            json.dump({\"macros\": []}, file, indent=4)\n",
    "        macros = {}\n",
    "    else:\n",
    "        # If it exists, load the existing macros\n",
    "        with open(macros_file_path, 'r') as file:\n",
    "            data = json.load(file)\n",
    "            macros = {macro['name']: macro for macro in data.get(\"macros\", [])}\n",
    "    # Save the updated macros to a JSON file\n",
    "    with open(macros_file_path, 'w') as file:\n",
    "        json.dump({\"macros\": list(current_macros.values())}, file, indent=4)\n",
    "\n",
    "    # Return both the formatted string for display and the updated macros dictionary, Clear the display for action_input, keys_input, and macro_to_delte\n",
    "    return macros_text, str(current_macros), \"\", \"\", 0, \"Keys to Simulate\""
   ]
  },
  {
   "cell_type": "code",
   "execution_count": 25,
   "metadata": {},
   "outputs": [],
   "source": [
    "key_list = []\n",
    "key_name = []\n",
    "\n",
    "\n",
    "def read_keys():\n",
    "    def on_press(key):\n",
    "        \n",
    "        try:\n",
    "            print('alphanumeric key {0} pressed'.format(key.char))\n",
    "            if key == keyboard.Key.esc:\n",
    "                return False\n",
    "        except AttributeError:\n",
    "            print('special key {0} pressed'.format(key))\n",
    "        \n",
    "    def on_release(key):\n",
    "        try:\n",
    "            key_list.append(key.char)\n",
    "            key_name.append(key.char)\n",
    "        except AttributeError:\n",
    "            if key == keyboard.Key.esc:\n",
    "                return False\n",
    "            key_str = getattr(key, 'name', str(key))\n",
    "            key_list.append(key.value)\n",
    "            key_name.append(key_str)\n",
    "        print(key_list)\n",
    "    with keyboard.Listener(\n",
    "        on_press=on_press,\n",
    "        on_release=on_release) as listener:\n",
    "        listener.join()\n",
    "\n",
    "    return \"Ended Recording\"\n",
    "\n",
    "def clear_list():\n",
    "    key_list.clear()\n",
    "    key_name.clear()\n"
   ]
  },
  {
   "cell_type": "code",
   "execution_count": 26,
   "metadata": {},
   "outputs": [],
   "source": [
    "def update_key_btn():\n",
    "    return \"Now Recording Press The 'esc' Key To Stop\""
   ]
  },
  {
   "cell_type": "code",
   "execution_count": 27,
   "metadata": {},
   "outputs": [],
   "source": [
    "with gr.Blocks() as settings_page:\n",
    "    gr.Markdown(\"# Macro Setting\")\n",
    "    gr.Markdown(\"\"\"\n",
    "    Configure your audio command macros here. Enter a speech command, enter your key sequence, and set the timing.\n",
    "    \"\"\")\n",
    "\n",
    "    with gr.Row():\n",
    "        # Create a textbox for the speech command\n",
    "        action_input = gr.Textbox(label=\"Speech Command\") \n",
    "        delays_input = gr.Slider(minimum=0, maximum=5, step= 0.1, label=\"Delays Between Each KeyPress\")\n",
    "        # Create a textbox for the key\n",
    "        keys_input = gr.Button(\"Keys to Simulate\")\n",
    "\n",
    "    # Gets the macro the user wants to delete\n",
    "    macro_to_delete = gr.Textbox(label=\"Type the Speech Command to Delete\")\n",
    "    # Creates a button to update or add the new settings\n",
    "    update_btn = gr.Button(\"Update/Add Macro\") \n",
    "    \n",
    "    # Display for the current macros\n",
    "    current_macros_display = gr.Textbox(label=\"Current Macros\", value=\"\", lines=10, interactive=False) \n",
    "    macros_state = gr.State('{}')\n",
    "    # Runs when the button is clicked updating the current macros display\n",
    "    keys_input.click(update_key_btn, outputs=keys_input)\n",
    "    keys_input.click(read_keys, outputs=keys_input)\n",
    "    update_btn.click(update_macros, \n",
    "                     inputs=[action_input, keys_input,macro_to_delete, delays_input, macros_state], \n",
    "                     outputs=[current_macros_display, macros_state, action_input, macro_to_delete, delays_input, keys_input])\n"
   ]
  },
  {
   "cell_type": "code",
   "execution_count": 28,
   "metadata": {},
   "outputs": [
    {
     "name": "stdout",
     "output_type": "stream",
     "text": [
      "Running on local URL:  http://127.0.0.1:7863\n",
      "\n",
      "To create a public link, set `share=True` in `launch()`.\n"
     ]
    },
    {
     "data": {
      "text/html": [
       "<div><iframe src=\"http://127.0.0.1:7863/\" width=\"100%\" height=\"500\" allow=\"autoplay; camera; microphone; clipboard-read; clipboard-write;\" frameborder=\"0\" allowfullscreen></iframe></div>"
      ],
      "text/plain": [
       "<IPython.core.display.HTML object>"
      ]
     },
     "metadata": {},
     "output_type": "display_data"
    },
    {
     "data": {
      "text/plain": []
     },
     "execution_count": 28,
     "metadata": {},
     "output_type": "execute_result"
    },
    {
     "name": "stdout",
     "output_type": "stream",
     "text": [
      "special key Key.ctrl_l pressed\n",
      "alphanumeric key \u0003 pressed\n",
      "['\\x03']\n",
      "['\\x03', <162>]\n",
      "special key Key.esc pressed\n",
      "special key Key.ctrl_l pressed\n",
      "[<162>]\n",
      "alphanumeric key c pressed\n",
      "[<162>, 'c']\n",
      "special key Key.esc pressed\n",
      "special key Key.ctrl_l pressed\n",
      "alphanumeric key \u0016 pressed\n",
      "[<162>]\n",
      "[<162>, 'v']\n",
      "special key Key.esc pressed\n"
     ]
    }
   ],
   "source": [
    "settings_page.launch()"
   ]
  }
 ],
 "metadata": {
  "kernelspec": {
   "display_name": "Python 3",
   "language": "python",
   "name": "python3"
  },
  "language_info": {
   "codemirror_mode": {
    "name": "ipython",
    "version": 3
   },
   "file_extension": ".py",
   "mimetype": "text/x-python",
   "name": "python",
   "nbconvert_exporter": "python",
   "pygments_lexer": "ipython3",
   "version": "3.11.7"
  }
 },
 "nbformat": 4,
 "nbformat_minor": 2
}
